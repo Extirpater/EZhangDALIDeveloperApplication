{
 "cells": [
  {
   "cell_type": "markdown",
   "id": "e9957002",
   "metadata": {
    "papermill": {
     "duration": 0.007732,
     "end_time": "2024-02-19T04:41:32.203168",
     "exception": false,
     "start_time": "2024-02-19T04:41:32.195436",
     "status": "completed"
    },
    "tags": []
   },
   "source": [
    "# Amazon Reviews Sentiment Anslysis w/ Bert\n",
    "By: Edward Zhang"
   ]
  },
  {
   "cell_type": "code",
   "execution_count": 1,
   "id": "452cf953",
   "metadata": {
    "_cell_guid": "b1076dfc-b9ad-4769-8c92-a6c4dae69d19",
    "_uuid": "8f2839f25d086af736a60e9eeb907d3b93b6e0e5",
    "execution": {
     "iopub.execute_input": "2024-02-19T04:41:32.218838Z",
     "iopub.status.busy": "2024-02-19T04:41:32.218534Z",
     "iopub.status.idle": "2024-02-19T04:41:33.049016Z",
     "shell.execute_reply": "2024-02-19T04:41:33.048149Z"
    },
    "papermill": {
     "duration": 0.840945,
     "end_time": "2024-02-19T04:41:33.051293",
     "exception": false,
     "start_time": "2024-02-19T04:41:32.210348",
     "status": "completed"
    },
    "tags": []
   },
   "outputs": [
    {
     "name": "stdout",
     "output_type": "stream",
     "text": [
      "/kaggle/input/dalidevchallenge/amazon-neg.txt\n",
      "/kaggle/input/dalidevchallenge/Sample - Superstore.csv\n",
      "/kaggle/input/dalidevchallenge/amazon-pos.txt\n"
     ]
    }
   ],
   "source": [
    "import numpy as np # linear algebra\n",
    "import pandas as pd # data processing, CSV file I/O (e.g. pd.read_csv)\n",
    "\n",
    "import os\n",
    "for dirname, _, filenames in os.walk('/kaggle/input'):\n",
    "    for filename in filenames:\n",
    "        print(os.path.join(dirname, filename))"
   ]
  },
  {
   "cell_type": "code",
   "execution_count": 2,
   "id": "93f03889",
   "metadata": {
    "execution": {
     "iopub.execute_input": "2024-02-19T04:41:33.067748Z",
     "iopub.status.busy": "2024-02-19T04:41:33.067371Z",
     "iopub.status.idle": "2024-02-19T04:41:53.087886Z",
     "shell.execute_reply": "2024-02-19T04:41:53.087074Z"
    },
    "papermill": {
     "duration": 20.031747,
     "end_time": "2024-02-19T04:41:53.090597",
     "exception": false,
     "start_time": "2024-02-19T04:41:33.058850",
     "status": "completed"
    },
    "tags": []
   },
   "outputs": [
    {
     "name": "stderr",
     "output_type": "stream",
     "text": [
      "2024-02-19 04:41:35.098290: E external/local_xla/xla/stream_executor/cuda/cuda_dnn.cc:9261] Unable to register cuDNN factory: Attempting to register factory for plugin cuDNN when one has already been registered\n",
      "2024-02-19 04:41:35.098410: E external/local_xla/xla/stream_executor/cuda/cuda_fft.cc:607] Unable to register cuFFT factory: Attempting to register factory for plugin cuFFT when one has already been registered\n",
      "2024-02-19 04:41:35.234013: E external/local_xla/xla/stream_executor/cuda/cuda_blas.cc:1515] Unable to register cuBLAS factory: Attempting to register factory for plugin cuBLAS when one has already been registered\n"
     ]
    }
   ],
   "source": [
    "import tensorflow as tf\n",
    "from transformers import BertTokenizer, TFBertForSequenceClassification\n",
    "from bs4 import BeautifulSoup\n",
    "import matplotlib.pyplot as plt\n",
    "from sklearn.model_selection import train_test_split"
   ]
  },
  {
   "cell_type": "code",
   "execution_count": 3,
   "id": "dd00efa9",
   "metadata": {
    "execution": {
     "iopub.execute_input": "2024-02-19T04:41:53.108435Z",
     "iopub.status.busy": "2024-02-19T04:41:53.107853Z",
     "iopub.status.idle": "2024-02-19T04:41:53.122192Z",
     "shell.execute_reply": "2024-02-19T04:41:53.121362Z"
    },
    "papermill": {
     "duration": 0.025499,
     "end_time": "2024-02-19T04:41:53.124320",
     "exception": false,
     "start_time": "2024-02-19T04:41:53.098821",
     "status": "completed"
    },
    "tags": []
   },
   "outputs": [],
   "source": [
    "file_name_pos = \"/kaggle/input/dalidevchallenge/amazon-pos.txt\"\n",
    "my_file = open(file_name_pos, \"r\") \n",
    "data = my_file.read() \n",
    "data_into_list = data.replace('\\n', ' ').split(\".\")\n",
    "my_file.close() \n",
    "pos_data = data_into_list\n",
    "#pos_data = [i.strip() for i in data_into_list]\n",
    "file_name_neg = \"/kaggle/input/dalidevchallenge/amazon-neg.txt\"\n",
    "my_file = open(file_name_neg, \"r\") \n",
    "data = my_file.read() \n",
    "data_into_list = data.replace('\\n', ' ').split(\".\")\n",
    "my_file.close() \n",
    "neg_data = data_into_list\n",
    "#neg_data = [i.strip() for i in data_into_list]"
   ]
  },
  {
   "cell_type": "code",
   "execution_count": 4,
   "id": "6dff2396",
   "metadata": {
    "execution": {
     "iopub.execute_input": "2024-02-19T04:41:53.141069Z",
     "iopub.status.busy": "2024-02-19T04:41:53.140767Z",
     "iopub.status.idle": "2024-02-19T04:41:53.146976Z",
     "shell.execute_reply": "2024-02-19T04:41:53.146077Z"
    },
    "papermill": {
     "duration": 0.017061,
     "end_time": "2024-02-19T04:41:53.149170",
     "exception": false,
     "start_time": "2024-02-19T04:41:53.132109",
     "status": "completed"
    },
    "tags": []
   },
   "outputs": [
    {
     "data": {
      "text/plain": [
       "' But i guess can be long for corporate finance Good money'"
      ]
     },
     "execution_count": 4,
     "metadata": {},
     "output_type": "execute_result"
    }
   ],
   "source": [
    "pos_data[4]"
   ]
  },
  {
   "cell_type": "code",
   "execution_count": 5,
   "id": "57270390",
   "metadata": {
    "execution": {
     "iopub.execute_input": "2024-02-19T04:41:53.165521Z",
     "iopub.status.busy": "2024-02-19T04:41:53.165247Z",
     "iopub.status.idle": "2024-02-19T04:41:53.170356Z",
     "shell.execute_reply": "2024-02-19T04:41:53.169528Z"
    },
    "papermill": {
     "duration": 0.015393,
     "end_time": "2024-02-19T04:41:53.172196",
     "exception": false,
     "start_time": "2024-02-19T04:41:53.156803",
     "status": "completed"
    },
    "tags": []
   },
   "outputs": [
    {
     "data": {
      "text/plain": [
       "' But i guess can be long for corporate finance Good money'"
      ]
     },
     "execution_count": 5,
     "metadata": {},
     "output_type": "execute_result"
    }
   ],
   "source": [
    "pos_data[4]"
   ]
  },
  {
   "cell_type": "code",
   "execution_count": 6,
   "id": "db072f14",
   "metadata": {
    "execution": {
     "iopub.execute_input": "2024-02-19T04:41:53.188205Z",
     "iopub.status.busy": "2024-02-19T04:41:53.187740Z",
     "iopub.status.idle": "2024-02-19T04:41:53.192883Z",
     "shell.execute_reply": "2024-02-19T04:41:53.192085Z"
    },
    "papermill": {
     "duration": 0.015021,
     "end_time": "2024-02-19T04:41:53.194748",
     "exception": false,
     "start_time": "2024-02-19T04:41:53.179727",
     "status": "completed"
    },
    "tags": []
   },
   "outputs": [
    {
     "data": {
      "text/plain": [
       "\"  didn't last quite long enough  Opportunity takes time up to two plus years!  Long hours with only two 15 minute breaks and half hour lunch, so to have to stand on concrete without being able to sit is hard\""
      ]
     },
     "execution_count": 6,
     "metadata": {},
     "output_type": "execute_result"
    }
   ],
   "source": [
    "neg_data[7]"
   ]
  },
  {
   "cell_type": "code",
   "execution_count": 7,
   "id": "cf094e33",
   "metadata": {
    "execution": {
     "iopub.execute_input": "2024-02-19T04:41:53.211889Z",
     "iopub.status.busy": "2024-02-19T04:41:53.211624Z",
     "iopub.status.idle": "2024-02-19T04:41:53.235601Z",
     "shell.execute_reply": "2024-02-19T04:41:53.234741Z"
    },
    "papermill": {
     "duration": 0.034307,
     "end_time": "2024-02-19T04:41:53.237526",
     "exception": false,
     "start_time": "2024-02-19T04:41:53.203219",
     "status": "completed"
    },
    "tags": []
   },
   "outputs": [],
   "source": [
    "pos_df = pd.DataFrame(pos_data, columns=['review'])\n",
    "pos_df = pos_df.assign(sentiment=[1]*len(pos_data))\n",
    "neg_df = pd.DataFrame(neg_data, columns=['review'])\n",
    "neg_df = neg_df.assign(sentiment=[0]*len(neg_data))"
   ]
  },
  {
   "cell_type": "code",
   "execution_count": 8,
   "id": "249599d9",
   "metadata": {
    "execution": {
     "iopub.execute_input": "2024-02-19T04:41:53.254192Z",
     "iopub.status.busy": "2024-02-19T04:41:53.253755Z",
     "iopub.status.idle": "2024-02-19T04:41:53.265737Z",
     "shell.execute_reply": "2024-02-19T04:41:53.264900Z"
    },
    "papermill": {
     "duration": 0.022284,
     "end_time": "2024-02-19T04:41:53.267617",
     "exception": false,
     "start_time": "2024-02-19T04:41:53.245333",
     "status": "completed"
    },
    "tags": []
   },
   "outputs": [
    {
     "data": {
      "text/html": [
       "<div>\n",
       "<style scoped>\n",
       "    .dataframe tbody tr th:only-of-type {\n",
       "        vertical-align: middle;\n",
       "    }\n",
       "\n",
       "    .dataframe tbody tr th {\n",
       "        vertical-align: top;\n",
       "    }\n",
       "\n",
       "    .dataframe thead th {\n",
       "        text-align: right;\n",
       "    }\n",
       "</style>\n",
       "<table border=\"1\" class=\"dataframe\">\n",
       "  <thead>\n",
       "    <tr style=\"text-align: right;\">\n",
       "      <th></th>\n",
       "      <th>review</th>\n",
       "      <th>sentiment</th>\n",
       "    </tr>\n",
       "  </thead>\n",
       "  <tbody>\n",
       "    <tr>\n",
       "      <th>0</th>\n",
       "      <td>You're surrounded by smart people and the proj...</td>\n",
       "      <td>1</td>\n",
       "    </tr>\n",
       "    <tr>\n",
       "      <th>1</th>\n",
       "      <td>Brand name is great</td>\n",
       "      <td>1</td>\n",
       "    </tr>\n",
       "    <tr>\n",
       "      <th>2</th>\n",
       "      <td>Have yet to meet somebody who is unfamiliar w...</td>\n",
       "      <td>1</td>\n",
       "    </tr>\n",
       "    <tr>\n",
       "      <th>3</th>\n",
       "      <td>Hours weren't as bad as I had previously heard</td>\n",
       "      <td>1</td>\n",
       "    </tr>\n",
       "    <tr>\n",
       "      <th>4</th>\n",
       "      <td>But i guess can be long for corporate finance...</td>\n",
       "      <td>1</td>\n",
       "    </tr>\n",
       "  </tbody>\n",
       "</table>\n",
       "</div>"
      ],
      "text/plain": [
       "                                              review  sentiment\n",
       "0  You're surrounded by smart people and the proj...          1\n",
       "1                                Brand name is great          1\n",
       "2   Have yet to meet somebody who is unfamiliar w...          1\n",
       "3     Hours weren't as bad as I had previously heard          1\n",
       "4   But i guess can be long for corporate finance...          1"
      ]
     },
     "execution_count": 8,
     "metadata": {},
     "output_type": "execute_result"
    }
   ],
   "source": [
    "pos_df.head()"
   ]
  },
  {
   "cell_type": "code",
   "execution_count": 9,
   "id": "39008ad1",
   "metadata": {
    "execution": {
     "iopub.execute_input": "2024-02-19T04:41:53.284572Z",
     "iopub.status.busy": "2024-02-19T04:41:53.284284Z",
     "iopub.status.idle": "2024-02-19T04:41:53.292508Z",
     "shell.execute_reply": "2024-02-19T04:41:53.291571Z"
    },
    "papermill": {
     "duration": 0.018886,
     "end_time": "2024-02-19T04:41:53.294413",
     "exception": false,
     "start_time": "2024-02-19T04:41:53.275527",
     "status": "completed"
    },
    "tags": []
   },
   "outputs": [
    {
     "data": {
      "text/html": [
       "<div>\n",
       "<style scoped>\n",
       "    .dataframe tbody tr th:only-of-type {\n",
       "        vertical-align: middle;\n",
       "    }\n",
       "\n",
       "    .dataframe tbody tr th {\n",
       "        vertical-align: top;\n",
       "    }\n",
       "\n",
       "    .dataframe thead th {\n",
       "        text-align: right;\n",
       "    }\n",
       "</style>\n",
       "<table border=\"1\" class=\"dataframe\">\n",
       "  <thead>\n",
       "    <tr style=\"text-align: right;\">\n",
       "      <th></th>\n",
       "      <th>review</th>\n",
       "      <th>sentiment</th>\n",
       "    </tr>\n",
       "  </thead>\n",
       "  <tbody>\n",
       "    <tr>\n",
       "      <th>0</th>\n",
       "      <td>Internal tools proliferation has created a mes...</td>\n",
       "      <td>0</td>\n",
       "    </tr>\n",
       "    <tr>\n",
       "      <th>1</th>\n",
       "      <td>Most people are required to learn/understand ...</td>\n",
       "      <td>0</td>\n",
       "    </tr>\n",
       "    <tr>\n",
       "      <th>2</th>\n",
       "      <td>not the most stimulating work</td>\n",
       "      <td>0</td>\n",
       "    </tr>\n",
       "    <tr>\n",
       "      <th>3</th>\n",
       "      <td>Good brand name to work for but the work itse...</td>\n",
       "      <td>0</td>\n",
       "    </tr>\n",
       "    <tr>\n",
       "      <th>4</th>\n",
       "      <td>As a financial analyst you do very little fin...</td>\n",
       "      <td>0</td>\n",
       "    </tr>\n",
       "  </tbody>\n",
       "</table>\n",
       "</div>"
      ],
      "text/plain": [
       "                                              review  sentiment\n",
       "0  Internal tools proliferation has created a mes...          0\n",
       "1   Most people are required to learn/understand ...          0\n",
       "2                      not the most stimulating work          0\n",
       "3   Good brand name to work for but the work itse...          0\n",
       "4   As a financial analyst you do very little fin...          0"
      ]
     },
     "execution_count": 9,
     "metadata": {},
     "output_type": "execute_result"
    }
   ],
   "source": [
    "neg_df.head()"
   ]
  },
  {
   "cell_type": "code",
   "execution_count": 10,
   "id": "ae2a09dc",
   "metadata": {
    "execution": {
     "iopub.execute_input": "2024-02-19T04:41:53.311755Z",
     "iopub.status.busy": "2024-02-19T04:41:53.311495Z",
     "iopub.status.idle": "2024-02-19T04:41:53.316548Z",
     "shell.execute_reply": "2024-02-19T04:41:53.315813Z"
    },
    "papermill": {
     "duration": 0.015997,
     "end_time": "2024-02-19T04:41:53.318379",
     "exception": false,
     "start_time": "2024-02-19T04:41:53.302382",
     "status": "completed"
    },
    "tags": []
   },
   "outputs": [],
   "source": [
    "combined_data = pd.concat([pos_df,neg_df])"
   ]
  },
  {
   "cell_type": "code",
   "execution_count": 11,
   "id": "ae76eabf",
   "metadata": {
    "execution": {
     "iopub.execute_input": "2024-02-19T04:41:53.336247Z",
     "iopub.status.busy": "2024-02-19T04:41:53.335502Z",
     "iopub.status.idle": "2024-02-19T04:41:53.347475Z",
     "shell.execute_reply": "2024-02-19T04:41:53.346654Z"
    },
    "papermill": {
     "duration": 0.023022,
     "end_time": "2024-02-19T04:41:53.349363",
     "exception": false,
     "start_time": "2024-02-19T04:41:53.326341",
     "status": "completed"
    },
    "tags": []
   },
   "outputs": [],
   "source": [
    "combined_data = combined_data.sample(frac=1)\n"
   ]
  },
  {
   "cell_type": "code",
   "execution_count": 12,
   "id": "26dfd334",
   "metadata": {
    "execution": {
     "iopub.execute_input": "2024-02-19T04:41:53.366134Z",
     "iopub.status.busy": "2024-02-19T04:41:53.365841Z",
     "iopub.status.idle": "2024-02-19T04:41:53.376936Z",
     "shell.execute_reply": "2024-02-19T04:41:53.376270Z"
    },
    "papermill": {
     "duration": 0.021654,
     "end_time": "2024-02-19T04:41:53.378916",
     "exception": false,
     "start_time": "2024-02-19T04:41:53.357262",
     "status": "completed"
    },
    "tags": []
   },
   "outputs": [],
   "source": [
    "train=combined_data.sample(frac=0.8,random_state=200)\n",
    "test=combined_data.drop(train.index)"
   ]
  },
  {
   "cell_type": "code",
   "execution_count": 13,
   "id": "a2c34f5f",
   "metadata": {
    "execution": {
     "iopub.execute_input": "2024-02-19T04:41:53.396010Z",
     "iopub.status.busy": "2024-02-19T04:41:53.395759Z",
     "iopub.status.idle": "2024-02-19T04:41:53.402386Z",
     "shell.execute_reply": "2024-02-19T04:41:53.401567Z"
    },
    "papermill": {
     "duration": 0.017084,
     "end_time": "2024-02-19T04:41:53.404173",
     "exception": false,
     "start_time": "2024-02-19T04:41:53.387089",
     "status": "completed"
    },
    "tags": []
   },
   "outputs": [],
   "source": [
    "train_y = train[\"sentiment\"]\n",
    "train_x = train.drop(\"sentiment\", axis = 1)\n",
    "\n",
    "test_y = test[\"sentiment\"]\n",
    "test_x = test.drop(\"sentiment\", axis = 1)"
   ]
  },
  {
   "cell_type": "code",
   "execution_count": 14,
   "id": "a0df7bee",
   "metadata": {
    "execution": {
     "iopub.execute_input": "2024-02-19T04:41:53.420886Z",
     "iopub.status.busy": "2024-02-19T04:41:53.420650Z",
     "iopub.status.idle": "2024-02-19T04:41:53.427830Z",
     "shell.execute_reply": "2024-02-19T04:41:53.427157Z"
    },
    "papermill": {
     "duration": 0.017765,
     "end_time": "2024-02-19T04:41:53.429853",
     "exception": false,
     "start_time": "2024-02-19T04:41:53.412088",
     "status": "completed"
    },
    "tags": []
   },
   "outputs": [],
   "source": [
    "x_test, x_val, y_test, y_val = train_test_split(test_x,\n",
    "                                                    test_y,\n",
    "                                                    test_size=0.2\n",
    "                                                    )"
   ]
  },
  {
   "cell_type": "markdown",
   "id": "4af54d9d",
   "metadata": {
    "papermill": {
     "duration": 0.00794,
     "end_time": "2024-02-19T04:41:53.446089",
     "exception": false,
     "start_time": "2024-02-19T04:41:53.438149",
     "status": "completed"
    },
    "tags": []
   },
   "source": [
    "# Bert"
   ]
  },
  {
   "cell_type": "code",
   "execution_count": 15,
   "id": "d765d98f",
   "metadata": {
    "execution": {
     "iopub.execute_input": "2024-02-19T04:41:53.463000Z",
     "iopub.status.busy": "2024-02-19T04:41:53.462729Z",
     "iopub.status.idle": "2024-02-19T04:41:54.622612Z",
     "shell.execute_reply": "2024-02-19T04:41:54.621667Z"
    },
    "papermill": {
     "duration": 1.17049,
     "end_time": "2024-02-19T04:41:54.624618",
     "exception": false,
     "start_time": "2024-02-19T04:41:53.454128",
     "status": "completed"
    },
    "tags": []
   },
   "outputs": [
    {
     "data": {
      "application/vnd.jupyter.widget-view+json": {
       "model_id": "bc012732ec1c43579c75ee9a2428ec6c",
       "version_major": 2,
       "version_minor": 0
      },
      "text/plain": [
       "tokenizer_config.json:   0%|          | 0.00/28.0 [00:00<?, ?B/s]"
      ]
     },
     "metadata": {},
     "output_type": "display_data"
    },
    {
     "data": {
      "application/vnd.jupyter.widget-view+json": {
       "model_id": "35f5bfaa46184559b80f8d45908c73f3",
       "version_major": 2,
       "version_minor": 0
      },
      "text/plain": [
       "vocab.txt:   0%|          | 0.00/232k [00:00<?, ?B/s]"
      ]
     },
     "metadata": {},
     "output_type": "display_data"
    },
    {
     "data": {
      "application/vnd.jupyter.widget-view+json": {
       "model_id": "cd82bf23c0414ddfab0f9fa0738b4785",
       "version_major": 2,
       "version_minor": 0
      },
      "text/plain": [
       "tokenizer.json:   0%|          | 0.00/466k [00:00<?, ?B/s]"
      ]
     },
     "metadata": {},
     "output_type": "display_data"
    },
    {
     "data": {
      "application/vnd.jupyter.widget-view+json": {
       "model_id": "6a99056a149a4f5e9e895ef6d4606db2",
       "version_major": 2,
       "version_minor": 0
      },
      "text/plain": [
       "config.json:   0%|          | 0.00/570 [00:00<?, ?B/s]"
      ]
     },
     "metadata": {},
     "output_type": "display_data"
    },
    {
     "data": {
      "text/plain": [
       "BertTokenizer(name_or_path='bert-base-uncased', vocab_size=30522, model_max_length=512, is_fast=False, padding_side='right', truncation_side='right', special_tokens={'unk_token': '[UNK]', 'sep_token': '[SEP]', 'pad_token': '[PAD]', 'cls_token': '[CLS]', 'mask_token': '[MASK]'}, clean_up_tokenization_spaces=True),  added_tokens_decoder={\n",
       "\t0: AddedToken(\"[PAD]\", rstrip=False, lstrip=False, single_word=False, normalized=False, special=True),\n",
       "\t100: AddedToken(\"[UNK]\", rstrip=False, lstrip=False, single_word=False, normalized=False, special=True),\n",
       "\t101: AddedToken(\"[CLS]\", rstrip=False, lstrip=False, single_word=False, normalized=False, special=True),\n",
       "\t102: AddedToken(\"[SEP]\", rstrip=False, lstrip=False, single_word=False, normalized=False, special=True),\n",
       "\t103: AddedToken(\"[MASK]\", rstrip=False, lstrip=False, single_word=False, normalized=False, special=True),\n",
       "}"
      ]
     },
     "execution_count": 15,
     "metadata": {},
     "output_type": "execute_result"
    }
   ],
   "source": [
    "from transformers import BertTokenizer\n",
    "model_id = \"bert-base-uncased\"\n",
    "token = BertTokenizer.from_pretrained(model_id)\n",
    "token"
   ]
  },
  {
   "cell_type": "code",
   "execution_count": 16,
   "id": "99ce9dd0",
   "metadata": {
    "execution": {
     "iopub.execute_input": "2024-02-19T04:41:54.644314Z",
     "iopub.status.busy": "2024-02-19T04:41:54.643525Z",
     "iopub.status.idle": "2024-02-19T04:41:54.778013Z",
     "shell.execute_reply": "2024-02-19T04:41:54.777071Z"
    },
    "papermill": {
     "duration": 0.14687,
     "end_time": "2024-02-19T04:41:54.780660",
     "exception": false,
     "start_time": "2024-02-19T04:41:54.633790",
     "status": "completed"
    },
    "tags": []
   },
   "outputs": [],
   "source": [
    "tokenizer = BertTokenizer.from_pretrained('bert-base-uncased', do_lower_case=True)\n"
   ]
  },
  {
   "cell_type": "code",
   "execution_count": 17,
   "id": "9021a3a0",
   "metadata": {
    "execution": {
     "iopub.execute_input": "2024-02-19T04:41:54.799776Z",
     "iopub.status.busy": "2024-02-19T04:41:54.799484Z",
     "iopub.status.idle": "2024-02-19T04:41:56.214182Z",
     "shell.execute_reply": "2024-02-19T04:41:56.213091Z"
    },
    "papermill": {
     "duration": 1.426941,
     "end_time": "2024-02-19T04:41:56.216605",
     "exception": false,
     "start_time": "2024-02-19T04:41:54.789664",
     "status": "completed"
    },
    "tags": []
   },
   "outputs": [],
   "source": [
    "X_train_encoded = tokenizer.batch_encode_plus(train_x[\"review\"].tolist(),\n",
    "                                              padding=True, \n",
    "                                              truncation=True,\n",
    "                                              return_tensors='tf')\n",
    " \n",
    "X_val_encoded = tokenizer.batch_encode_plus(x_val[\"review\"].tolist(), \n",
    "                                              padding=True, \n",
    "                                              truncation=True,\n",
    "                                              return_tensors='tf')\n",
    " \n",
    "X_test_encoded = tokenizer.batch_encode_plus(x_test[\"review\"].tolist(), \n",
    "                                              padding=True, \n",
    "                                              truncation=True,\n",
    "                                              return_tensors='tf')"
   ]
  },
  {
   "cell_type": "code",
   "execution_count": 18,
   "id": "ae28cdcc",
   "metadata": {
    "execution": {
     "iopub.execute_input": "2024-02-19T04:41:56.236302Z",
     "iopub.status.busy": "2024-02-19T04:41:56.235944Z",
     "iopub.status.idle": "2024-02-19T04:42:01.148410Z",
     "shell.execute_reply": "2024-02-19T04:42:01.147627Z"
    },
    "papermill": {
     "duration": 4.924644,
     "end_time": "2024-02-19T04:42:01.150623",
     "exception": false,
     "start_time": "2024-02-19T04:41:56.225979",
     "status": "completed"
    },
    "tags": []
   },
   "outputs": [
    {
     "data": {
      "application/vnd.jupyter.widget-view+json": {
       "model_id": "e74b0e9b600d49afb3797c1f01299024",
       "version_major": 2,
       "version_minor": 0
      },
      "text/plain": [
       "model.safetensors:   0%|          | 0.00/440M [00:00<?, ?B/s]"
      ]
     },
     "metadata": {},
     "output_type": "display_data"
    },
    {
     "name": "stderr",
     "output_type": "stream",
     "text": [
      "All PyTorch model weights were used when initializing TFBertForSequenceClassification.\n",
      "\n",
      "Some weights or buffers of the TF 2.0 model TFBertForSequenceClassification were not initialized from the PyTorch model and are newly initialized: ['classifier.weight', 'classifier.bias']\n",
      "You should probably TRAIN this model on a down-stream task to be able to use it for predictions and inference.\n"
     ]
    }
   ],
   "source": [
    "model = TFBertForSequenceClassification.from_pretrained('bert-base-uncased', num_labels=2)\n"
   ]
  },
  {
   "cell_type": "code",
   "execution_count": 19,
   "id": "36949376",
   "metadata": {
    "execution": {
     "iopub.execute_input": "2024-02-19T04:42:01.170790Z",
     "iopub.status.busy": "2024-02-19T04:42:01.170484Z",
     "iopub.status.idle": "2024-02-19T04:42:01.196290Z",
     "shell.execute_reply": "2024-02-19T04:42:01.195397Z"
    },
    "papermill": {
     "duration": 0.03806,
     "end_time": "2024-02-19T04:42:01.198290",
     "exception": false,
     "start_time": "2024-02-19T04:42:01.160230",
     "status": "completed"
    },
    "tags": []
   },
   "outputs": [],
   "source": [
    "optimizer = tf.keras.optimizers.Adam(learning_rate=2e-5)\n",
    "loss = tf.keras.losses.SparseCategoricalCrossentropy(from_logits=True)\n",
    "metric = tf.keras.metrics.SparseCategoricalAccuracy('accuracy')\n",
    "model.compile(optimizer=optimizer, loss=loss, metrics=[metric])"
   ]
  },
  {
   "cell_type": "code",
   "execution_count": 20,
   "id": "69f55334",
   "metadata": {
    "execution": {
     "iopub.execute_input": "2024-02-19T04:42:01.218168Z",
     "iopub.status.busy": "2024-02-19T04:42:01.217879Z",
     "iopub.status.idle": "2024-02-19T04:47:09.278845Z",
     "shell.execute_reply": "2024-02-19T04:47:09.277863Z"
    },
    "papermill": {
     "duration": 308.073444,
     "end_time": "2024-02-19T04:47:09.281133",
     "exception": false,
     "start_time": "2024-02-19T04:42:01.207689",
     "status": "completed"
    },
    "tags": []
   },
   "outputs": [
    {
     "name": "stdout",
     "output_type": "stream",
     "text": [
      "Epoch 1/10\n"
     ]
    },
    {
     "name": "stderr",
     "output_type": "stream",
     "text": [
      "WARNING: All log messages before absl::InitializeLog() is called are written to STDERR\n",
      "I0000 00:00:1708317756.101005      70 device_compiler.h:186] Compiled cluster using XLA!  This line is logged at most once for the lifetime of the process.\n"
     ]
    },
    {
     "name": "stdout",
     "output_type": "stream",
     "text": [
      "34/34 [==============================] - 76s 803ms/step - loss: 0.6224 - accuracy: 0.6516 - val_loss: 0.4639 - val_accuracy: 0.8333\n",
      "Epoch 2/10\n",
      "34/34 [==============================] - 25s 719ms/step - loss: 0.4004 - accuracy: 0.8512 - val_loss: 0.5862 - val_accuracy: 0.5833\n",
      "Epoch 3/10\n",
      "34/34 [==============================] - 25s 733ms/step - loss: 0.3062 - accuracy: 0.8785 - val_loss: 0.3649 - val_accuracy: 0.7500\n",
      "Epoch 4/10\n",
      "34/34 [==============================] - 25s 741ms/step - loss: 0.2130 - accuracy: 0.9303 - val_loss: 0.4297 - val_accuracy: 0.7500\n",
      "Epoch 5/10\n",
      "34/34 [==============================] - 26s 752ms/step - loss: 0.1340 - accuracy: 0.9557 - val_loss: 0.3317 - val_accuracy: 0.7500\n",
      "Epoch 6/10\n",
      "34/34 [==============================] - 26s 759ms/step - loss: 0.0923 - accuracy: 0.9708 - val_loss: 0.2268 - val_accuracy: 0.8333\n",
      "Epoch 7/10\n",
      "34/34 [==============================] - 26s 773ms/step - loss: 0.0644 - accuracy: 0.9802 - val_loss: 0.5799 - val_accuracy: 0.7500\n",
      "Epoch 8/10\n",
      "34/34 [==============================] - 26s 780ms/step - loss: 0.0675 - accuracy: 0.9755 - val_loss: 0.6364 - val_accuracy: 0.7500\n",
      "Epoch 9/10\n",
      "34/34 [==============================] - 27s 784ms/step - loss: 0.1289 - accuracy: 0.9605 - val_loss: 0.0805 - val_accuracy: 1.0000\n",
      "Epoch 10/10\n",
      "34/34 [==============================] - 27s 780ms/step - loss: 0.0913 - accuracy: 0.9680 - val_loss: 0.3406 - val_accuracy: 0.8333\n"
     ]
    }
   ],
   "source": [
    "history = model.fit(\n",
    "    [X_train_encoded['input_ids'], X_train_encoded['token_type_ids'], X_train_encoded['attention_mask']],\n",
    "    train_y,\n",
    "    validation_data=(\n",
    "      [X_val_encoded['input_ids'], X_val_encoded['token_type_ids'], X_val_encoded['attention_mask']],y_val),\n",
    "    batch_size=32,\n",
    "    epochs=10\n",
    ")"
   ]
  },
  {
   "cell_type": "markdown",
   "id": "08f816c4",
   "metadata": {
    "papermill": {
     "duration": 0.045217,
     "end_time": "2024-02-19T04:47:09.365122",
     "exception": false,
     "start_time": "2024-02-19T04:47:09.319905",
     "status": "completed"
    },
    "tags": []
   },
   "source": [
    "# Inference"
   ]
  },
  {
   "cell_type": "code",
   "execution_count": 21,
   "id": "fbc73936",
   "metadata": {
    "execution": {
     "iopub.execute_input": "2024-02-19T04:47:09.445329Z",
     "iopub.status.busy": "2024-02-19T04:47:09.444930Z",
     "iopub.status.idle": "2024-02-19T04:47:12.826762Z",
     "shell.execute_reply": "2024-02-19T04:47:12.825997Z"
    },
    "papermill": {
     "duration": 3.425975,
     "end_time": "2024-02-19T04:47:12.828698",
     "exception": false,
     "start_time": "2024-02-19T04:47:09.402723",
     "status": "completed"
    },
    "tags": []
   },
   "outputs": [
    {
     "name": "stdout",
     "output_type": "stream",
     "text": [
      "2/2 [==============================] - 3s 89ms/step\n"
     ]
    }
   ],
   "source": [
    "pred = model.predict(\n",
    "    [X_test_encoded['input_ids'], X_test_encoded['token_type_ids'], X_test_encoded['attention_mask']])\n",
    " "
   ]
  },
  {
   "cell_type": "code",
   "execution_count": 22,
   "id": "cfb7c7bf",
   "metadata": {
    "execution": {
     "iopub.execute_input": "2024-02-19T04:47:12.905096Z",
     "iopub.status.busy": "2024-02-19T04:47:12.904788Z",
     "iopub.status.idle": "2024-02-19T04:47:12.913034Z",
     "shell.execute_reply": "2024-02-19T04:47:12.912018Z"
    },
    "papermill": {
     "duration": 0.048072,
     "end_time": "2024-02-19T04:47:12.914968",
     "exception": false,
     "start_time": "2024-02-19T04:47:12.866896",
     "status": "completed"
    },
    "tags": []
   },
   "outputs": [
    {
     "name": "stdout",
     "output_type": "stream",
     "text": [
      "Predicted Label : ['positive', 'positive', 'Negative', 'Negative', 'positive', 'Negative', 'positive', 'Negative', 'positive', 'Negative']\n",
      "Actual Label    : ['positive', 'Negative', 'Negative', 'Negative', 'positive', 'Negative', 'positive', 'Negative', 'positive', 'positive']\n"
     ]
    }
   ],
   "source": [
    "logits = pred.logits\n",
    "pred_labels = tf.argmax(logits, axis=1)\n",
    "pred_labels = pred_labels.numpy()\n",
    "label = {\n",
    "    1: 'positive',\n",
    "    0: 'Negative'\n",
    "}\n",
    "pred_labels = [label[i] for i in pred_labels]\n",
    "Actual = [label[i] for i in y_test]\n",
    " \n",
    "print('Predicted Label :', pred_labels[:10])\n",
    "print('Actual Label    :', Actual[:10])"
   ]
  },
  {
   "cell_type": "code",
   "execution_count": 23,
   "id": "1ef20be1",
   "metadata": {
    "execution": {
     "iopub.execute_input": "2024-02-19T04:47:13.036460Z",
     "iopub.status.busy": "2024-02-19T04:47:13.035616Z",
     "iopub.status.idle": "2024-02-19T04:47:13.041699Z",
     "shell.execute_reply": "2024-02-19T04:47:13.040868Z"
    },
    "papermill": {
     "duration": 0.090131,
     "end_time": "2024-02-19T04:47:13.043639",
     "exception": false,
     "start_time": "2024-02-19T04:47:12.953508",
     "status": "completed"
    },
    "tags": []
   },
   "outputs": [
    {
     "data": {
      "text/plain": [
       "' Not good for people with brains'"
      ]
     },
     "execution_count": 23,
     "metadata": {},
     "output_type": "execute_result"
    }
   ],
   "source": [
    "x_test[\"review\"].tolist()[3]"
   ]
  },
  {
   "cell_type": "code",
   "execution_count": 24,
   "id": "a60a7735",
   "metadata": {
    "execution": {
     "iopub.execute_input": "2024-02-19T04:47:13.119478Z",
     "iopub.status.busy": "2024-02-19T04:47:13.119212Z",
     "iopub.status.idle": "2024-02-19T04:47:13.124741Z",
     "shell.execute_reply": "2024-02-19T04:47:13.123981Z"
    },
    "papermill": {
     "duration": 0.045405,
     "end_time": "2024-02-19T04:47:13.126612",
     "exception": false,
     "start_time": "2024-02-19T04:47:13.081207",
     "status": "completed"
    },
    "tags": []
   },
   "outputs": [
    {
     "data": {
      "text/plain": [
       "('Negative', 0)"
      ]
     },
     "execution_count": 24,
     "metadata": {},
     "output_type": "execute_result"
    }
   ],
   "source": [
    "pred_labels[3], y_test.tolist()[3]"
   ]
  }
 ],
 "metadata": {
  "kaggle": {
   "accelerator": "nvidiaTeslaT4",
   "dataSources": [
    {
     "datasetId": 3894883,
     "sourceId": 7646803,
     "sourceType": "datasetVersion"
    }
   ],
   "dockerImageVersionId": 30646,
   "isGpuEnabled": true,
   "isInternetEnabled": true,
   "language": "python",
   "sourceType": "notebook"
  },
  "kernelspec": {
   "display_name": "Python 3",
   "language": "python",
   "name": "python3"
  },
  "language_info": {
   "codemirror_mode": {
    "name": "ipython",
    "version": 3
   },
   "file_extension": ".py",
   "mimetype": "text/x-python",
   "name": "python",
   "nbconvert_exporter": "python",
   "pygments_lexer": "ipython3",
   "version": "3.10.13"
  },
  "papermill": {
   "default_parameters": {},
   "duration": 347.481708,
   "end_time": "2024-02-19T04:47:16.707600",
   "environment_variables": {},
   "exception": null,
   "input_path": "__notebook__.ipynb",
   "output_path": "__notebook__.ipynb",
   "parameters": {},
   "start_time": "2024-02-19T04:41:29.225892",
   "version": "2.5.0"
  },
  "widgets": {
   "application/vnd.jupyter.widget-state+json": {
    "state": {
     "0236b895f6824ab0840cd64a7884f432": {
      "model_module": "@jupyter-widgets/base",
      "model_module_version": "1.2.0",
      "model_name": "LayoutModel",
      "state": {
       "_model_module": "@jupyter-widgets/base",
       "_model_module_version": "1.2.0",
       "_model_name": "LayoutModel",
       "_view_count": null,
       "_view_module": "@jupyter-widgets/base",
       "_view_module_version": "1.2.0",
       "_view_name": "LayoutView",
       "align_content": null,
       "align_items": null,
       "align_self": null,
       "border": null,
       "bottom": null,
       "display": null,
       "flex": null,
       "flex_flow": null,
       "grid_area": null,
       "grid_auto_columns": null,
       "grid_auto_flow": null,
       "grid_auto_rows": null,
       "grid_column": null,
       "grid_gap": null,
       "grid_row": null,
       "grid_template_areas": null,
       "grid_template_columns": null,
       "grid_template_rows": null,
       "height": null,
       "justify_content": null,
       "justify_items": null,
       "left": null,
       "margin": null,
       "max_height": null,
       "max_width": null,
       "min_height": null,
       "min_width": null,
       "object_fit": null,
       "object_position": null,
       "order": null,
       "overflow": null,
       "overflow_x": null,
       "overflow_y": null,
       "padding": null,
       "right": null,
       "top": null,
       "visibility": null,
       "width": null
      }
     },
     "05b2f803ebbc404bb404ec39eedff886": {
      "model_module": "@jupyter-widgets/base",
      "model_module_version": "1.2.0",
      "model_name": "LayoutModel",
      "state": {
       "_model_module": "@jupyter-widgets/base",
       "_model_module_version": "1.2.0",
       "_model_name": "LayoutModel",
       "_view_count": null,
       "_view_module": "@jupyter-widgets/base",
       "_view_module_version": "1.2.0",
       "_view_name": "LayoutView",
       "align_content": null,
       "align_items": null,
       "align_self": null,
       "border": null,
       "bottom": null,
       "display": null,
       "flex": null,
       "flex_flow": null,
       "grid_area": null,
       "grid_auto_columns": null,
       "grid_auto_flow": null,
       "grid_auto_rows": null,
       "grid_column": null,
       "grid_gap": null,
       "grid_row": null,
       "grid_template_areas": null,
       "grid_template_columns": null,
       "grid_template_rows": null,
       "height": null,
       "justify_content": null,
       "justify_items": null,
       "left": null,
       "margin": null,
       "max_height": null,
       "max_width": null,
       "min_height": null,
       "min_width": null,
       "object_fit": null,
       "object_position": null,
       "order": null,
       "overflow": null,
       "overflow_x": null,
       "overflow_y": null,
       "padding": null,
       "right": null,
       "top": null,
       "visibility": null,
       "width": null
      }
     },
     "088169dee88d4704a43ebe3f7c0cb5bd": {
      "model_module": "@jupyter-widgets/base",
      "model_module_version": "1.2.0",
      "model_name": "LayoutModel",
      "state": {
       "_model_module": "@jupyter-widgets/base",
       "_model_module_version": "1.2.0",
       "_model_name": "LayoutModel",
       "_view_count": null,
       "_view_module": "@jupyter-widgets/base",
       "_view_module_version": "1.2.0",
       "_view_name": "LayoutView",
       "align_content": null,
       "align_items": null,
       "align_self": null,
       "border": null,
       "bottom": null,
       "display": null,
       "flex": null,
       "flex_flow": null,
       "grid_area": null,
       "grid_auto_columns": null,
       "grid_auto_flow": null,
       "grid_auto_rows": null,
       "grid_column": null,
       "grid_gap": null,
       "grid_row": null,
       "grid_template_areas": null,
       "grid_template_columns": null,
       "grid_template_rows": null,
       "height": null,
       "justify_content": null,
       "justify_items": null,
       "left": null,
       "margin": null,
       "max_height": null,
       "max_width": null,
       "min_height": null,
       "min_width": null,
       "object_fit": null,
       "object_position": null,
       "order": null,
       "overflow": null,
       "overflow_x": null,
       "overflow_y": null,
       "padding": null,
       "right": null,
       "top": null,
       "visibility": null,
       "width": null
      }
     },
     "08d7c01021f04eb28d1f44d00a4335f2": {
      "model_module": "@jupyter-widgets/controls",
      "model_module_version": "1.5.0",
      "model_name": "DescriptionStyleModel",
      "state": {
       "_model_module": "@jupyter-widgets/controls",
       "_model_module_version": "1.5.0",
       "_model_name": "DescriptionStyleModel",
       "_view_count": null,
       "_view_module": "@jupyter-widgets/base",
       "_view_module_version": "1.2.0",
       "_view_name": "StyleView",
       "description_width": ""
      }
     },
     "0c85d3af3b8646e39a790f4f9d9b781a": {
      "model_module": "@jupyter-widgets/base",
      "model_module_version": "1.2.0",
      "model_name": "LayoutModel",
      "state": {
       "_model_module": "@jupyter-widgets/base",
       "_model_module_version": "1.2.0",
       "_model_name": "LayoutModel",
       "_view_count": null,
       "_view_module": "@jupyter-widgets/base",
       "_view_module_version": "1.2.0",
       "_view_name": "LayoutView",
       "align_content": null,
       "align_items": null,
       "align_self": null,
       "border": null,
       "bottom": null,
       "display": null,
       "flex": null,
       "flex_flow": null,
       "grid_area": null,
       "grid_auto_columns": null,
       "grid_auto_flow": null,
       "grid_auto_rows": null,
       "grid_column": null,
       "grid_gap": null,
       "grid_row": null,
       "grid_template_areas": null,
       "grid_template_columns": null,
       "grid_template_rows": null,
       "height": null,
       "justify_content": null,
       "justify_items": null,
       "left": null,
       "margin": null,
       "max_height": null,
       "max_width": null,
       "min_height": null,
       "min_width": null,
       "object_fit": null,
       "object_position": null,
       "order": null,
       "overflow": null,
       "overflow_x": null,
       "overflow_y": null,
       "padding": null,
       "right": null,
       "top": null,
       "visibility": null,
       "width": null
      }
     },
     "0db9e9e1d0e944278c11d44137debab3": {
      "model_module": "@jupyter-widgets/controls",
      "model_module_version": "1.5.0",
      "model_name": "DescriptionStyleModel",
      "state": {
       "_model_module": "@jupyter-widgets/controls",
       "_model_module_version": "1.5.0",
       "_model_name": "DescriptionStyleModel",
       "_view_count": null,
       "_view_module": "@jupyter-widgets/base",
       "_view_module_version": "1.2.0",
       "_view_name": "StyleView",
       "description_width": ""
      }
     },
     "13a7d368c58447738d0437bce835f18f": {
      "model_module": "@jupyter-widgets/controls",
      "model_module_version": "1.5.0",
      "model_name": "ProgressStyleModel",
      "state": {
       "_model_module": "@jupyter-widgets/controls",
       "_model_module_version": "1.5.0",
       "_model_name": "ProgressStyleModel",
       "_view_count": null,
       "_view_module": "@jupyter-widgets/base",
       "_view_module_version": "1.2.0",
       "_view_name": "StyleView",
       "bar_color": null,
       "description_width": ""
      }
     },
     "14e6a347f67147f08c7ddf9643401b7d": {
      "model_module": "@jupyter-widgets/base",
      "model_module_version": "1.2.0",
      "model_name": "LayoutModel",
      "state": {
       "_model_module": "@jupyter-widgets/base",
       "_model_module_version": "1.2.0",
       "_model_name": "LayoutModel",
       "_view_count": null,
       "_view_module": "@jupyter-widgets/base",
       "_view_module_version": "1.2.0",
       "_view_name": "LayoutView",
       "align_content": null,
       "align_items": null,
       "align_self": null,
       "border": null,
       "bottom": null,
       "display": null,
       "flex": null,
       "flex_flow": null,
       "grid_area": null,
       "grid_auto_columns": null,
       "grid_auto_flow": null,
       "grid_auto_rows": null,
       "grid_column": null,
       "grid_gap": null,
       "grid_row": null,
       "grid_template_areas": null,
       "grid_template_columns": null,
       "grid_template_rows": null,
       "height": null,
       "justify_content": null,
       "justify_items": null,
       "left": null,
       "margin": null,
       "max_height": null,
       "max_width": null,
       "min_height": null,
       "min_width": null,
       "object_fit": null,
       "object_position": null,
       "order": null,
       "overflow": null,
       "overflow_x": null,
       "overflow_y": null,
       "padding": null,
       "right": null,
       "top": null,
       "visibility": null,
       "width": null
      }
     },
     "17161e6dac1046a2a813679ffddc8409": {
      "model_module": "@jupyter-widgets/controls",
      "model_module_version": "1.5.0",
      "model_name": "DescriptionStyleModel",
      "state": {
       "_model_module": "@jupyter-widgets/controls",
       "_model_module_version": "1.5.0",
       "_model_name": "DescriptionStyleModel",
       "_view_count": null,
       "_view_module": "@jupyter-widgets/base",
       "_view_module_version": "1.2.0",
       "_view_name": "StyleView",
       "description_width": ""
      }
     },
     "1c9848d288e747e5ac23966bf51651d9": {
      "model_module": "@jupyter-widgets/base",
      "model_module_version": "1.2.0",
      "model_name": "LayoutModel",
      "state": {
       "_model_module": "@jupyter-widgets/base",
       "_model_module_version": "1.2.0",
       "_model_name": "LayoutModel",
       "_view_count": null,
       "_view_module": "@jupyter-widgets/base",
       "_view_module_version": "1.2.0",
       "_view_name": "LayoutView",
       "align_content": null,
       "align_items": null,
       "align_self": null,
       "border": null,
       "bottom": null,
       "display": null,
       "flex": null,
       "flex_flow": null,
       "grid_area": null,
       "grid_auto_columns": null,
       "grid_auto_flow": null,
       "grid_auto_rows": null,
       "grid_column": null,
       "grid_gap": null,
       "grid_row": null,
       "grid_template_areas": null,
       "grid_template_columns": null,
       "grid_template_rows": null,
       "height": null,
       "justify_content": null,
       "justify_items": null,
       "left": null,
       "margin": null,
       "max_height": null,
       "max_width": null,
       "min_height": null,
       "min_width": null,
       "object_fit": null,
       "object_position": null,
       "order": null,
       "overflow": null,
       "overflow_x": null,
       "overflow_y": null,
       "padding": null,
       "right": null,
       "top": null,
       "visibility": null,
       "width": null
      }
     },
     "1ee568f1ceb4409f8f3bf8d4fcb4ab18": {
      "model_module": "@jupyter-widgets/controls",
      "model_module_version": "1.5.0",
      "model_name": "HTMLModel",
      "state": {
       "_dom_classes": [],
       "_model_module": "@jupyter-widgets/controls",
       "_model_module_version": "1.5.0",
       "_model_name": "HTMLModel",
       "_view_count": null,
       "_view_module": "@jupyter-widgets/controls",
       "_view_module_version": "1.5.0",
       "_view_name": "HTMLView",
       "description": "",
       "description_tooltip": null,
       "layout": "IPY_MODEL_77c995719fa54e5a9097d88a205b79e8",
       "placeholder": "​",
       "style": "IPY_MODEL_17161e6dac1046a2a813679ffddc8409",
       "value": "config.json: 100%"
      }
     },
     "201e610999e549d8b7478f7bc1f324a0": {
      "model_module": "@jupyter-widgets/controls",
      "model_module_version": "1.5.0",
      "model_name": "HTMLModel",
      "state": {
       "_dom_classes": [],
       "_model_module": "@jupyter-widgets/controls",
       "_model_module_version": "1.5.0",
       "_model_name": "HTMLModel",
       "_view_count": null,
       "_view_module": "@jupyter-widgets/controls",
       "_view_module_version": "1.5.0",
       "_view_name": "HTMLView",
       "description": "",
       "description_tooltip": null,
       "layout": "IPY_MODEL_8975f863751846719bb2d89e69cc0fdb",
       "placeholder": "​",
       "style": "IPY_MODEL_0db9e9e1d0e944278c11d44137debab3",
       "value": " 466k/466k [00:00&lt;00:00, 3.43MB/s]"
      }
     },
     "27878c969537423c9dc24987d5bf7441": {
      "model_module": "@jupyter-widgets/base",
      "model_module_version": "1.2.0",
      "model_name": "LayoutModel",
      "state": {
       "_model_module": "@jupyter-widgets/base",
       "_model_module_version": "1.2.0",
       "_model_name": "LayoutModel",
       "_view_count": null,
       "_view_module": "@jupyter-widgets/base",
       "_view_module_version": "1.2.0",
       "_view_name": "LayoutView",
       "align_content": null,
       "align_items": null,
       "align_self": null,
       "border": null,
       "bottom": null,
       "display": null,
       "flex": null,
       "flex_flow": null,
       "grid_area": null,
       "grid_auto_columns": null,
       "grid_auto_flow": null,
       "grid_auto_rows": null,
       "grid_column": null,
       "grid_gap": null,
       "grid_row": null,
       "grid_template_areas": null,
       "grid_template_columns": null,
       "grid_template_rows": null,
       "height": null,
       "justify_content": null,
       "justify_items": null,
       "left": null,
       "margin": null,
       "max_height": null,
       "max_width": null,
       "min_height": null,
       "min_width": null,
       "object_fit": null,
       "object_position": null,
       "order": null,
       "overflow": null,
       "overflow_x": null,
       "overflow_y": null,
       "padding": null,
       "right": null,
       "top": null,
       "visibility": null,
       "width": null
      }
     },
     "3127d72e9ecb406aaee23f4aae9b1666": {
      "model_module": "@jupyter-widgets/controls",
      "model_module_version": "1.5.0",
      "model_name": "HTMLModel",
      "state": {
       "_dom_classes": [],
       "_model_module": "@jupyter-widgets/controls",
       "_model_module_version": "1.5.0",
       "_model_name": "HTMLModel",
       "_view_count": null,
       "_view_module": "@jupyter-widgets/controls",
       "_view_module_version": "1.5.0",
       "_view_name": "HTMLView",
       "description": "",
       "description_tooltip": null,
       "layout": "IPY_MODEL_0c85d3af3b8646e39a790f4f9d9b781a",
       "placeholder": "​",
       "style": "IPY_MODEL_c4dc4edf961440abb54411769fa94f3e",
       "value": "model.safetensors: 100%"
      }
     },
     "35f5bfaa46184559b80f8d45908c73f3": {
      "model_module": "@jupyter-widgets/controls",
      "model_module_version": "1.5.0",
      "model_name": "HBoxModel",
      "state": {
       "_dom_classes": [],
       "_model_module": "@jupyter-widgets/controls",
       "_model_module_version": "1.5.0",
       "_model_name": "HBoxModel",
       "_view_count": null,
       "_view_module": "@jupyter-widgets/controls",
       "_view_module_version": "1.5.0",
       "_view_name": "HBoxView",
       "box_style": "",
       "children": [
        "IPY_MODEL_6f26c5a3a56042a19aee182204d0a97b",
        "IPY_MODEL_ca985966be024dacaab66a77a29f11d7",
        "IPY_MODEL_b0f99a114a9845e6b243bfaa7f90bc32"
       ],
       "layout": "IPY_MODEL_27878c969537423c9dc24987d5bf7441"
      }
     },
     "4193a57639d0467fb37fc0d7d9d1f09e": {
      "model_module": "@jupyter-widgets/base",
      "model_module_version": "1.2.0",
      "model_name": "LayoutModel",
      "state": {
       "_model_module": "@jupyter-widgets/base",
       "_model_module_version": "1.2.0",
       "_model_name": "LayoutModel",
       "_view_count": null,
       "_view_module": "@jupyter-widgets/base",
       "_view_module_version": "1.2.0",
       "_view_name": "LayoutView",
       "align_content": null,
       "align_items": null,
       "align_self": null,
       "border": null,
       "bottom": null,
       "display": null,
       "flex": null,
       "flex_flow": null,
       "grid_area": null,
       "grid_auto_columns": null,
       "grid_auto_flow": null,
       "grid_auto_rows": null,
       "grid_column": null,
       "grid_gap": null,
       "grid_row": null,
       "grid_template_areas": null,
       "grid_template_columns": null,
       "grid_template_rows": null,
       "height": null,
       "justify_content": null,
       "justify_items": null,
       "left": null,
       "margin": null,
       "max_height": null,
       "max_width": null,
       "min_height": null,
       "min_width": null,
       "object_fit": null,
       "object_position": null,
       "order": null,
       "overflow": null,
       "overflow_x": null,
       "overflow_y": null,
       "padding": null,
       "right": null,
       "top": null,
       "visibility": null,
       "width": null
      }
     },
     "4588d34ab3434fb08f651905460e9c02": {
      "model_module": "@jupyter-widgets/controls",
      "model_module_version": "1.5.0",
      "model_name": "DescriptionStyleModel",
      "state": {
       "_model_module": "@jupyter-widgets/controls",
       "_model_module_version": "1.5.0",
       "_model_name": "DescriptionStyleModel",
       "_view_count": null,
       "_view_module": "@jupyter-widgets/base",
       "_view_module_version": "1.2.0",
       "_view_name": "StyleView",
       "description_width": ""
      }
     },
     "46fedcc418204e74bab5bfef890645cd": {
      "model_module": "@jupyter-widgets/controls",
      "model_module_version": "1.5.0",
      "model_name": "HTMLModel",
      "state": {
       "_dom_classes": [],
       "_model_module": "@jupyter-widgets/controls",
       "_model_module_version": "1.5.0",
       "_model_name": "HTMLModel",
       "_view_count": null,
       "_view_module": "@jupyter-widgets/controls",
       "_view_module_version": "1.5.0",
       "_view_name": "HTMLView",
       "description": "",
       "description_tooltip": null,
       "layout": "IPY_MODEL_1c9848d288e747e5ac23966bf51651d9",
       "placeholder": "​",
       "style": "IPY_MODEL_9f6f0e62392b4a97bda8edf298bb810a",
       "value": "tokenizer.json: 100%"
      }
     },
     "4750bf2bc05e4bdbab1521f1aa64b23c": {
      "model_module": "@jupyter-widgets/controls",
      "model_module_version": "1.5.0",
      "model_name": "HTMLModel",
      "state": {
       "_dom_classes": [],
       "_model_module": "@jupyter-widgets/controls",
       "_model_module_version": "1.5.0",
       "_model_name": "HTMLModel",
       "_view_count": null,
       "_view_module": "@jupyter-widgets/controls",
       "_view_module_version": "1.5.0",
       "_view_name": "HTMLView",
       "description": "",
       "description_tooltip": null,
       "layout": "IPY_MODEL_4cad85abb04f47c8bec2b08d04846c46",
       "placeholder": "​",
       "style": "IPY_MODEL_eb0a50e287564a82bd9dff5faa30e8f2",
       "value": " 570/570 [00:00&lt;00:00, 44.2kB/s]"
      }
     },
     "4cad85abb04f47c8bec2b08d04846c46": {
      "model_module": "@jupyter-widgets/base",
      "model_module_version": "1.2.0",
      "model_name": "LayoutModel",
      "state": {
       "_model_module": "@jupyter-widgets/base",
       "_model_module_version": "1.2.0",
       "_model_name": "LayoutModel",
       "_view_count": null,
       "_view_module": "@jupyter-widgets/base",
       "_view_module_version": "1.2.0",
       "_view_name": "LayoutView",
       "align_content": null,
       "align_items": null,
       "align_self": null,
       "border": null,
       "bottom": null,
       "display": null,
       "flex": null,
       "flex_flow": null,
       "grid_area": null,
       "grid_auto_columns": null,
       "grid_auto_flow": null,
       "grid_auto_rows": null,
       "grid_column": null,
       "grid_gap": null,
       "grid_row": null,
       "grid_template_areas": null,
       "grid_template_columns": null,
       "grid_template_rows": null,
       "height": null,
       "justify_content": null,
       "justify_items": null,
       "left": null,
       "margin": null,
       "max_height": null,
       "max_width": null,
       "min_height": null,
       "min_width": null,
       "object_fit": null,
       "object_position": null,
       "order": null,
       "overflow": null,
       "overflow_x": null,
       "overflow_y": null,
       "padding": null,
       "right": null,
       "top": null,
       "visibility": null,
       "width": null
      }
     },
     "57152c47dec34a44a38d2e6501f880af": {
      "model_module": "@jupyter-widgets/base",
      "model_module_version": "1.2.0",
      "model_name": "LayoutModel",
      "state": {
       "_model_module": "@jupyter-widgets/base",
       "_model_module_version": "1.2.0",
       "_model_name": "LayoutModel",
       "_view_count": null,
       "_view_module": "@jupyter-widgets/base",
       "_view_module_version": "1.2.0",
       "_view_name": "LayoutView",
       "align_content": null,
       "align_items": null,
       "align_self": null,
       "border": null,
       "bottom": null,
       "display": null,
       "flex": null,
       "flex_flow": null,
       "grid_area": null,
       "grid_auto_columns": null,
       "grid_auto_flow": null,
       "grid_auto_rows": null,
       "grid_column": null,
       "grid_gap": null,
       "grid_row": null,
       "grid_template_areas": null,
       "grid_template_columns": null,
       "grid_template_rows": null,
       "height": null,
       "justify_content": null,
       "justify_items": null,
       "left": null,
       "margin": null,
       "max_height": null,
       "max_width": null,
       "min_height": null,
       "min_width": null,
       "object_fit": null,
       "object_position": null,
       "order": null,
       "overflow": null,
       "overflow_x": null,
       "overflow_y": null,
       "padding": null,
       "right": null,
       "top": null,
       "visibility": null,
       "width": null
      }
     },
     "5d3634d3bfe84af49314b1a9bc9229a7": {
      "model_module": "@jupyter-widgets/controls",
      "model_module_version": "1.5.0",
      "model_name": "DescriptionStyleModel",
      "state": {
       "_model_module": "@jupyter-widgets/controls",
       "_model_module_version": "1.5.0",
       "_model_name": "DescriptionStyleModel",
       "_view_count": null,
       "_view_module": "@jupyter-widgets/base",
       "_view_module_version": "1.2.0",
       "_view_name": "StyleView",
       "description_width": ""
      }
     },
     "61c2325ec8014e38b80cc9b689932aa2": {
      "model_module": "@jupyter-widgets/controls",
      "model_module_version": "1.5.0",
      "model_name": "FloatProgressModel",
      "state": {
       "_dom_classes": [],
       "_model_module": "@jupyter-widgets/controls",
       "_model_module_version": "1.5.0",
       "_model_name": "FloatProgressModel",
       "_view_count": null,
       "_view_module": "@jupyter-widgets/controls",
       "_view_module_version": "1.5.0",
       "_view_name": "ProgressView",
       "bar_style": "success",
       "description": "",
       "description_tooltip": null,
       "layout": "IPY_MODEL_4193a57639d0467fb37fc0d7d9d1f09e",
       "max": 440449768.0,
       "min": 0.0,
       "orientation": "horizontal",
       "style": "IPY_MODEL_13a7d368c58447738d0437bce835f18f",
       "value": 440449768.0
      }
     },
     "6a99056a149a4f5e9e895ef6d4606db2": {
      "model_module": "@jupyter-widgets/controls",
      "model_module_version": "1.5.0",
      "model_name": "HBoxModel",
      "state": {
       "_dom_classes": [],
       "_model_module": "@jupyter-widgets/controls",
       "_model_module_version": "1.5.0",
       "_model_name": "HBoxModel",
       "_view_count": null,
       "_view_module": "@jupyter-widgets/controls",
       "_view_module_version": "1.5.0",
       "_view_name": "HBoxView",
       "box_style": "",
       "children": [
        "IPY_MODEL_1ee568f1ceb4409f8f3bf8d4fcb4ab18",
        "IPY_MODEL_ca70af641f074dedbb85e517f019008a",
        "IPY_MODEL_4750bf2bc05e4bdbab1521f1aa64b23c"
       ],
       "layout": "IPY_MODEL_dd4fdc9521784e259e395fec00d50ff2"
      }
     },
     "6e86a18e31fc460dbaf25b17a63239d9": {
      "model_module": "@jupyter-widgets/base",
      "model_module_version": "1.2.0",
      "model_name": "LayoutModel",
      "state": {
       "_model_module": "@jupyter-widgets/base",
       "_model_module_version": "1.2.0",
       "_model_name": "LayoutModel",
       "_view_count": null,
       "_view_module": "@jupyter-widgets/base",
       "_view_module_version": "1.2.0",
       "_view_name": "LayoutView",
       "align_content": null,
       "align_items": null,
       "align_self": null,
       "border": null,
       "bottom": null,
       "display": null,
       "flex": null,
       "flex_flow": null,
       "grid_area": null,
       "grid_auto_columns": null,
       "grid_auto_flow": null,
       "grid_auto_rows": null,
       "grid_column": null,
       "grid_gap": null,
       "grid_row": null,
       "grid_template_areas": null,
       "grid_template_columns": null,
       "grid_template_rows": null,
       "height": null,
       "justify_content": null,
       "justify_items": null,
       "left": null,
       "margin": null,
       "max_height": null,
       "max_width": null,
       "min_height": null,
       "min_width": null,
       "object_fit": null,
       "object_position": null,
       "order": null,
       "overflow": null,
       "overflow_x": null,
       "overflow_y": null,
       "padding": null,
       "right": null,
       "top": null,
       "visibility": null,
       "width": null
      }
     },
     "6f26c5a3a56042a19aee182204d0a97b": {
      "model_module": "@jupyter-widgets/controls",
      "model_module_version": "1.5.0",
      "model_name": "HTMLModel",
      "state": {
       "_dom_classes": [],
       "_model_module": "@jupyter-widgets/controls",
       "_model_module_version": "1.5.0",
       "_model_name": "HTMLModel",
       "_view_count": null,
       "_view_module": "@jupyter-widgets/controls",
       "_view_module_version": "1.5.0",
       "_view_name": "HTMLView",
       "description": "",
       "description_tooltip": null,
       "layout": "IPY_MODEL_0236b895f6824ab0840cd64a7884f432",
       "placeholder": "​",
       "style": "IPY_MODEL_b3b97ef3a84b42cead2df951796d26e4",
       "value": "vocab.txt: 100%"
      }
     },
     "77c995719fa54e5a9097d88a205b79e8": {
      "model_module": "@jupyter-widgets/base",
      "model_module_version": "1.2.0",
      "model_name": "LayoutModel",
      "state": {
       "_model_module": "@jupyter-widgets/base",
       "_model_module_version": "1.2.0",
       "_model_name": "LayoutModel",
       "_view_count": null,
       "_view_module": "@jupyter-widgets/base",
       "_view_module_version": "1.2.0",
       "_view_name": "LayoutView",
       "align_content": null,
       "align_items": null,
       "align_self": null,
       "border": null,
       "bottom": null,
       "display": null,
       "flex": null,
       "flex_flow": null,
       "grid_area": null,
       "grid_auto_columns": null,
       "grid_auto_flow": null,
       "grid_auto_rows": null,
       "grid_column": null,
       "grid_gap": null,
       "grid_row": null,
       "grid_template_areas": null,
       "grid_template_columns": null,
       "grid_template_rows": null,
       "height": null,
       "justify_content": null,
       "justify_items": null,
       "left": null,
       "margin": null,
       "max_height": null,
       "max_width": null,
       "min_height": null,
       "min_width": null,
       "object_fit": null,
       "object_position": null,
       "order": null,
       "overflow": null,
       "overflow_x": null,
       "overflow_y": null,
       "padding": null,
       "right": null,
       "top": null,
       "visibility": null,
       "width": null
      }
     },
     "79cf650b17ae4d4ca77e332a6249df79": {
      "model_module": "@jupyter-widgets/base",
      "model_module_version": "1.2.0",
      "model_name": "LayoutModel",
      "state": {
       "_model_module": "@jupyter-widgets/base",
       "_model_module_version": "1.2.0",
       "_model_name": "LayoutModel",
       "_view_count": null,
       "_view_module": "@jupyter-widgets/base",
       "_view_module_version": "1.2.0",
       "_view_name": "LayoutView",
       "align_content": null,
       "align_items": null,
       "align_self": null,
       "border": null,
       "bottom": null,
       "display": null,
       "flex": null,
       "flex_flow": null,
       "grid_area": null,
       "grid_auto_columns": null,
       "grid_auto_flow": null,
       "grid_auto_rows": null,
       "grid_column": null,
       "grid_gap": null,
       "grid_row": null,
       "grid_template_areas": null,
       "grid_template_columns": null,
       "grid_template_rows": null,
       "height": null,
       "justify_content": null,
       "justify_items": null,
       "left": null,
       "margin": null,
       "max_height": null,
       "max_width": null,
       "min_height": null,
       "min_width": null,
       "object_fit": null,
       "object_position": null,
       "order": null,
       "overflow": null,
       "overflow_x": null,
       "overflow_y": null,
       "padding": null,
       "right": null,
       "top": null,
       "visibility": null,
       "width": null
      }
     },
     "801b46d8c33a483b98281f1f9a86052f": {
      "model_module": "@jupyter-widgets/controls",
      "model_module_version": "1.5.0",
      "model_name": "FloatProgressModel",
      "state": {
       "_dom_classes": [],
       "_model_module": "@jupyter-widgets/controls",
       "_model_module_version": "1.5.0",
       "_model_name": "FloatProgressModel",
       "_view_count": null,
       "_view_module": "@jupyter-widgets/controls",
       "_view_module_version": "1.5.0",
       "_view_name": "ProgressView",
       "bar_style": "success",
       "description": "",
       "description_tooltip": null,
       "layout": "IPY_MODEL_e13af59d68b64398b8c67a31ab13c1df",
       "max": 28.0,
       "min": 0.0,
       "orientation": "horizontal",
       "style": "IPY_MODEL_cfd16bc55ee548e2ab56a8836b5b7e97",
       "value": 28.0
      }
     },
     "8975f863751846719bb2d89e69cc0fdb": {
      "model_module": "@jupyter-widgets/base",
      "model_module_version": "1.2.0",
      "model_name": "LayoutModel",
      "state": {
       "_model_module": "@jupyter-widgets/base",
       "_model_module_version": "1.2.0",
       "_model_name": "LayoutModel",
       "_view_count": null,
       "_view_module": "@jupyter-widgets/base",
       "_view_module_version": "1.2.0",
       "_view_name": "LayoutView",
       "align_content": null,
       "align_items": null,
       "align_self": null,
       "border": null,
       "bottom": null,
       "display": null,
       "flex": null,
       "flex_flow": null,
       "grid_area": null,
       "grid_auto_columns": null,
       "grid_auto_flow": null,
       "grid_auto_rows": null,
       "grid_column": null,
       "grid_gap": null,
       "grid_row": null,
       "grid_template_areas": null,
       "grid_template_columns": null,
       "grid_template_rows": null,
       "height": null,
       "justify_content": null,
       "justify_items": null,
       "left": null,
       "margin": null,
       "max_height": null,
       "max_width": null,
       "min_height": null,
       "min_width": null,
       "object_fit": null,
       "object_position": null,
       "order": null,
       "overflow": null,
       "overflow_x": null,
       "overflow_y": null,
       "padding": null,
       "right": null,
       "top": null,
       "visibility": null,
       "width": null
      }
     },
     "93785a308970439f9c8bdb34dd67094a": {
      "model_module": "@jupyter-widgets/controls",
      "model_module_version": "1.5.0",
      "model_name": "HTMLModel",
      "state": {
       "_dom_classes": [],
       "_model_module": "@jupyter-widgets/controls",
       "_model_module_version": "1.5.0",
       "_model_name": "HTMLModel",
       "_view_count": null,
       "_view_module": "@jupyter-widgets/controls",
       "_view_module_version": "1.5.0",
       "_view_name": "HTMLView",
       "description": "",
       "description_tooltip": null,
       "layout": "IPY_MODEL_79cf650b17ae4d4ca77e332a6249df79",
       "placeholder": "​",
       "style": "IPY_MODEL_5d3634d3bfe84af49314b1a9bc9229a7",
       "value": " 440M/440M [00:02&lt;00:00, 208MB/s]"
      }
     },
     "9f6f0e62392b4a97bda8edf298bb810a": {
      "model_module": "@jupyter-widgets/controls",
      "model_module_version": "1.5.0",
      "model_name": "DescriptionStyleModel",
      "state": {
       "_model_module": "@jupyter-widgets/controls",
       "_model_module_version": "1.5.0",
       "_model_name": "DescriptionStyleModel",
       "_view_count": null,
       "_view_module": "@jupyter-widgets/base",
       "_view_module_version": "1.2.0",
       "_view_name": "StyleView",
       "description_width": ""
      }
     },
     "a12607696fe74f31af1da5c1e276642a": {
      "model_module": "@jupyter-widgets/base",
      "model_module_version": "1.2.0",
      "model_name": "LayoutModel",
      "state": {
       "_model_module": "@jupyter-widgets/base",
       "_model_module_version": "1.2.0",
       "_model_name": "LayoutModel",
       "_view_count": null,
       "_view_module": "@jupyter-widgets/base",
       "_view_module_version": "1.2.0",
       "_view_name": "LayoutView",
       "align_content": null,
       "align_items": null,
       "align_self": null,
       "border": null,
       "bottom": null,
       "display": null,
       "flex": null,
       "flex_flow": null,
       "grid_area": null,
       "grid_auto_columns": null,
       "grid_auto_flow": null,
       "grid_auto_rows": null,
       "grid_column": null,
       "grid_gap": null,
       "grid_row": null,
       "grid_template_areas": null,
       "grid_template_columns": null,
       "grid_template_rows": null,
       "height": null,
       "justify_content": null,
       "justify_items": null,
       "left": null,
       "margin": null,
       "max_height": null,
       "max_width": null,
       "min_height": null,
       "min_width": null,
       "object_fit": null,
       "object_position": null,
       "order": null,
       "overflow": null,
       "overflow_x": null,
       "overflow_y": null,
       "padding": null,
       "right": null,
       "top": null,
       "visibility": null,
       "width": null
      }
     },
     "b0f99a114a9845e6b243bfaa7f90bc32": {
      "model_module": "@jupyter-widgets/controls",
      "model_module_version": "1.5.0",
      "model_name": "HTMLModel",
      "state": {
       "_dom_classes": [],
       "_model_module": "@jupyter-widgets/controls",
       "_model_module_version": "1.5.0",
       "_model_name": "HTMLModel",
       "_view_count": null,
       "_view_module": "@jupyter-widgets/controls",
       "_view_module_version": "1.5.0",
       "_view_name": "HTMLView",
       "description": "",
       "description_tooltip": null,
       "layout": "IPY_MODEL_088169dee88d4704a43ebe3f7c0cb5bd",
       "placeholder": "​",
       "style": "IPY_MODEL_08d7c01021f04eb28d1f44d00a4335f2",
       "value": " 232k/232k [00:00&lt;00:00, 5.73MB/s]"
      }
     },
     "b3b97ef3a84b42cead2df951796d26e4": {
      "model_module": "@jupyter-widgets/controls",
      "model_module_version": "1.5.0",
      "model_name": "DescriptionStyleModel",
      "state": {
       "_model_module": "@jupyter-widgets/controls",
       "_model_module_version": "1.5.0",
       "_model_name": "DescriptionStyleModel",
       "_view_count": null,
       "_view_module": "@jupyter-widgets/base",
       "_view_module_version": "1.2.0",
       "_view_name": "StyleView",
       "description_width": ""
      }
     },
     "bc012732ec1c43579c75ee9a2428ec6c": {
      "model_module": "@jupyter-widgets/controls",
      "model_module_version": "1.5.0",
      "model_name": "HBoxModel",
      "state": {
       "_dom_classes": [],
       "_model_module": "@jupyter-widgets/controls",
       "_model_module_version": "1.5.0",
       "_model_name": "HBoxModel",
       "_view_count": null,
       "_view_module": "@jupyter-widgets/controls",
       "_view_module_version": "1.5.0",
       "_view_name": "HBoxView",
       "box_style": "",
       "children": [
        "IPY_MODEL_f449b122c8e2495784aa5962d1e6a2cc",
        "IPY_MODEL_801b46d8c33a483b98281f1f9a86052f",
        "IPY_MODEL_deae8b7478e244faa00cd4a2ae6ce293"
       ],
       "layout": "IPY_MODEL_05b2f803ebbc404bb404ec39eedff886"
      }
     },
     "be3bee4de7ed462a864d34a698e14c68": {
      "model_module": "@jupyter-widgets/base",
      "model_module_version": "1.2.0",
      "model_name": "LayoutModel",
      "state": {
       "_model_module": "@jupyter-widgets/base",
       "_model_module_version": "1.2.0",
       "_model_name": "LayoutModel",
       "_view_count": null,
       "_view_module": "@jupyter-widgets/base",
       "_view_module_version": "1.2.0",
       "_view_name": "LayoutView",
       "align_content": null,
       "align_items": null,
       "align_self": null,
       "border": null,
       "bottom": null,
       "display": null,
       "flex": null,
       "flex_flow": null,
       "grid_area": null,
       "grid_auto_columns": null,
       "grid_auto_flow": null,
       "grid_auto_rows": null,
       "grid_column": null,
       "grid_gap": null,
       "grid_row": null,
       "grid_template_areas": null,
       "grid_template_columns": null,
       "grid_template_rows": null,
       "height": null,
       "justify_content": null,
       "justify_items": null,
       "left": null,
       "margin": null,
       "max_height": null,
       "max_width": null,
       "min_height": null,
       "min_width": null,
       "object_fit": null,
       "object_position": null,
       "order": null,
       "overflow": null,
       "overflow_x": null,
       "overflow_y": null,
       "padding": null,
       "right": null,
       "top": null,
       "visibility": null,
       "width": null
      }
     },
     "c4dc4edf961440abb54411769fa94f3e": {
      "model_module": "@jupyter-widgets/controls",
      "model_module_version": "1.5.0",
      "model_name": "DescriptionStyleModel",
      "state": {
       "_model_module": "@jupyter-widgets/controls",
       "_model_module_version": "1.5.0",
       "_model_name": "DescriptionStyleModel",
       "_view_count": null,
       "_view_module": "@jupyter-widgets/base",
       "_view_module_version": "1.2.0",
       "_view_name": "StyleView",
       "description_width": ""
      }
     },
     "c7088ca8cc4f486a8ea904438a49167f": {
      "model_module": "@jupyter-widgets/controls",
      "model_module_version": "1.5.0",
      "model_name": "DescriptionStyleModel",
      "state": {
       "_model_module": "@jupyter-widgets/controls",
       "_model_module_version": "1.5.0",
       "_model_name": "DescriptionStyleModel",
       "_view_count": null,
       "_view_module": "@jupyter-widgets/base",
       "_view_module_version": "1.2.0",
       "_view_name": "StyleView",
       "description_width": ""
      }
     },
     "c801abf819be4563a8e08413981aa064": {
      "model_module": "@jupyter-widgets/controls",
      "model_module_version": "1.5.0",
      "model_name": "FloatProgressModel",
      "state": {
       "_dom_classes": [],
       "_model_module": "@jupyter-widgets/controls",
       "_model_module_version": "1.5.0",
       "_model_name": "FloatProgressModel",
       "_view_count": null,
       "_view_module": "@jupyter-widgets/controls",
       "_view_module_version": "1.5.0",
       "_view_name": "ProgressView",
       "bar_style": "success",
       "description": "",
       "description_tooltip": null,
       "layout": "IPY_MODEL_57152c47dec34a44a38d2e6501f880af",
       "max": 466062.0,
       "min": 0.0,
       "orientation": "horizontal",
       "style": "IPY_MODEL_f8dbce19f7824b8f98d0438d06a99729",
       "value": 466062.0
      }
     },
     "ca70af641f074dedbb85e517f019008a": {
      "model_module": "@jupyter-widgets/controls",
      "model_module_version": "1.5.0",
      "model_name": "FloatProgressModel",
      "state": {
       "_dom_classes": [],
       "_model_module": "@jupyter-widgets/controls",
       "_model_module_version": "1.5.0",
       "_model_name": "FloatProgressModel",
       "_view_count": null,
       "_view_module": "@jupyter-widgets/controls",
       "_view_module_version": "1.5.0",
       "_view_name": "ProgressView",
       "bar_style": "success",
       "description": "",
       "description_tooltip": null,
       "layout": "IPY_MODEL_14e6a347f67147f08c7ddf9643401b7d",
       "max": 570.0,
       "min": 0.0,
       "orientation": "horizontal",
       "style": "IPY_MODEL_d89dbd2f95504007b592d73457d17428",
       "value": 570.0
      }
     },
     "ca985966be024dacaab66a77a29f11d7": {
      "model_module": "@jupyter-widgets/controls",
      "model_module_version": "1.5.0",
      "model_name": "FloatProgressModel",
      "state": {
       "_dom_classes": [],
       "_model_module": "@jupyter-widgets/controls",
       "_model_module_version": "1.5.0",
       "_model_name": "FloatProgressModel",
       "_view_count": null,
       "_view_module": "@jupyter-widgets/controls",
       "_view_module_version": "1.5.0",
       "_view_name": "ProgressView",
       "bar_style": "success",
       "description": "",
       "description_tooltip": null,
       "layout": "IPY_MODEL_f7a565f11292401c9c95a23e04448f89",
       "max": 231508.0,
       "min": 0.0,
       "orientation": "horizontal",
       "style": "IPY_MODEL_d748f7d935ca4e89b2d32b667c34d226",
       "value": 231508.0
      }
     },
     "cd82bf23c0414ddfab0f9fa0738b4785": {
      "model_module": "@jupyter-widgets/controls",
      "model_module_version": "1.5.0",
      "model_name": "HBoxModel",
      "state": {
       "_dom_classes": [],
       "_model_module": "@jupyter-widgets/controls",
       "_model_module_version": "1.5.0",
       "_model_name": "HBoxModel",
       "_view_count": null,
       "_view_module": "@jupyter-widgets/controls",
       "_view_module_version": "1.5.0",
       "_view_name": "HBoxView",
       "box_style": "",
       "children": [
        "IPY_MODEL_46fedcc418204e74bab5bfef890645cd",
        "IPY_MODEL_c801abf819be4563a8e08413981aa064",
        "IPY_MODEL_201e610999e549d8b7478f7bc1f324a0"
       ],
       "layout": "IPY_MODEL_6e86a18e31fc460dbaf25b17a63239d9"
      }
     },
     "cfd16bc55ee548e2ab56a8836b5b7e97": {
      "model_module": "@jupyter-widgets/controls",
      "model_module_version": "1.5.0",
      "model_name": "ProgressStyleModel",
      "state": {
       "_model_module": "@jupyter-widgets/controls",
       "_model_module_version": "1.5.0",
       "_model_name": "ProgressStyleModel",
       "_view_count": null,
       "_view_module": "@jupyter-widgets/base",
       "_view_module_version": "1.2.0",
       "_view_name": "StyleView",
       "bar_color": null,
       "description_width": ""
      }
     },
     "d748f7d935ca4e89b2d32b667c34d226": {
      "model_module": "@jupyter-widgets/controls",
      "model_module_version": "1.5.0",
      "model_name": "ProgressStyleModel",
      "state": {
       "_model_module": "@jupyter-widgets/controls",
       "_model_module_version": "1.5.0",
       "_model_name": "ProgressStyleModel",
       "_view_count": null,
       "_view_module": "@jupyter-widgets/base",
       "_view_module_version": "1.2.0",
       "_view_name": "StyleView",
       "bar_color": null,
       "description_width": ""
      }
     },
     "d89dbd2f95504007b592d73457d17428": {
      "model_module": "@jupyter-widgets/controls",
      "model_module_version": "1.5.0",
      "model_name": "ProgressStyleModel",
      "state": {
       "_model_module": "@jupyter-widgets/controls",
       "_model_module_version": "1.5.0",
       "_model_name": "ProgressStyleModel",
       "_view_count": null,
       "_view_module": "@jupyter-widgets/base",
       "_view_module_version": "1.2.0",
       "_view_name": "StyleView",
       "bar_color": null,
       "description_width": ""
      }
     },
     "dd4fdc9521784e259e395fec00d50ff2": {
      "model_module": "@jupyter-widgets/base",
      "model_module_version": "1.2.0",
      "model_name": "LayoutModel",
      "state": {
       "_model_module": "@jupyter-widgets/base",
       "_model_module_version": "1.2.0",
       "_model_name": "LayoutModel",
       "_view_count": null,
       "_view_module": "@jupyter-widgets/base",
       "_view_module_version": "1.2.0",
       "_view_name": "LayoutView",
       "align_content": null,
       "align_items": null,
       "align_self": null,
       "border": null,
       "bottom": null,
       "display": null,
       "flex": null,
       "flex_flow": null,
       "grid_area": null,
       "grid_auto_columns": null,
       "grid_auto_flow": null,
       "grid_auto_rows": null,
       "grid_column": null,
       "grid_gap": null,
       "grid_row": null,
       "grid_template_areas": null,
       "grid_template_columns": null,
       "grid_template_rows": null,
       "height": null,
       "justify_content": null,
       "justify_items": null,
       "left": null,
       "margin": null,
       "max_height": null,
       "max_width": null,
       "min_height": null,
       "min_width": null,
       "object_fit": null,
       "object_position": null,
       "order": null,
       "overflow": null,
       "overflow_x": null,
       "overflow_y": null,
       "padding": null,
       "right": null,
       "top": null,
       "visibility": null,
       "width": null
      }
     },
     "deae8b7478e244faa00cd4a2ae6ce293": {
      "model_module": "@jupyter-widgets/controls",
      "model_module_version": "1.5.0",
      "model_name": "HTMLModel",
      "state": {
       "_dom_classes": [],
       "_model_module": "@jupyter-widgets/controls",
       "_model_module_version": "1.5.0",
       "_model_name": "HTMLModel",
       "_view_count": null,
       "_view_module": "@jupyter-widgets/controls",
       "_view_module_version": "1.5.0",
       "_view_name": "HTMLView",
       "description": "",
       "description_tooltip": null,
       "layout": "IPY_MODEL_be3bee4de7ed462a864d34a698e14c68",
       "placeholder": "​",
       "style": "IPY_MODEL_4588d34ab3434fb08f651905460e9c02",
       "value": " 28.0/28.0 [00:00&lt;00:00, 2.45kB/s]"
      }
     },
     "e13af59d68b64398b8c67a31ab13c1df": {
      "model_module": "@jupyter-widgets/base",
      "model_module_version": "1.2.0",
      "model_name": "LayoutModel",
      "state": {
       "_model_module": "@jupyter-widgets/base",
       "_model_module_version": "1.2.0",
       "_model_name": "LayoutModel",
       "_view_count": null,
       "_view_module": "@jupyter-widgets/base",
       "_view_module_version": "1.2.0",
       "_view_name": "LayoutView",
       "align_content": null,
       "align_items": null,
       "align_self": null,
       "border": null,
       "bottom": null,
       "display": null,
       "flex": null,
       "flex_flow": null,
       "grid_area": null,
       "grid_auto_columns": null,
       "grid_auto_flow": null,
       "grid_auto_rows": null,
       "grid_column": null,
       "grid_gap": null,
       "grid_row": null,
       "grid_template_areas": null,
       "grid_template_columns": null,
       "grid_template_rows": null,
       "height": null,
       "justify_content": null,
       "justify_items": null,
       "left": null,
       "margin": null,
       "max_height": null,
       "max_width": null,
       "min_height": null,
       "min_width": null,
       "object_fit": null,
       "object_position": null,
       "order": null,
       "overflow": null,
       "overflow_x": null,
       "overflow_y": null,
       "padding": null,
       "right": null,
       "top": null,
       "visibility": null,
       "width": null
      }
     },
     "e74b0e9b600d49afb3797c1f01299024": {
      "model_module": "@jupyter-widgets/controls",
      "model_module_version": "1.5.0",
      "model_name": "HBoxModel",
      "state": {
       "_dom_classes": [],
       "_model_module": "@jupyter-widgets/controls",
       "_model_module_version": "1.5.0",
       "_model_name": "HBoxModel",
       "_view_count": null,
       "_view_module": "@jupyter-widgets/controls",
       "_view_module_version": "1.5.0",
       "_view_name": "HBoxView",
       "box_style": "",
       "children": [
        "IPY_MODEL_3127d72e9ecb406aaee23f4aae9b1666",
        "IPY_MODEL_61c2325ec8014e38b80cc9b689932aa2",
        "IPY_MODEL_93785a308970439f9c8bdb34dd67094a"
       ],
       "layout": "IPY_MODEL_a12607696fe74f31af1da5c1e276642a"
      }
     },
     "eb0a50e287564a82bd9dff5faa30e8f2": {
      "model_module": "@jupyter-widgets/controls",
      "model_module_version": "1.5.0",
      "model_name": "DescriptionStyleModel",
      "state": {
       "_model_module": "@jupyter-widgets/controls",
       "_model_module_version": "1.5.0",
       "_model_name": "DescriptionStyleModel",
       "_view_count": null,
       "_view_module": "@jupyter-widgets/base",
       "_view_module_version": "1.2.0",
       "_view_name": "StyleView",
       "description_width": ""
      }
     },
     "f449b122c8e2495784aa5962d1e6a2cc": {
      "model_module": "@jupyter-widgets/controls",
      "model_module_version": "1.5.0",
      "model_name": "HTMLModel",
      "state": {
       "_dom_classes": [],
       "_model_module": "@jupyter-widgets/controls",
       "_model_module_version": "1.5.0",
       "_model_name": "HTMLModel",
       "_view_count": null,
       "_view_module": "@jupyter-widgets/controls",
       "_view_module_version": "1.5.0",
       "_view_name": "HTMLView",
       "description": "",
       "description_tooltip": null,
       "layout": "IPY_MODEL_fbc63dcc4f1a435bb2c41a9ae2f694fd",
       "placeholder": "​",
       "style": "IPY_MODEL_c7088ca8cc4f486a8ea904438a49167f",
       "value": "tokenizer_config.json: 100%"
      }
     },
     "f7a565f11292401c9c95a23e04448f89": {
      "model_module": "@jupyter-widgets/base",
      "model_module_version": "1.2.0",
      "model_name": "LayoutModel",
      "state": {
       "_model_module": "@jupyter-widgets/base",
       "_model_module_version": "1.2.0",
       "_model_name": "LayoutModel",
       "_view_count": null,
       "_view_module": "@jupyter-widgets/base",
       "_view_module_version": "1.2.0",
       "_view_name": "LayoutView",
       "align_content": null,
       "align_items": null,
       "align_self": null,
       "border": null,
       "bottom": null,
       "display": null,
       "flex": null,
       "flex_flow": null,
       "grid_area": null,
       "grid_auto_columns": null,
       "grid_auto_flow": null,
       "grid_auto_rows": null,
       "grid_column": null,
       "grid_gap": null,
       "grid_row": null,
       "grid_template_areas": null,
       "grid_template_columns": null,
       "grid_template_rows": null,
       "height": null,
       "justify_content": null,
       "justify_items": null,
       "left": null,
       "margin": null,
       "max_height": null,
       "max_width": null,
       "min_height": null,
       "min_width": null,
       "object_fit": null,
       "object_position": null,
       "order": null,
       "overflow": null,
       "overflow_x": null,
       "overflow_y": null,
       "padding": null,
       "right": null,
       "top": null,
       "visibility": null,
       "width": null
      }
     },
     "f8dbce19f7824b8f98d0438d06a99729": {
      "model_module": "@jupyter-widgets/controls",
      "model_module_version": "1.5.0",
      "model_name": "ProgressStyleModel",
      "state": {
       "_model_module": "@jupyter-widgets/controls",
       "_model_module_version": "1.5.0",
       "_model_name": "ProgressStyleModel",
       "_view_count": null,
       "_view_module": "@jupyter-widgets/base",
       "_view_module_version": "1.2.0",
       "_view_name": "StyleView",
       "bar_color": null,
       "description_width": ""
      }
     },
     "fbc63dcc4f1a435bb2c41a9ae2f694fd": {
      "model_module": "@jupyter-widgets/base",
      "model_module_version": "1.2.0",
      "model_name": "LayoutModel",
      "state": {
       "_model_module": "@jupyter-widgets/base",
       "_model_module_version": "1.2.0",
       "_model_name": "LayoutModel",
       "_view_count": null,
       "_view_module": "@jupyter-widgets/base",
       "_view_module_version": "1.2.0",
       "_view_name": "LayoutView",
       "align_content": null,
       "align_items": null,
       "align_self": null,
       "border": null,
       "bottom": null,
       "display": null,
       "flex": null,
       "flex_flow": null,
       "grid_area": null,
       "grid_auto_columns": null,
       "grid_auto_flow": null,
       "grid_auto_rows": null,
       "grid_column": null,
       "grid_gap": null,
       "grid_row": null,
       "grid_template_areas": null,
       "grid_template_columns": null,
       "grid_template_rows": null,
       "height": null,
       "justify_content": null,
       "justify_items": null,
       "left": null,
       "margin": null,
       "max_height": null,
       "max_width": null,
       "min_height": null,
       "min_width": null,
       "object_fit": null,
       "object_position": null,
       "order": null,
       "overflow": null,
       "overflow_x": null,
       "overflow_y": null,
       "padding": null,
       "right": null,
       "top": null,
       "visibility": null,
       "width": null
      }
     }
    },
    "version_major": 2,
    "version_minor": 0
   }
  }
 },
 "nbformat": 4,
 "nbformat_minor": 5
}
