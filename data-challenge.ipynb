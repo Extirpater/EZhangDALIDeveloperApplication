{
 "cells": [
  {
   "cell_type": "code",
   "execution_count": 1,
   "id": "79e26c80",
   "metadata": {
    "_cell_guid": "b1076dfc-b9ad-4769-8c92-a6c4dae69d19",
    "_uuid": "8f2839f25d086af736a60e9eeb907d3b93b6e0e5",
    "execution": {
     "iopub.execute_input": "2023-10-23T04:04:22.143009Z",
     "iopub.status.busy": "2023-10-23T04:04:22.142661Z",
     "iopub.status.idle": "2023-10-23T04:04:23.996258Z",
     "shell.execute_reply": "2023-10-23T04:04:23.994893Z"
    },
    "papermill": {
     "duration": 1.864851,
     "end_time": "2023-10-23T04:04:23.998699",
     "exception": false,
     "start_time": "2023-10-23T04:04:22.133848",
     "status": "completed"
    },
    "tags": []
   },
   "outputs": [
    {
     "name": "stdout",
     "output_type": "stream",
     "text": [
      "/kaggle/input/dalidevchallenge/Sample - Superstore.csv\n"
     ]
    }
   ],
   "source": [
    "import numpy as np # linear algebra\n",
    "import pandas as pd # data processing, CSV file I/O (e.g. pd.read_csv)\n",
    "import os\n",
    "for dirname, _, filenames in os.walk('/kaggle/input'):\n",
    "    for filename in filenames:\n",
    "        print(os.path.join(dirname, filename))\n",
    "import seaborn as sns\n",
    "import matplotlib.pyplot as plt"
   ]
  },
  {
   "cell_type": "markdown",
   "id": "abf52f28",
   "metadata": {
    "papermill": {
     "duration": 0.0069,
     "end_time": "2023-10-23T04:04:24.012395",
     "exception": false,
     "start_time": "2023-10-23T04:04:24.005495",
     "status": "completed"
    },
    "tags": []
   },
   "source": [
    "# Load in Data"
   ]
  },
  {
   "cell_type": "code",
   "execution_count": 2,
   "id": "97b86e0e",
   "metadata": {
    "execution": {
     "iopub.execute_input": "2023-10-23T04:04:24.028123Z",
     "iopub.status.busy": "2023-10-23T04:04:24.027350Z",
     "iopub.status.idle": "2023-10-23T04:04:24.126969Z",
     "shell.execute_reply": "2023-10-23T04:04:24.126138Z"
    },
    "papermill": {
     "duration": 0.110154,
     "end_time": "2023-10-23T04:04:24.129260",
     "exception": false,
     "start_time": "2023-10-23T04:04:24.019106",
     "status": "completed"
    },
    "tags": []
   },
   "outputs": [],
   "source": [
    "df = pd.read_csv(\"/kaggle/input/dalidevchallenge/Sample - Superstore.csv\")"
   ]
  },
  {
   "cell_type": "code",
   "execution_count": 3,
   "id": "c43e34b7",
   "metadata": {
    "execution": {
     "iopub.execute_input": "2023-10-23T04:04:24.144342Z",
     "iopub.status.busy": "2023-10-23T04:04:24.143777Z",
     "iopub.status.idle": "2023-10-23T04:04:24.179254Z",
     "shell.execute_reply": "2023-10-23T04:04:24.177925Z"
    },
    "papermill": {
     "duration": 0.045509,
     "end_time": "2023-10-23T04:04:24.181721",
     "exception": false,
     "start_time": "2023-10-23T04:04:24.136212",
     "status": "completed"
    },
    "tags": []
   },
   "outputs": [
    {
     "data": {
      "text/html": [
       "<div>\n",
       "<style scoped>\n",
       "    .dataframe tbody tr th:only-of-type {\n",
       "        vertical-align: middle;\n",
       "    }\n",
       "\n",
       "    .dataframe tbody tr th {\n",
       "        vertical-align: top;\n",
       "    }\n",
       "\n",
       "    .dataframe thead th {\n",
       "        text-align: right;\n",
       "    }\n",
       "</style>\n",
       "<table border=\"1\" class=\"dataframe\">\n",
       "  <thead>\n",
       "    <tr style=\"text-align: right;\">\n",
       "      <th></th>\n",
       "      <th>Unnamed: 0</th>\n",
       "      <th>Row ID</th>\n",
       "      <th>Order ID</th>\n",
       "      <th>Order Date</th>\n",
       "      <th>Ship Date</th>\n",
       "      <th>Ship Mode</th>\n",
       "      <th>Customer ID</th>\n",
       "      <th>Customer Name</th>\n",
       "      <th>Segment</th>\n",
       "      <th>Country</th>\n",
       "      <th>...</th>\n",
       "      <th>Postal Code</th>\n",
       "      <th>Region</th>\n",
       "      <th>Product ID</th>\n",
       "      <th>Category</th>\n",
       "      <th>Sub-Category</th>\n",
       "      <th>Product Name</th>\n",
       "      <th>Sales</th>\n",
       "      <th>Quantity</th>\n",
       "      <th>Discount</th>\n",
       "      <th>Profit</th>\n",
       "    </tr>\n",
       "  </thead>\n",
       "  <tbody>\n",
       "    <tr>\n",
       "      <th>0</th>\n",
       "      <td>0</td>\n",
       "      <td>1.0</td>\n",
       "      <td>CA-2016-152156</td>\n",
       "      <td>11/8/2016</td>\n",
       "      <td>11/11/2016</td>\n",
       "      <td>NaN</td>\n",
       "      <td>CG-12520</td>\n",
       "      <td>Claire Gute</td>\n",
       "      <td>Consumer</td>\n",
       "      <td>United States</td>\n",
       "      <td>...</td>\n",
       "      <td>42420.0</td>\n",
       "      <td>South</td>\n",
       "      <td>FUR-BO-10001798</td>\n",
       "      <td>Furniture</td>\n",
       "      <td>Bookcases</td>\n",
       "      <td>Bush Somerset Collection Bookcase</td>\n",
       "      <td>NaN</td>\n",
       "      <td>2.0</td>\n",
       "      <td>0.0</td>\n",
       "      <td>41.9136</td>\n",
       "    </tr>\n",
       "    <tr>\n",
       "      <th>1</th>\n",
       "      <td>1</td>\n",
       "      <td>NaN</td>\n",
       "      <td>NaN</td>\n",
       "      <td>11/8/2016</td>\n",
       "      <td>11/11/2016</td>\n",
       "      <td>Second Class</td>\n",
       "      <td>CG-12520</td>\n",
       "      <td>Claire Gute</td>\n",
       "      <td>Consumer</td>\n",
       "      <td>United States</td>\n",
       "      <td>...</td>\n",
       "      <td>42420.0</td>\n",
       "      <td>South</td>\n",
       "      <td>FUR-CH-10000454</td>\n",
       "      <td>Furniture</td>\n",
       "      <td>Chairs</td>\n",
       "      <td>Hon Deluxe Fabric Upholstered Stacking Chairs,...</td>\n",
       "      <td>731.94</td>\n",
       "      <td>3.0</td>\n",
       "      <td>0.0</td>\n",
       "      <td>219.5820</td>\n",
       "    </tr>\n",
       "  </tbody>\n",
       "</table>\n",
       "<p>2 rows × 22 columns</p>\n",
       "</div>"
      ],
      "text/plain": [
       "   Unnamed: 0  Row ID        Order ID Order Date   Ship Date     Ship Mode  \\\n",
       "0           0     1.0  CA-2016-152156  11/8/2016  11/11/2016           NaN   \n",
       "1           1     NaN             NaN  11/8/2016  11/11/2016  Second Class   \n",
       "\n",
       "  Customer ID Customer Name   Segment        Country  ... Postal Code Region  \\\n",
       "0    CG-12520   Claire Gute  Consumer  United States  ...     42420.0  South   \n",
       "1    CG-12520   Claire Gute  Consumer  United States  ...     42420.0  South   \n",
       "\n",
       "        Product ID   Category Sub-Category  \\\n",
       "0  FUR-BO-10001798  Furniture    Bookcases   \n",
       "1  FUR-CH-10000454  Furniture       Chairs   \n",
       "\n",
       "                                        Product Name   Sales Quantity  \\\n",
       "0                  Bush Somerset Collection Bookcase     NaN      2.0   \n",
       "1  Hon Deluxe Fabric Upholstered Stacking Chairs,...  731.94      3.0   \n",
       "\n",
       "   Discount    Profit  \n",
       "0       0.0   41.9136  \n",
       "1       0.0  219.5820  \n",
       "\n",
       "[2 rows x 22 columns]"
      ]
     },
     "execution_count": 3,
     "metadata": {},
     "output_type": "execute_result"
    }
   ],
   "source": [
    "df.head(2)"
   ]
  },
  {
   "cell_type": "code",
   "execution_count": 4,
   "id": "9edf4faa",
   "metadata": {
    "execution": {
     "iopub.execute_input": "2023-10-23T04:04:24.196736Z",
     "iopub.status.busy": "2023-10-23T04:04:24.196340Z",
     "iopub.status.idle": "2023-10-23T04:04:24.201943Z",
     "shell.execute_reply": "2023-10-23T04:04:24.200888Z"
    },
    "papermill": {
     "duration": 0.015531,
     "end_time": "2023-10-23T04:04:24.204098",
     "exception": false,
     "start_time": "2023-10-23T04:04:24.188567",
     "status": "completed"
    },
    "tags": []
   },
   "outputs": [],
   "source": [
    "df.columns = df.columns.str.replace(' ', '') "
   ]
  },
  {
   "cell_type": "markdown",
   "id": "a2f78ed0",
   "metadata": {
    "papermill": {
     "duration": 0.006171,
     "end_time": "2023-10-23T04:04:24.217196",
     "exception": false,
     "start_time": "2023-10-23T04:04:24.211025",
     "status": "completed"
    },
    "tags": []
   },
   "source": [
    "# Data Exploration/Visualization"
   ]
  },
  {
   "cell_type": "code",
   "execution_count": 5,
   "id": "d5d52cb8",
   "metadata": {
    "execution": {
     "iopub.execute_input": "2023-10-23T04:04:24.232599Z",
     "iopub.status.busy": "2023-10-23T04:04:24.232225Z",
     "iopub.status.idle": "2023-10-23T04:04:31.135048Z",
     "shell.execute_reply": "2023-10-23T04:04:31.134011Z"
    },
    "papermill": {
     "duration": 6.913484,
     "end_time": "2023-10-23T04:04:31.137142",
     "exception": false,
     "start_time": "2023-10-23T04:04:24.223658",
     "status": "completed"
    },
    "tags": []
   },
   "outputs": [
    {
     "data": {
      "text/plain": [
       "<Axes: xlabel='CustomerName', ylabel='count'>"
      ]
     },
     "execution_count": 5,
     "metadata": {},
     "output_type": "execute_result"
    },
    {
     "data": {
      "image/png": "[encoded data removed]",
      "text/plain": [
       "<Figure size 640x480 with 1 Axes>"
      ]
     },
     "metadata": {},
     "output_type": "display_data"
    }
   ],
   "source": [
    "df['Country'].value_counts(), df['OrderID'].value_counts()\n",
    "# #probably going to drop becuase won't tell us much about the profit\n",
    "\n",
    "sns.barplot(x=df.CustomerName.value_counts().index, y=df.CustomerName.value_counts())\n",
    "\n",
    "#remove this becuase everything is coming from the United States"
   ]
  },
  {
   "cell_type": "code",
   "execution_count": 6,
   "id": "e04232e4",
   "metadata": {
    "execution": {
     "iopub.execute_input": "2023-10-23T04:04:31.153537Z",
     "iopub.status.busy": "2023-10-23T04:04:31.153183Z",
     "iopub.status.idle": "2023-10-23T04:04:31.413052Z",
     "shell.execute_reply": "2023-10-23T04:04:31.411649Z"
    },
    "papermill": {
     "duration": 0.270475,
     "end_time": "2023-10-23T04:04:31.415155",
     "exception": false,
     "start_time": "2023-10-23T04:04:31.144680",
     "status": "completed"
    },
    "tags": []
   },
   "outputs": [
    {
     "data": {
      "image/png": "[encoded data removed]",
      "text/plain": [
       "<Figure size 640x480 with 1 Axes>"
      ]
     },
     "metadata": {},
     "output_type": "display_data"
    }
   ],
   "source": [
    "var = 'PostalCode'\n",
    "data = pd.concat([df['Profit'].sort_values(), df[var]], axis=1)\n",
    "data.plot.scatter(x=var, y='Profit', ylim=(0,10000));"
   ]
  },
  {
   "cell_type": "code",
   "execution_count": 7,
   "id": "36360128",
   "metadata": {
    "execution": {
     "iopub.execute_input": "2023-10-23T04:04:31.431617Z",
     "iopub.status.busy": "2023-10-23T04:04:31.431248Z",
     "iopub.status.idle": "2023-10-23T04:04:31.694453Z",
     "shell.execute_reply": "2023-10-23T04:04:31.692960Z"
    },
    "papermill": {
     "duration": 0.274084,
     "end_time": "2023-10-23T04:04:31.696786",
     "exception": false,
     "start_time": "2023-10-23T04:04:31.422702",
     "status": "completed"
    },
    "tags": []
   },
   "outputs": [
    {
     "data": {
      "image/png": "[encoded data removed]",
      "text/plain": [
       "<Figure size 1000x500 with 1 Axes>"
      ]
     },
     "metadata": {},
     "output_type": "display_data"
    }
   ],
   "source": [
    "plt.figure(figsize=(10,5))\n",
    "plt.plot(df.Profit,linewidth=2)\n",
    "plt.title('Distribution of Profit')\n",
    "plt.ylabel('# of people');"
   ]
  },
  {
   "cell_type": "code",
   "execution_count": 8,
   "id": "1c443d1b",
   "metadata": {
    "execution": {
     "iopub.execute_input": "2023-10-23T04:04:31.714204Z",
     "iopub.status.busy": "2023-10-23T04:04:31.713876Z",
     "iopub.status.idle": "2023-10-23T04:04:31.943867Z",
     "shell.execute_reply": "2023-10-23T04:04:31.942639Z"
    },
    "papermill": {
     "duration": 0.241279,
     "end_time": "2023-10-23T04:04:31.946036",
     "exception": false,
     "start_time": "2023-10-23T04:04:31.704757",
     "status": "completed"
    },
    "tags": []
   },
   "outputs": [
    {
     "data": {
      "image/png": "[encoded data removed]",
      "text/plain": [
       "<Figure size 1000x500 with 1 Axes>"
      ]
     },
     "metadata": {},
     "output_type": "display_data"
    }
   ],
   "source": [
    "plt.figure(figsize=(10,5))\n",
    "plt.plot(df.Profit.sort_values().reset_index(drop=True),linewidth=2)\n",
    "plt.title('Distribution of Profit')\n",
    "plt.ylabel('# of people');\n",
    "\n"
   ]
  },
  {
   "cell_type": "markdown",
   "id": "5c2e2535",
   "metadata": {
    "papermill": {
     "duration": 0.007892,
     "end_time": "2023-10-23T04:04:31.962791",
     "exception": false,
     "start_time": "2023-10-23T04:04:31.954899",
     "status": "completed"
    },
    "tags": []
   },
   "source": [
    "# Data Prep"
   ]
  },
  {
   "cell_type": "markdown",
   "id": "a85739f8",
   "metadata": {
    "papermill": {
     "duration": 0.00867,
     "end_time": "2023-10-23T04:04:31.980946",
     "exception": false,
     "start_time": "2023-10-23T04:04:31.972276",
     "status": "completed"
    },
    "tags": []
   },
   "source": [
    "Check for missing Values"
   ]
  },
  {
   "cell_type": "code",
   "execution_count": 9,
   "id": "86b06cec",
   "metadata": {
    "execution": {
     "iopub.execute_input": "2023-10-23T04:04:31.999900Z",
     "iopub.status.busy": "2023-10-23T04:04:31.999527Z",
     "iopub.status.idle": "2023-10-23T04:04:32.013372Z",
     "shell.execute_reply": "2023-10-23T04:04:32.012266Z"
    },
    "papermill": {
     "duration": 0.026184,
     "end_time": "2023-10-23T04:04:32.015864",
     "exception": false,
     "start_time": "2023-10-23T04:04:31.989680",
     "status": "completed"
    },
    "tags": []
   },
   "outputs": [
    {
     "data": {
      "text/plain": [
       "Unnamed:0         0\n",
       "RowID           999\n",
       "OrderID         999\n",
       "OrderDate       999\n",
       "ShipDate        999\n",
       "ShipMode        999\n",
       "CustomerID      999\n",
       "CustomerName    999\n",
       "Segment         999\n",
       "Country         999\n",
       "City            999\n",
       "State           999\n",
       "PostalCode      999\n",
       "Region          999\n",
       "ProductID       999\n",
       "Category        999\n",
       "Sub-Category    999\n",
       "ProductName     999\n",
       "Sales           999\n",
       "Quantity        999\n",
       "Discount        999\n",
       "Profit          999\n",
       "dtype: int64"
      ]
     },
     "execution_count": 9,
     "metadata": {},
     "output_type": "execute_result"
    }
   ],
   "source": [
    "#got to take care of these null values later\n",
    "df.isnull().sum()"
   ]
  },
  {
   "cell_type": "code",
   "execution_count": 10,
   "id": "e90ae079",
   "metadata": {
    "execution": {
     "iopub.execute_input": "2023-10-23T04:04:32.034151Z",
     "iopub.status.busy": "2023-10-23T04:04:32.033821Z",
     "iopub.status.idle": "2023-10-23T04:04:32.065275Z",
     "shell.execute_reply": "2023-10-23T04:04:32.064167Z"
    },
    "papermill": {
     "duration": 0.042688,
     "end_time": "2023-10-23T04:04:32.067002",
     "exception": false,
     "start_time": "2023-10-23T04:04:32.024314",
     "status": "completed"
    },
    "tags": []
   },
   "outputs": [
    {
     "data": {
      "text/html": [
       "<div>\n",
       "<style scoped>\n",
       "    .dataframe tbody tr th:only-of-type {\n",
       "        vertical-align: middle;\n",
       "    }\n",
       "\n",
       "    .dataframe tbody tr th {\n",
       "        vertical-align: top;\n",
       "    }\n",
       "\n",
       "    .dataframe thead th {\n",
       "        text-align: right;\n",
       "    }\n",
       "</style>\n",
       "<table border=\"1\" class=\"dataframe\">\n",
       "  <thead>\n",
       "    <tr style=\"text-align: right;\">\n",
       "      <th></th>\n",
       "      <th>Unnamed:0</th>\n",
       "      <th>RowID</th>\n",
       "      <th>PostalCode</th>\n",
       "      <th>Sales</th>\n",
       "      <th>Quantity</th>\n",
       "      <th>Discount</th>\n",
       "      <th>Profit</th>\n",
       "    </tr>\n",
       "  </thead>\n",
       "  <tbody>\n",
       "    <tr>\n",
       "      <th>count</th>\n",
       "      <td>9994.000000</td>\n",
       "      <td>8995.000000</td>\n",
       "      <td>8995.000000</td>\n",
       "      <td>8995.000000</td>\n",
       "      <td>8995.000000</td>\n",
       "      <td>8995.00000</td>\n",
       "      <td>8995.000000</td>\n",
       "    </tr>\n",
       "    <tr>\n",
       "      <th>mean</th>\n",
       "      <td>4996.500000</td>\n",
       "      <td>4986.567426</td>\n",
       "      <td>55147.143413</td>\n",
       "      <td>230.864435</td>\n",
       "      <td>3.790773</td>\n",
       "      <td>0.15569</td>\n",
       "      <td>27.614049</td>\n",
       "    </tr>\n",
       "    <tr>\n",
       "      <th>std</th>\n",
       "      <td>2885.163629</td>\n",
       "      <td>2883.357953</td>\n",
       "      <td>32022.008929</td>\n",
       "      <td>624.590629</td>\n",
       "      <td>2.231843</td>\n",
       "      <td>0.20505</td>\n",
       "      <td>228.132397</td>\n",
       "    </tr>\n",
       "    <tr>\n",
       "      <th>min</th>\n",
       "      <td>0.000000</td>\n",
       "      <td>1.000000</td>\n",
       "      <td>1040.000000</td>\n",
       "      <td>0.444000</td>\n",
       "      <td>1.000000</td>\n",
       "      <td>0.00000</td>\n",
       "      <td>-6599.978000</td>\n",
       "    </tr>\n",
       "    <tr>\n",
       "      <th>25%</th>\n",
       "      <td>2498.250000</td>\n",
       "      <td>2491.500000</td>\n",
       "      <td>23223.000000</td>\n",
       "      <td>17.453000</td>\n",
       "      <td>2.000000</td>\n",
       "      <td>0.00000</td>\n",
       "      <td>1.734300</td>\n",
       "    </tr>\n",
       "    <tr>\n",
       "      <th>50%</th>\n",
       "      <td>4996.500000</td>\n",
       "      <td>4980.000000</td>\n",
       "      <td>55901.000000</td>\n",
       "      <td>54.792000</td>\n",
       "      <td>3.000000</td>\n",
       "      <td>0.20000</td>\n",
       "      <td>8.662000</td>\n",
       "    </tr>\n",
       "    <tr>\n",
       "      <th>75%</th>\n",
       "      <td>7494.750000</td>\n",
       "      <td>7475.500000</td>\n",
       "      <td>90004.000000</td>\n",
       "      <td>209.940000</td>\n",
       "      <td>5.000000</td>\n",
       "      <td>0.20000</td>\n",
       "      <td>29.364000</td>\n",
       "    </tr>\n",
       "    <tr>\n",
       "      <th>max</th>\n",
       "      <td>9993.000000</td>\n",
       "      <td>9994.000000</td>\n",
       "      <td>99301.000000</td>\n",
       "      <td>22638.480000</td>\n",
       "      <td>14.000000</td>\n",
       "      <td>0.80000</td>\n",
       "      <td>8399.976000</td>\n",
       "    </tr>\n",
       "  </tbody>\n",
       "</table>\n",
       "</div>"
      ],
      "text/plain": [
       "         Unnamed:0        RowID    PostalCode         Sales     Quantity  \\\n",
       "count  9994.000000  8995.000000   8995.000000   8995.000000  8995.000000   \n",
       "mean   4996.500000  4986.567426  55147.143413    230.864435     3.790773   \n",
       "std    2885.163629  2883.357953  32022.008929    624.590629     2.231843   \n",
       "min       0.000000     1.000000   1040.000000      0.444000     1.000000   \n",
       "25%    2498.250000  2491.500000  23223.000000     17.453000     2.000000   \n",
       "50%    4996.500000  4980.000000  55901.000000     54.792000     3.000000   \n",
       "75%    7494.750000  7475.500000  90004.000000    209.940000     5.000000   \n",
       "max    9993.000000  9994.000000  99301.000000  22638.480000    14.000000   \n",
       "\n",
       "         Discount       Profit  \n",
       "count  8995.00000  8995.000000  \n",
       "mean      0.15569    27.614049  \n",
       "std       0.20505   228.132397  \n",
       "min       0.00000 -6599.978000  \n",
       "25%       0.00000     1.734300  \n",
       "50%       0.20000     8.662000  \n",
       "75%       0.20000    29.364000  \n",
       "max       0.80000  8399.976000  "
      ]
     },
     "execution_count": 10,
     "metadata": {},
     "output_type": "execute_result"
    }
   ],
   "source": [
    "df.describe()"
   ]
  },
  {
   "cell_type": "code",
   "execution_count": 11,
   "id": "fd37555a",
   "metadata": {
    "execution": {
     "iopub.execute_input": "2023-10-23T04:04:32.085235Z",
     "iopub.status.busy": "2023-10-23T04:04:32.084912Z",
     "iopub.status.idle": "2023-10-23T04:04:32.089488Z",
     "shell.execute_reply": "2023-10-23T04:04:32.088634Z"
    },
    "papermill": {
     "duration": 0.016033,
     "end_time": "2023-10-23T04:04:32.091474",
     "exception": false,
     "start_time": "2023-10-23T04:04:32.075441",
     "status": "completed"
    },
    "tags": []
   },
   "outputs": [],
   "source": [
    "## Example Columns that are not numbers\n",
    "    #Order-ID  *\n",
    "    #ShipMode  *\n",
    "    #CustomerName\n",
    "    #Segment\n",
    "    #Country  - drop\n",
    "    #Region  *\n",
    "    #ProductID\n",
    "    #Catagory\n",
    "    #Sub-Catagory\n",
    "    #Product Name - drop\n",
    "    \n"
   ]
  },
  {
   "cell_type": "markdown",
   "id": "8c794344",
   "metadata": {
    "papermill": {
     "duration": 0.009099,
     "end_time": "2023-10-23T04:04:32.109812",
     "exception": false,
     "start_time": "2023-10-23T04:04:32.100713",
     "status": "completed"
    },
    "tags": []
   },
   "source": [
    "Going to drop the following columns.."
   ]
  },
  {
   "cell_type": "code",
   "execution_count": 12,
   "id": "3c822ced",
   "metadata": {
    "execution": {
     "iopub.execute_input": "2023-10-23T04:04:32.129979Z",
     "iopub.status.busy": "2023-10-23T04:04:32.129614Z",
     "iopub.status.idle": "2023-10-23T04:04:32.138612Z",
     "shell.execute_reply": "2023-10-23T04:04:32.137641Z"
    },
    "papermill": {
     "duration": 0.02273,
     "end_time": "2023-10-23T04:04:32.141902",
     "exception": false,
     "start_time": "2023-10-23T04:04:32.119172",
     "status": "completed"
    },
    "tags": []
   },
   "outputs": [],
   "source": [
    "df['CustomerName'] # not going to be a big predictor of profit\n",
    "df['ProductName'] # catagory probably tells this info already\n",
    "df['Country'] # Only has one value\n",
    "todrop = ['CustomerName', 'ProductName', 'Country']\n",
    "df.drop(todrop, inplace = True, axis = 1)"
   ]
  },
  {
   "cell_type": "code",
   "execution_count": 13,
   "id": "f60e106b",
   "metadata": {
    "execution": {
     "iopub.execute_input": "2023-10-23T04:04:32.160309Z",
     "iopub.status.busy": "2023-10-23T04:04:32.159979Z",
     "iopub.status.idle": "2023-10-23T04:04:32.170945Z",
     "shell.execute_reply": "2023-10-23T04:04:32.168988Z"
    },
    "papermill": {
     "duration": 0.023097,
     "end_time": "2023-10-23T04:04:32.173625",
     "exception": false,
     "start_time": "2023-10-23T04:04:32.150528",
     "status": "completed"
    },
    "tags": []
   },
   "outputs": [
    {
     "data": {
      "text/plain": [
       "(Region\n",
       " West       2877\n",
       " East       2531\n",
       " Central    2127\n",
       " South      1460\n",
       " Name: count, dtype: int64,\n",
       " ShipMode\n",
       " Standard Class    5357\n",
       " Second Class      1747\n",
       " First Class       1389\n",
       " Same Day           502\n",
       " Name: count, dtype: int64,\n",
       " Segment\n",
       " Consumer       4643\n",
       " Corporate      2737\n",
       " Home Office    1615\n",
       " Name: count, dtype: int64)"
      ]
     },
     "execution_count": 13,
     "metadata": {},
     "output_type": "execute_result"
    }
   ],
   "source": [
    "df['Region'].value_counts(), df['ShipMode'].value_counts(), df['Segment'].value_counts()"
   ]
  },
  {
   "cell_type": "code",
   "execution_count": 14,
   "id": "77e28320",
   "metadata": {
    "execution": {
     "iopub.execute_input": "2023-10-23T04:04:32.193659Z",
     "iopub.status.busy": "2023-10-23T04:04:32.193276Z",
     "iopub.status.idle": "2023-10-23T04:04:32.206311Z",
     "shell.execute_reply": "2023-10-23T04:04:32.205053Z"
    },
    "papermill": {
     "duration": 0.025818,
     "end_time": "2023-10-23T04:04:32.209000",
     "exception": false,
     "start_time": "2023-10-23T04:04:32.183182",
     "status": "completed"
    },
    "tags": []
   },
   "outputs": [],
   "source": [
    "#encoding Ship Mode\n",
    "ship_mode_map = {\"StandardClass\": 0, \"Second Class\": 1, \"First Class\":2, \"Same Day\":3}\n",
    "df['ShipMode'] = df['ShipMode'].map(ship_mode_map)\n",
    "\n",
    "#encoding Segment\n",
    "segment_mode_map = {\"Consumer\": 0, \"Corporate\": 1, \"Home Office\":2}\n",
    "df['Segment'] = df['Segment'].map(segment_mode_map)\n",
    "\n",
    "#encoding Region Column\n",
    "region_map = {\"West\": 0, \"East\": 1, \"Central\":2, \"South\":4}\n",
    "df['Region'] = df['Region'].map(region_map)"
   ]
  },
  {
   "cell_type": "markdown",
   "id": "eec48478",
   "metadata": {
    "papermill": {
     "duration": 0.009121,
     "end_time": "2023-10-23T04:04:32.227904",
     "exception": false,
     "start_time": "2023-10-23T04:04:32.218783",
     "status": "completed"
    },
    "tags": []
   },
   "source": [
    "**Let's one hot encode the Sub-Category Column instead of mapping**"
   ]
  },
  {
   "cell_type": "code",
   "execution_count": 15,
   "id": "4db721ce",
   "metadata": {
    "execution": {
     "iopub.execute_input": "2023-10-23T04:04:32.246706Z",
     "iopub.status.busy": "2023-10-23T04:04:32.246328Z",
     "iopub.status.idle": "2023-10-23T04:04:32.264022Z",
     "shell.execute_reply": "2023-10-23T04:04:32.262572Z"
    },
    "papermill": {
     "duration": 0.03009,
     "end_time": "2023-10-23T04:04:32.266469",
     "exception": false,
     "start_time": "2023-10-23T04:04:32.236379",
     "status": "completed"
    },
    "tags": []
   },
   "outputs": [
    {
     "name": "stdout",
     "output_type": "stream",
     "text": [
      "Sub-Category\n",
      "Binders        1370\n",
      "Paper          1233\n",
      "Furnishings     855\n",
      "Phones          795\n",
      "Storage         763\n",
      "Art             717\n",
      "Accessories     700\n",
      "Chairs          560\n",
      "Appliances      417\n",
      "Labels          329\n",
      "Tables          287\n",
      "Envelopes       225\n",
      "Bookcases       208\n",
      "Fasteners       198\n",
      "Supplies        171\n",
      "Machines        104\n",
      "Copiers          63\n",
      "Name: count, dtype: int64\n"
     ]
    }
   ],
   "source": [
    "print(df['Sub-Category'].value_counts())\n",
    "one_hot = pd.get_dummies(df['Sub-Category']).astype(int)\n",
    "# Drop column B as it is now encoded\n",
    "df = df.drop('Sub-Category',axis = 1)\n",
    "# Join the encoded df\n",
    "df = df.join(one_hot)"
   ]
  },
  {
   "cell_type": "code",
   "execution_count": 16,
   "id": "921a8877",
   "metadata": {
    "execution": {
     "iopub.execute_input": "2023-10-23T04:04:32.285489Z",
     "iopub.status.busy": "2023-10-23T04:04:32.285125Z",
     "iopub.status.idle": "2023-10-23T04:04:32.292719Z",
     "shell.execute_reply": "2023-10-23T04:04:32.291656Z"
    },
    "papermill": {
     "duration": 0.02002,
     "end_time": "2023-10-23T04:04:32.295159",
     "exception": false,
     "start_time": "2023-10-23T04:04:32.275139",
     "status": "completed"
    },
    "tags": []
   },
   "outputs": [],
   "source": [
    "df.drop(['OrderID', 'OrderDate', 'ShipDate', 'CustomerID', 'City', 'State', 'ProductID', 'Category'], axis = 1, inplace = True)"
   ]
  },
  {
   "cell_type": "code",
   "execution_count": 17,
   "id": "ffd40baa",
   "metadata": {
    "execution": {
     "iopub.execute_input": "2023-10-23T04:04:32.316474Z",
     "iopub.status.busy": "2023-10-23T04:04:32.316099Z",
     "iopub.status.idle": "2023-10-23T04:04:32.322922Z",
     "shell.execute_reply": "2023-10-23T04:04:32.321923Z"
    },
    "papermill": {
     "duration": 0.020302,
     "end_time": "2023-10-23T04:04:32.325240",
     "exception": false,
     "start_time": "2023-10-23T04:04:32.304938",
     "status": "completed"
    },
    "tags": []
   },
   "outputs": [],
   "source": [
    "df.dropna(inplace = True)"
   ]
  },
  {
   "cell_type": "code",
   "execution_count": 18,
   "id": "dc8b3f5d",
   "metadata": {
    "execution": {
     "iopub.execute_input": "2023-10-23T04:04:32.344381Z",
     "iopub.status.busy": "2023-10-23T04:04:32.344026Z",
     "iopub.status.idle": "2023-10-23T04:04:32.910205Z",
     "shell.execute_reply": "2023-10-23T04:04:32.909416Z"
    },
    "papermill": {
     "duration": 0.57783,
     "end_time": "2023-10-23T04:04:32.912093",
     "exception": false,
     "start_time": "2023-10-23T04:04:32.334263",
     "status": "completed"
    },
    "tags": []
   },
   "outputs": [
    {
     "data": {
      "image/png": "[encoded data removed]",
      "text/plain": [
       "<Figure size 1000x900 with 2 Axes>"
      ]
     },
     "metadata": {},
     "output_type": "display_data"
    }
   ],
   "source": [
    "#correlation matrix\n",
    "corrmat = df.corr()\n",
    "f, ax = plt.subplots(figsize=(10, 9))\n",
    "sns.heatmap(corrmat, vmax=.8, square=True);"
   ]
  },
  {
   "cell_type": "markdown",
   "id": "8f8e051c",
   "metadata": {
    "papermill": {
     "duration": 0.009318,
     "end_time": "2023-10-23T04:04:32.931220",
     "exception": false,
     "start_time": "2023-10-23T04:04:32.921902",
     "status": "completed"
    },
    "tags": []
   },
   "source": [
    "# Modeling"
   ]
  },
  {
   "cell_type": "code",
   "execution_count": 19,
   "id": "17c13e7e",
   "metadata": {
    "execution": {
     "iopub.execute_input": "2023-10-23T04:04:32.952112Z",
     "iopub.status.busy": "2023-10-23T04:04:32.951532Z",
     "iopub.status.idle": "2023-10-23T04:04:32.957545Z",
     "shell.execute_reply": "2023-10-23T04:04:32.955949Z"
    },
    "papermill": {
     "duration": 0.019582,
     "end_time": "2023-10-23T04:04:32.960328",
     "exception": false,
     "start_time": "2023-10-23T04:04:32.940746",
     "status": "completed"
    },
    "tags": []
   },
   "outputs": [],
   "source": [
    "target = df['Profit']\n",
    "\n",
    "train_data = df.drop('Profit', axis=1)\n"
   ]
  },
  {
   "cell_type": "code",
   "execution_count": 20,
   "id": "cc01de6a",
   "metadata": {
    "execution": {
     "iopub.execute_input": "2023-10-23T04:04:32.981014Z",
     "iopub.status.busy": "2023-10-23T04:04:32.980624Z",
     "iopub.status.idle": "2023-10-23T04:04:33.303152Z",
     "shell.execute_reply": "2023-10-23T04:04:33.301776Z"
    },
    "papermill": {
     "duration": 0.335381,
     "end_time": "2023-10-23T04:04:33.305306",
     "exception": false,
     "start_time": "2023-10-23T04:04:32.969925",
     "status": "completed"
    },
    "tags": []
   },
   "outputs": [],
   "source": [
    "from sklearn.model_selection import train_test_split\n",
    "\n",
    "X_train, X_test, y_train, y_test = train_test_split(train_data, target, random_state=0, test_size=0.2, shuffle=False)\n"
   ]
  },
  {
   "cell_type": "code",
   "execution_count": 21,
   "id": "60faf7a5",
   "metadata": {
    "execution": {
     "iopub.execute_input": "2023-10-23T04:04:33.328562Z",
     "iopub.status.busy": "2023-10-23T04:04:33.328183Z",
     "iopub.status.idle": "2023-10-23T04:04:33.965711Z",
     "shell.execute_reply": "2023-10-23T04:04:33.964194Z"
    },
    "papermill": {
     "duration": 0.651615,
     "end_time": "2023-10-23T04:04:33.968229",
     "exception": false,
     "start_time": "2023-10-23T04:04:33.316614",
     "status": "completed"
    },
    "tags": []
   },
   "outputs": [],
   "source": [
    "from sklearn.neighbors import KNeighborsClassifier\n",
    "from sklearn.tree import DecisionTreeClassifier\n",
    "from sklearn.ensemble import RandomForestClassifier\n",
    "from sklearn.naive_bayes import GaussianNB\n",
    "from sklearn.svm import SVC\n",
    "from sklearn.linear_model import LogisticRegression\n",
    "from sklearn.preprocessing import StandardScaler, OneHotEncoder, LabelEncoder\n",
    "from sklearn import model_selection\n",
    "from sklearn.model_selection import train_test_split\n",
    "import xgboost as xgb\n",
    "from sklearn.metrics import accuracy_score\n",
    "from sklearn.model_selection import KFold\n",
    "from sklearn.model_selection import cross_val_score\n",
    "from sklearn.preprocessing import RobustScaler\n",
    "from sklearn.linear_model import ElasticNet, Lasso,  BayesianRidge, LassoLarsIC\n"
   ]
  },
  {
   "cell_type": "code",
   "execution_count": 22,
   "id": "cdca81d7",
   "metadata": {
    "execution": {
     "iopub.execute_input": "2023-10-23T04:04:33.989040Z",
     "iopub.status.busy": "2023-10-23T04:04:33.988695Z",
     "iopub.status.idle": "2023-10-23T04:04:33.993364Z",
     "shell.execute_reply": "2023-10-23T04:04:33.992477Z"
    },
    "papermill": {
     "duration": 0.017381,
     "end_time": "2023-10-23T04:04:33.995162",
     "exception": false,
     "start_time": "2023-10-23T04:04:33.977781",
     "status": "completed"
    },
    "tags": []
   },
   "outputs": [],
   "source": [
    "n_folds = 5\n",
    "def rmsle_cv(model):\n",
    "    kf = KFold(n_folds).get_n_splits(X_train)\n",
    "    rmse= np.sqrt(-cross_val_score(model, X_train.values, y_train, scoring=\"neg_mean_squared_error\", cv = kf))\n",
    "    return(rmse)"
   ]
  },
  {
   "cell_type": "code",
   "execution_count": 23,
   "id": "4c3ace74",
   "metadata": {
    "execution": {
     "iopub.execute_input": "2023-10-23T04:04:34.016037Z",
     "iopub.status.busy": "2023-10-23T04:04:34.015200Z",
     "iopub.status.idle": "2023-10-23T04:04:34.030869Z",
     "shell.execute_reply": "2023-10-23T04:04:34.029898Z"
    },
    "papermill": {
     "duration": 0.028322,
     "end_time": "2023-10-23T04:04:34.033052",
     "exception": false,
     "start_time": "2023-10-23T04:04:34.004730",
     "status": "completed"
    },
    "tags": []
   },
   "outputs": [],
   "source": [
    "from sklearn.pipeline import make_pipeline\n",
    "lasso = make_pipeline(RobustScaler(), Lasso(alpha =0.0005))\n"
   ]
  },
  {
   "cell_type": "code",
   "execution_count": 24,
   "id": "f2ec85b0",
   "metadata": {
    "execution": {
     "iopub.execute_input": "2023-10-23T04:04:34.054331Z",
     "iopub.status.busy": "2023-10-23T04:04:34.053623Z",
     "iopub.status.idle": "2023-10-23T04:04:34.061075Z",
     "shell.execute_reply": "2023-10-23T04:04:34.059665Z"
    },
    "papermill": {
     "duration": 0.021083,
     "end_time": "2023-10-23T04:04:34.063655",
     "exception": false,
     "start_time": "2023-10-23T04:04:34.042572",
     "status": "completed"
    },
    "tags": []
   },
   "outputs": [
    {
     "data": {
      "text/plain": [
       "(1260, 26)"
      ]
     },
     "execution_count": 24,
     "metadata": {},
     "output_type": "execute_result"
    }
   ],
   "source": [
    "X_train.shape"
   ]
  },
  {
   "cell_type": "code",
   "execution_count": 25,
   "id": "408eb0b5",
   "metadata": {
    "execution": {
     "iopub.execute_input": "2023-10-23T04:04:34.140094Z",
     "iopub.status.busy": "2023-10-23T04:04:34.139567Z",
     "iopub.status.idle": "2023-10-23T04:04:34.146692Z",
     "shell.execute_reply": "2023-10-23T04:04:34.145948Z"
    },
    "papermill": {
     "duration": 0.020208,
     "end_time": "2023-10-23T04:04:34.148409",
     "exception": false,
     "start_time": "2023-10-23T04:04:34.128201",
     "status": "completed"
    },
    "tags": []
   },
   "outputs": [
    {
     "data": {
      "text/plain": [
       "(1260,)"
      ]
     },
     "execution_count": 25,
     "metadata": {},
     "output_type": "execute_result"
    }
   ],
   "source": [
    "y_train.shape"
   ]
  },
  {
   "cell_type": "code",
   "execution_count": 26,
   "id": "ef75520a",
   "metadata": {
    "execution": {
     "iopub.execute_input": "2023-10-23T04:04:34.171362Z",
     "iopub.status.busy": "2023-10-23T04:04:34.170999Z",
     "iopub.status.idle": "2023-10-23T04:04:34.234954Z",
     "shell.execute_reply": "2023-10-23T04:04:34.234030Z"
    },
    "papermill": {
     "duration": 0.078555,
     "end_time": "2023-10-23T04:04:34.237081",
     "exception": false,
     "start_time": "2023-10-23T04:04:34.158526",
     "status": "completed"
    },
    "tags": []
   },
   "outputs": [
    {
     "name": "stdout",
     "output_type": "stream",
     "text": [
      "\n",
      "Lasso score: 130.6829 (26.3194)\n",
      "\n"
     ]
    }
   ],
   "source": [
    "score_lasso = rmsle_cv(lasso)\n",
    "score_lasso.mean()\n",
    "print(\"\\nLasso score: {:.4f} ({:.4f})\\n\".format(score_lasso.mean(), score_lasso.std()))"
   ]
  }
 ],
 "metadata": {
  "kernelspec": {
   "display_name": "Python 3",
   "language": "python",
   "name": "python3"
  },
  "language_info": {
   "codemirror_mode": {
    "name": "ipython",
    "version": 3
   },
   "file_extension": ".py",
   "mimetype": "text/x-python",
   "name": "python",
   "nbconvert_exporter": "python",
   "pygments_lexer": "ipython3",
   "version": "3.10.12"
  },
  "papermill": {
   "default_parameters": {},
   "duration": 15.899667,
   "end_time": "2023-10-23T04:04:35.175219",
   "environment_variables": {},
   "exception": null,
   "input_path": "__notebook__.ipynb",
   "output_path": "__notebook__.ipynb",
   "parameters": {},
   "start_time": "2023-10-23T04:04:19.275552",
   "version": "2.4.0"
  }
 },
 "nbformat": 4,
 "nbformat_minor": 5
}
