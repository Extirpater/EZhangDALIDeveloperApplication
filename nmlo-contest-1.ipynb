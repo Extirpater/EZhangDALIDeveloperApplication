{
 "cells": [
  {
   "cell_type": "code",
   "execution_count": 1,
   "metadata": {
    "_cell_guid": "b1076dfc-b9ad-4769-8c92-a6c4dae69d19",
    "_uuid": "8f2839f25d086af736a60e9eeb907d3b93b6e0e5",
    "execution": {
     "iopub.execute_input": "2020-08-17T21:45:14.890057Z",
     "iopub.status.busy": "2020-08-17T21:45:14.889079Z",
     "iopub.status.idle": "2020-08-17T21:45:16.039422Z",
     "shell.execute_reply": "2020-08-17T21:45:16.038620Z"
    },
    "papermill": {
     "duration": 1.174009,
     "end_time": "2020-08-17T21:45:16.039581",
     "exception": false,
     "start_time": "2020-08-17T21:45:14.865572",
     "status": "completed"
    },
    "tags": []
   },
   "outputs": [
    {
     "name": "stdout",
     "output_type": "stream",
     "text": [
      "/kaggle/input/nmlo-contest-1/test.csv\n",
      "/kaggle/input/nmlo-contest-1/sample_submission.csv\n",
      "/kaggle/input/nmlo-contest-1/train.csv\n"
     ]
    }
   ],
   "source": [
    "# This Python 3 environment comes with many helpful analytics libraries installed\n",
    "# It is defined by the kaggle/python Docker image: https://github.com/kaggle/docker-python\n",
    "# For example, here's several helpful packages to load\n",
    "\n",
    "import numpy as np # linear algebra\n",
    "import pandas as pd # data processing, CSV file I/O (e.g. pd.read_csv)\n",
    "import matplotlib.pyplot as plt\n",
    "import seaborn as sns\n",
    "# Input data files are available in the read-only \"../input/\" directory\n",
    "# For example, running this (by clicking run or pressing Shift+Enter) will list all files under the input directory\n",
    "\n",
    "import os\n",
    "for dirname, _, filenames in os.walk('/kaggle/input'):\n",
    "    for filename in filenames:\n",
    "        print(os.path.join(dirname, filename))\n",
    "\n",
    "# You can write up to 5GB to the current directory (/kaggle/working/) that gets preserved as output when you create a version using \"Save & Run All\" \n",
    "# You can also write temporary files to /kaggle/temp/, but they won't be saved outside of the current session"
   ]
  },
  {
   "cell_type": "code",
   "execution_count": 2,
   "metadata": {
    "_cell_guid": "79c7e3d0-c299-4dcb-8224-4455121ee9b0",
    "_uuid": "d629ff2d2480ee46fbb7e2d37f6b5fab8052498a",
    "execution": {
     "iopub.execute_input": "2020-08-17T21:45:16.079168Z",
     "iopub.status.busy": "2020-08-17T21:45:16.078048Z",
     "iopub.status.idle": "2020-08-17T21:45:16.105383Z",
     "shell.execute_reply": "2020-08-17T21:45:16.106006Z"
    },
    "papermill": {
     "duration": 0.050914,
     "end_time": "2020-08-17T21:45:16.106240",
     "exception": false,
     "start_time": "2020-08-17T21:45:16.055326",
     "status": "completed"
    },
    "tags": []
   },
   "outputs": [],
   "source": [
    "\n",
    "train_data = pd.read_csv('/kaggle/input/nmlo-contest-1/train.csv')\n",
    "test_data = pd.read_csv('/kaggle/input/nmlo-contest-1/test.csv')\n",
    "train = train_data.copy()\n",
    "test = test_data.copy()\n"
   ]
  },
  {
   "cell_type": "code",
   "execution_count": 3,
   "metadata": {
    "execution": {
     "iopub.execute_input": "2020-08-17T21:45:16.144309Z",
     "iopub.status.busy": "2020-08-17T21:45:16.143185Z",
     "iopub.status.idle": "2020-08-17T21:45:16.148394Z",
     "shell.execute_reply": "2020-08-17T21:45:16.147770Z"
    },
    "papermill": {
     "duration": 0.026378,
     "end_time": "2020-08-17T21:45:16.148533",
     "exception": false,
     "start_time": "2020-08-17T21:45:16.122155",
     "status": "completed"
    },
    "tags": []
   },
   "outputs": [
    {
     "data": {
      "text/plain": [
       "(4000, 12)"
      ]
     },
     "execution_count": 3,
     "metadata": {},
     "output_type": "execute_result"
    }
   ],
   "source": [
    "train.shape\n"
   ]
  },
  {
   "cell_type": "markdown",
   "execution_count": null,
   "metadata": {
    "papermill": {
     "duration": 0.014359,
     "end_time": "2020-08-17T21:45:16.177529",
     "exception": false,
     "start_time": "2020-08-17T21:45:16.163170",
     "status": "completed"
    },
    "tags": []
   },
   "source": [
    "**Train**"
   ]
  },
  {
   "cell_type": "code",
   "execution_count": 4,
   "metadata": {
    "execution": {
     "iopub.execute_input": "2020-08-17T21:45:16.220054Z",
     "iopub.status.busy": "2020-08-17T21:45:16.219243Z",
     "iopub.status.idle": "2020-08-17T21:45:16.251717Z",
     "shell.execute_reply": "2020-08-17T21:45:16.251045Z"
    },
    "papermill": {
     "duration": 0.059529,
     "end_time": "2020-08-17T21:45:16.251853",
     "exception": false,
     "start_time": "2020-08-17T21:45:16.192324",
     "status": "completed"
    },
    "tags": []
   },
   "outputs": [],
   "source": [
    "train.drop_duplicates(inplace=True)\n",
    "train[\"bmi\"] = train[\"weight\"] / (train[\"height\"]/100)**2"
   ]
  },
  {
   "cell_type": "code",
   "execution_count": 5,
   "metadata": {
    "execution": {
     "iopub.execute_input": "2020-08-17T21:45:16.297580Z",
     "iopub.status.busy": "2020-08-17T21:45:16.296749Z",
     "iopub.status.idle": "2020-08-17T21:45:16.310455Z",
     "shell.execute_reply": "2020-08-17T21:45:16.309598Z"
    },
    "papermill": {
     "duration": 0.04376,
     "end_time": "2020-08-17T21:45:16.310594",
     "exception": false,
     "start_time": "2020-08-17T21:45:16.266834",
     "status": "completed"
    },
    "tags": []
   },
   "outputs": [
    {
     "data": {
      "text/html": [
       "<div>\n",
       "<style scoped>\n",
       "    .dataframe tbody tr th:only-of-type {\n",
       "        vertical-align: middle;\n",
       "    }\n",
       "\n",
       "    .dataframe tbody tr th {\n",
       "        vertical-align: top;\n",
       "    }\n",
       "\n",
       "    .dataframe thead th {\n",
       "        text-align: right;\n",
       "    }\n",
       "</style>\n",
       "<table border=\"1\" class=\"dataframe\">\n",
       "  <thead>\n",
       "    <tr style=\"text-align: right;\">\n",
       "      <th></th>\n",
       "      <th>age</th>\n",
       "      <th>gender</th>\n",
       "      <th>height</th>\n",
       "      <th>weight</th>\n",
       "      <th>ap_hi</th>\n",
       "      <th>ap_lo</th>\n",
       "      <th>cholesterol</th>\n",
       "      <th>gluc</th>\n",
       "      <th>smoke</th>\n",
       "      <th>alco</th>\n",
       "      <th>active</th>\n",
       "      <th>cardio</th>\n",
       "      <th>bmi</th>\n",
       "    </tr>\n",
       "  </thead>\n",
       "  <tbody>\n",
       "    <tr>\n",
       "      <th>0</th>\n",
       "      <td>17363</td>\n",
       "      <td>1</td>\n",
       "      <td>172</td>\n",
       "      <td>89.0</td>\n",
       "      <td>110</td>\n",
       "      <td>70</td>\n",
       "      <td>1</td>\n",
       "      <td>1</td>\n",
       "      <td>0</td>\n",
       "      <td>1</td>\n",
       "      <td>0</td>\n",
       "      <td>0</td>\n",
       "      <td>30.083829</td>\n",
       "    </tr>\n",
       "    <tr>\n",
       "      <th>1</th>\n",
       "      <td>21200</td>\n",
       "      <td>1</td>\n",
       "      <td>168</td>\n",
       "      <td>68.0</td>\n",
       "      <td>110</td>\n",
       "      <td>70</td>\n",
       "      <td>1</td>\n",
       "      <td>1</td>\n",
       "      <td>0</td>\n",
       "      <td>0</td>\n",
       "      <td>1</td>\n",
       "      <td>0</td>\n",
       "      <td>24.092971</td>\n",
       "    </tr>\n",
       "    <tr>\n",
       "      <th>2</th>\n",
       "      <td>17286</td>\n",
       "      <td>1</td>\n",
       "      <td>167</td>\n",
       "      <td>74.0</td>\n",
       "      <td>120</td>\n",
       "      <td>80</td>\n",
       "      <td>1</td>\n",
       "      <td>1</td>\n",
       "      <td>0</td>\n",
       "      <td>0</td>\n",
       "      <td>1</td>\n",
       "      <td>0</td>\n",
       "      <td>26.533759</td>\n",
       "    </tr>\n",
       "    <tr>\n",
       "      <th>3</th>\n",
       "      <td>15822</td>\n",
       "      <td>1</td>\n",
       "      <td>157</td>\n",
       "      <td>61.0</td>\n",
       "      <td>90</td>\n",
       "      <td>70</td>\n",
       "      <td>1</td>\n",
       "      <td>1</td>\n",
       "      <td>0</td>\n",
       "      <td>0</td>\n",
       "      <td>1</td>\n",
       "      <td>0</td>\n",
       "      <td>24.747454</td>\n",
       "    </tr>\n",
       "    <tr>\n",
       "      <th>4</th>\n",
       "      <td>20458</td>\n",
       "      <td>1</td>\n",
       "      <td>156</td>\n",
       "      <td>55.0</td>\n",
       "      <td>110</td>\n",
       "      <td>70</td>\n",
       "      <td>1</td>\n",
       "      <td>1</td>\n",
       "      <td>0</td>\n",
       "      <td>0</td>\n",
       "      <td>1</td>\n",
       "      <td>0</td>\n",
       "      <td>22.600263</td>\n",
       "    </tr>\n",
       "  </tbody>\n",
       "</table>\n",
       "</div>"
      ],
      "text/plain": [
       "     age  gender  height  weight  ap_hi  ap_lo  cholesterol  gluc  smoke  \\\n",
       "0  17363       1     172    89.0    110     70            1     1      0   \n",
       "1  21200       1     168    68.0    110     70            1     1      0   \n",
       "2  17286       1     167    74.0    120     80            1     1      0   \n",
       "3  15822       1     157    61.0     90     70            1     1      0   \n",
       "4  20458       1     156    55.0    110     70            1     1      0   \n",
       "\n",
       "   alco  active  cardio        bmi  \n",
       "0     1       0       0  30.083829  \n",
       "1     0       1       0  24.092971  \n",
       "2     0       1       0  26.533759  \n",
       "3     0       1       0  24.747454  \n",
       "4     0       1       0  22.600263  "
      ]
     },
     "execution_count": 5,
     "metadata": {},
     "output_type": "execute_result"
    }
   ],
   "source": [
    "top_filter = ((train[\"ap_hi\"]>250) | (train[\"ap_lo\"]>200))\n",
    "#train = train[~top_filter]\n",
    "bot_filter = ((train[\"ap_hi\"] < 0) | (train[\"ap_lo\"] < 0))\n",
    "#train = train[~bot_filter]\n",
    "train.head()"
   ]
  },
  {
   "cell_type": "markdown",
   "execution_count": null,
   "metadata": {
    "papermill": {
     "duration": 0.014499,
     "end_time": "2020-08-17T21:45:16.340584",
     "exception": false,
     "start_time": "2020-08-17T21:45:16.326085",
     "status": "completed"
    },
    "tags": []
   },
   "source": [
    "**Test**"
   ]
  },
  {
   "cell_type": "code",
   "execution_count": 6,
   "metadata": {
    "execution": {
     "iopub.execute_input": "2020-08-17T21:45:16.380366Z",
     "iopub.status.busy": "2020-08-17T21:45:16.379508Z",
     "iopub.status.idle": "2020-08-17T21:45:16.402692Z",
     "shell.execute_reply": "2020-08-17T21:45:16.401904Z"
    },
    "papermill": {
     "duration": 0.047254,
     "end_time": "2020-08-17T21:45:16.402827",
     "exception": false,
     "start_time": "2020-08-17T21:45:16.355573",
     "status": "completed"
    },
    "tags": []
   },
   "outputs": [
    {
     "data": {
      "text/html": [
       "<div>\n",
       "<style scoped>\n",
       "    .dataframe tbody tr th:only-of-type {\n",
       "        vertical-align: middle;\n",
       "    }\n",
       "\n",
       "    .dataframe tbody tr th {\n",
       "        vertical-align: top;\n",
       "    }\n",
       "\n",
       "    .dataframe thead th {\n",
       "        text-align: right;\n",
       "    }\n",
       "</style>\n",
       "<table border=\"1\" class=\"dataframe\">\n",
       "  <thead>\n",
       "    <tr style=\"text-align: right;\">\n",
       "      <th></th>\n",
       "      <th>id</th>\n",
       "      <th>age</th>\n",
       "      <th>gender</th>\n",
       "      <th>height</th>\n",
       "      <th>weight</th>\n",
       "      <th>ap_hi</th>\n",
       "      <th>ap_lo</th>\n",
       "      <th>cholesterol</th>\n",
       "      <th>gluc</th>\n",
       "      <th>smoke</th>\n",
       "      <th>alco</th>\n",
       "      <th>active</th>\n",
       "      <th>bmi</th>\n",
       "    </tr>\n",
       "  </thead>\n",
       "  <tbody>\n",
       "    <tr>\n",
       "      <th>0</th>\n",
       "      <td>0</td>\n",
       "      <td>16036</td>\n",
       "      <td>1</td>\n",
       "      <td>165</td>\n",
       "      <td>125.0</td>\n",
       "      <td>160</td>\n",
       "      <td>100</td>\n",
       "      <td>1</td>\n",
       "      <td>2</td>\n",
       "      <td>0</td>\n",
       "      <td>0</td>\n",
       "      <td>0</td>\n",
       "      <td>45.913682</td>\n",
       "    </tr>\n",
       "    <tr>\n",
       "      <th>1</th>\n",
       "      <td>1</td>\n",
       "      <td>17004</td>\n",
       "      <td>1</td>\n",
       "      <td>165</td>\n",
       "      <td>120.0</td>\n",
       "      <td>100</td>\n",
       "      <td>75</td>\n",
       "      <td>2</td>\n",
       "      <td>1</td>\n",
       "      <td>0</td>\n",
       "      <td>0</td>\n",
       "      <td>1</td>\n",
       "      <td>44.077135</td>\n",
       "    </tr>\n",
       "    <tr>\n",
       "      <th>2</th>\n",
       "      <td>2</td>\n",
       "      <td>17547</td>\n",
       "      <td>1</td>\n",
       "      <td>151</td>\n",
       "      <td>58.0</td>\n",
       "      <td>110</td>\n",
       "      <td>60</td>\n",
       "      <td>2</td>\n",
       "      <td>1</td>\n",
       "      <td>0</td>\n",
       "      <td>0</td>\n",
       "      <td>1</td>\n",
       "      <td>25.437481</td>\n",
       "    </tr>\n",
       "    <tr>\n",
       "      <th>3</th>\n",
       "      <td>3</td>\n",
       "      <td>20562</td>\n",
       "      <td>1</td>\n",
       "      <td>172</td>\n",
       "      <td>70.0</td>\n",
       "      <td>130</td>\n",
       "      <td>90</td>\n",
       "      <td>1</td>\n",
       "      <td>1</td>\n",
       "      <td>0</td>\n",
       "      <td>0</td>\n",
       "      <td>1</td>\n",
       "      <td>23.661439</td>\n",
       "    </tr>\n",
       "    <tr>\n",
       "      <th>4</th>\n",
       "      <td>4</td>\n",
       "      <td>18759</td>\n",
       "      <td>1</td>\n",
       "      <td>168</td>\n",
       "      <td>64.0</td>\n",
       "      <td>110</td>\n",
       "      <td>80</td>\n",
       "      <td>1</td>\n",
       "      <td>1</td>\n",
       "      <td>0</td>\n",
       "      <td>0</td>\n",
       "      <td>1</td>\n",
       "      <td>22.675737</td>\n",
       "    </tr>\n",
       "  </tbody>\n",
       "</table>\n",
       "</div>"
      ],
      "text/plain": [
       "   id    age  gender  height  weight  ap_hi  ap_lo  cholesterol  gluc  smoke  \\\n",
       "0   0  16036       1     165   125.0    160    100            1     2      0   \n",
       "1   1  17004       1     165   120.0    100     75            2     1      0   \n",
       "2   2  17547       1     151    58.0    110     60            2     1      0   \n",
       "3   3  20562       1     172    70.0    130     90            1     1      0   \n",
       "4   4  18759       1     168    64.0    110     80            1     1      0   \n",
       "\n",
       "   alco  active        bmi  \n",
       "0     0       0  45.913682  \n",
       "1     0       1  44.077135  \n",
       "2     0       1  25.437481  \n",
       "3     0       1  23.661439  \n",
       "4     0       1  22.675737  "
      ]
     },
     "execution_count": 6,
     "metadata": {},
     "output_type": "execute_result"
    }
   ],
   "source": [
    "test.drop_duplicates(inplace=True)\n",
    "test[\"bmi\"] = test[\"weight\"] / (test[\"height\"]/100)**2\n",
    "\n",
    "top_filter = ((test[\"ap_hi\"]>250) | (test[\"ap_lo\"]>200))\n",
    "#test = test[~top_filter]\n",
    "bot_filter = ((test[\"ap_hi\"] < 0) | (test[\"ap_lo\"] < 0))\n",
    "#test = test[~bot_filter]\n",
    "test.head()"
   ]
  },
  {
   "cell_type": "code",
   "execution_count": 7,
   "metadata": {
    "execution": {
     "iopub.execute_input": "2020-08-17T21:45:16.449882Z",
     "iopub.status.busy": "2020-08-17T21:45:16.448716Z",
     "iopub.status.idle": "2020-08-17T21:45:16.452721Z",
     "shell.execute_reply": "2020-08-17T21:45:16.453624Z"
    },
    "papermill": {
     "duration": 0.030388,
     "end_time": "2020-08-17T21:45:16.453879",
     "exception": false,
     "start_time": "2020-08-17T21:45:16.423491",
     "status": "completed"
    },
    "tags": []
   },
   "outputs": [
    {
     "name": "stdout",
     "output_type": "stream",
     "text": [
      "(4000, 13) (1000, 13)\n"
     ]
    }
   ],
   "source": [
    "print(train.shape, test.shape)"
   ]
  },
  {
   "cell_type": "markdown",
   "execution_count": null,
   "metadata": {
    "papermill": {
     "duration": 0.014996,
     "end_time": "2020-08-17T21:45:16.487894",
     "exception": false,
     "start_time": "2020-08-17T21:45:16.472898",
     "status": "completed"
    },
    "tags": []
   },
   "source": [
    "**Splitting**"
   ]
  },
  {
   "cell_type": "code",
   "execution_count": 8,
   "metadata": {
    "execution": {
     "iopub.execute_input": "2020-08-17T21:45:16.530866Z",
     "iopub.status.busy": "2020-08-17T21:45:16.529774Z",
     "iopub.status.idle": "2020-08-17T21:45:16.534801Z",
     "shell.execute_reply": "2020-08-17T21:45:16.534155Z"
    },
    "papermill": {
     "duration": 0.03141,
     "end_time": "2020-08-17T21:45:16.534954",
     "exception": false,
     "start_time": "2020-08-17T21:45:16.503544",
     "status": "completed"
    },
    "tags": []
   },
   "outputs": [],
   "source": [
    "y_train = train['cardio']\n",
    "X_train = train.drop('cardio', axis=1)\n",
    "id = test_data['id']\n",
    "X_test = test.drop('id', axis=1)"
   ]
  },
  {
   "cell_type": "code",
   "execution_count": 9,
   "metadata": {
    "execution": {
     "iopub.execute_input": "2020-08-17T21:45:16.583656Z",
     "iopub.status.busy": "2020-08-17T21:45:16.582462Z",
     "iopub.status.idle": "2020-08-17T21:45:16.587539Z",
     "shell.execute_reply": "2020-08-17T21:45:16.586741Z"
    },
    "papermill": {
     "duration": 0.037178,
     "end_time": "2020-08-17T21:45:16.587676",
     "exception": false,
     "start_time": "2020-08-17T21:45:16.550498",
     "status": "completed"
    },
    "tags": []
   },
   "outputs": [
    {
     "data": {
      "text/html": [
       "<div>\n",
       "<style scoped>\n",
       "    .dataframe tbody tr th:only-of-type {\n",
       "        vertical-align: middle;\n",
       "    }\n",
       "\n",
       "    .dataframe tbody tr th {\n",
       "        vertical-align: top;\n",
       "    }\n",
       "\n",
       "    .dataframe thead th {\n",
       "        text-align: right;\n",
       "    }\n",
       "</style>\n",
       "<table border=\"1\" class=\"dataframe\">\n",
       "  <thead>\n",
       "    <tr style=\"text-align: right;\">\n",
       "      <th></th>\n",
       "      <th>age</th>\n",
       "      <th>gender</th>\n",
       "      <th>height</th>\n",
       "      <th>weight</th>\n",
       "      <th>ap_hi</th>\n",
       "      <th>ap_lo</th>\n",
       "      <th>cholesterol</th>\n",
       "      <th>gluc</th>\n",
       "      <th>smoke</th>\n",
       "      <th>alco</th>\n",
       "      <th>active</th>\n",
       "      <th>bmi</th>\n",
       "    </tr>\n",
       "  </thead>\n",
       "  <tbody>\n",
       "    <tr>\n",
       "      <th>0</th>\n",
       "      <td>17363</td>\n",
       "      <td>1</td>\n",
       "      <td>172</td>\n",
       "      <td>89.0</td>\n",
       "      <td>110</td>\n",
       "      <td>70</td>\n",
       "      <td>1</td>\n",
       "      <td>1</td>\n",
       "      <td>0</td>\n",
       "      <td>1</td>\n",
       "      <td>0</td>\n",
       "      <td>30.083829</td>\n",
       "    </tr>\n",
       "    <tr>\n",
       "      <th>1</th>\n",
       "      <td>21200</td>\n",
       "      <td>1</td>\n",
       "      <td>168</td>\n",
       "      <td>68.0</td>\n",
       "      <td>110</td>\n",
       "      <td>70</td>\n",
       "      <td>1</td>\n",
       "      <td>1</td>\n",
       "      <td>0</td>\n",
       "      <td>0</td>\n",
       "      <td>1</td>\n",
       "      <td>24.092971</td>\n",
       "    </tr>\n",
       "    <tr>\n",
       "      <th>2</th>\n",
       "      <td>17286</td>\n",
       "      <td>1</td>\n",
       "      <td>167</td>\n",
       "      <td>74.0</td>\n",
       "      <td>120</td>\n",
       "      <td>80</td>\n",
       "      <td>1</td>\n",
       "      <td>1</td>\n",
       "      <td>0</td>\n",
       "      <td>0</td>\n",
       "      <td>1</td>\n",
       "      <td>26.533759</td>\n",
       "    </tr>\n",
       "    <tr>\n",
       "      <th>3</th>\n",
       "      <td>15822</td>\n",
       "      <td>1</td>\n",
       "      <td>157</td>\n",
       "      <td>61.0</td>\n",
       "      <td>90</td>\n",
       "      <td>70</td>\n",
       "      <td>1</td>\n",
       "      <td>1</td>\n",
       "      <td>0</td>\n",
       "      <td>0</td>\n",
       "      <td>1</td>\n",
       "      <td>24.747454</td>\n",
       "    </tr>\n",
       "    <tr>\n",
       "      <th>4</th>\n",
       "      <td>20458</td>\n",
       "      <td>1</td>\n",
       "      <td>156</td>\n",
       "      <td>55.0</td>\n",
       "      <td>110</td>\n",
       "      <td>70</td>\n",
       "      <td>1</td>\n",
       "      <td>1</td>\n",
       "      <td>0</td>\n",
       "      <td>0</td>\n",
       "      <td>1</td>\n",
       "      <td>22.600263</td>\n",
       "    </tr>\n",
       "  </tbody>\n",
       "</table>\n",
       "</div>"
      ],
      "text/plain": [
       "     age  gender  height  weight  ap_hi  ap_lo  cholesterol  gluc  smoke  \\\n",
       "0  17363       1     172    89.0    110     70            1     1      0   \n",
       "1  21200       1     168    68.0    110     70            1     1      0   \n",
       "2  17286       1     167    74.0    120     80            1     1      0   \n",
       "3  15822       1     157    61.0     90     70            1     1      0   \n",
       "4  20458       1     156    55.0    110     70            1     1      0   \n",
       "\n",
       "   alco  active        bmi  \n",
       "0     1       0  30.083829  \n",
       "1     0       1  24.092971  \n",
       "2     0       1  26.533759  \n",
       "3     0       1  24.747454  \n",
       "4     0       1  22.600263  "
      ]
     },
     "execution_count": 9,
     "metadata": {},
     "output_type": "execute_result"
    }
   ],
   "source": [
    "X_train.head()"
   ]
  },
  {
   "cell_type": "code",
   "execution_count": 10,
   "metadata": {
    "execution": {
     "iopub.execute_input": "2020-08-17T21:45:16.636312Z",
     "iopub.status.busy": "2020-08-17T21:45:16.635414Z",
     "iopub.status.idle": "2020-08-17T21:45:16.640453Z",
     "shell.execute_reply": "2020-08-17T21:45:16.639687Z"
    },
    "papermill": {
     "duration": 0.037005,
     "end_time": "2020-08-17T21:45:16.640586",
     "exception": false,
     "start_time": "2020-08-17T21:45:16.603581",
     "status": "completed"
    },
    "tags": []
   },
   "outputs": [
    {
     "data": {
      "text/html": [
       "<div>\n",
       "<style scoped>\n",
       "    .dataframe tbody tr th:only-of-type {\n",
       "        vertical-align: middle;\n",
       "    }\n",
       "\n",
       "    .dataframe tbody tr th {\n",
       "        vertical-align: top;\n",
       "    }\n",
       "\n",
       "    .dataframe thead th {\n",
       "        text-align: right;\n",
       "    }\n",
       "</style>\n",
       "<table border=\"1\" class=\"dataframe\">\n",
       "  <thead>\n",
       "    <tr style=\"text-align: right;\">\n",
       "      <th></th>\n",
       "      <th>age</th>\n",
       "      <th>gender</th>\n",
       "      <th>height</th>\n",
       "      <th>weight</th>\n",
       "      <th>ap_hi</th>\n",
       "      <th>ap_lo</th>\n",
       "      <th>cholesterol</th>\n",
       "      <th>gluc</th>\n",
       "      <th>smoke</th>\n",
       "      <th>alco</th>\n",
       "      <th>active</th>\n",
       "      <th>bmi</th>\n",
       "    </tr>\n",
       "  </thead>\n",
       "  <tbody>\n",
       "    <tr>\n",
       "      <th>0</th>\n",
       "      <td>16036</td>\n",
       "      <td>1</td>\n",
       "      <td>165</td>\n",
       "      <td>125.0</td>\n",
       "      <td>160</td>\n",
       "      <td>100</td>\n",
       "      <td>1</td>\n",
       "      <td>2</td>\n",
       "      <td>0</td>\n",
       "      <td>0</td>\n",
       "      <td>0</td>\n",
       "      <td>45.913682</td>\n",
       "    </tr>\n",
       "    <tr>\n",
       "      <th>1</th>\n",
       "      <td>17004</td>\n",
       "      <td>1</td>\n",
       "      <td>165</td>\n",
       "      <td>120.0</td>\n",
       "      <td>100</td>\n",
       "      <td>75</td>\n",
       "      <td>2</td>\n",
       "      <td>1</td>\n",
       "      <td>0</td>\n",
       "      <td>0</td>\n",
       "      <td>1</td>\n",
       "      <td>44.077135</td>\n",
       "    </tr>\n",
       "    <tr>\n",
       "      <th>2</th>\n",
       "      <td>17547</td>\n",
       "      <td>1</td>\n",
       "      <td>151</td>\n",
       "      <td>58.0</td>\n",
       "      <td>110</td>\n",
       "      <td>60</td>\n",
       "      <td>2</td>\n",
       "      <td>1</td>\n",
       "      <td>0</td>\n",
       "      <td>0</td>\n",
       "      <td>1</td>\n",
       "      <td>25.437481</td>\n",
       "    </tr>\n",
       "    <tr>\n",
       "      <th>3</th>\n",
       "      <td>20562</td>\n",
       "      <td>1</td>\n",
       "      <td>172</td>\n",
       "      <td>70.0</td>\n",
       "      <td>130</td>\n",
       "      <td>90</td>\n",
       "      <td>1</td>\n",
       "      <td>1</td>\n",
       "      <td>0</td>\n",
       "      <td>0</td>\n",
       "      <td>1</td>\n",
       "      <td>23.661439</td>\n",
       "    </tr>\n",
       "    <tr>\n",
       "      <th>4</th>\n",
       "      <td>18759</td>\n",
       "      <td>1</td>\n",
       "      <td>168</td>\n",
       "      <td>64.0</td>\n",
       "      <td>110</td>\n",
       "      <td>80</td>\n",
       "      <td>1</td>\n",
       "      <td>1</td>\n",
       "      <td>0</td>\n",
       "      <td>0</td>\n",
       "      <td>1</td>\n",
       "      <td>22.675737</td>\n",
       "    </tr>\n",
       "  </tbody>\n",
       "</table>\n",
       "</div>"
      ],
      "text/plain": [
       "     age  gender  height  weight  ap_hi  ap_lo  cholesterol  gluc  smoke  \\\n",
       "0  16036       1     165   125.0    160    100            1     2      0   \n",
       "1  17004       1     165   120.0    100     75            2     1      0   \n",
       "2  17547       1     151    58.0    110     60            2     1      0   \n",
       "3  20562       1     172    70.0    130     90            1     1      0   \n",
       "4  18759       1     168    64.0    110     80            1     1      0   \n",
       "\n",
       "   alco  active        bmi  \n",
       "0     0       0  45.913682  \n",
       "1     0       1  44.077135  \n",
       "2     0       1  25.437481  \n",
       "3     0       1  23.661439  \n",
       "4     0       1  22.675737  "
      ]
     },
     "execution_count": 10,
     "metadata": {},
     "output_type": "execute_result"
    }
   ],
   "source": [
    "X_test.head()"
   ]
  },
  {
   "cell_type": "code",
   "execution_count": 11,
   "metadata": {
    "execution": {
     "iopub.execute_input": "2020-08-17T21:45:16.682137Z",
     "iopub.status.busy": "2020-08-17T21:45:16.681230Z",
     "iopub.status.idle": "2020-08-17T21:45:16.686314Z",
     "shell.execute_reply": "2020-08-17T21:45:16.685656Z"
    },
    "papermill": {
     "duration": 0.029152,
     "end_time": "2020-08-17T21:45:16.686474",
     "exception": false,
     "start_time": "2020-08-17T21:45:16.657322",
     "status": "completed"
    },
    "tags": []
   },
   "outputs": [
    {
     "data": {
      "text/plain": [
       "0    2020\n",
       "1    1980\n",
       "Name: cardio, dtype: int64"
      ]
     },
     "execution_count": 11,
     "metadata": {},
     "output_type": "execute_result"
    }
   ],
   "source": [
    "y_train.value_counts()"
   ]
  },
  {
   "cell_type": "code",
   "execution_count": 12,
   "metadata": {
    "execution": {
     "iopub.execute_input": "2020-08-17T21:45:16.728946Z",
     "iopub.status.busy": "2020-08-17T21:45:16.728120Z",
     "iopub.status.idle": "2020-08-17T21:45:16.731261Z",
     "shell.execute_reply": "2020-08-17T21:45:16.731817Z"
    },
    "papermill": {
     "duration": 0.02851,
     "end_time": "2020-08-17T21:45:16.732020",
     "exception": false,
     "start_time": "2020-08-17T21:45:16.703510",
     "status": "completed"
    },
    "tags": []
   },
   "outputs": [],
   "source": [
    "def bar_chart(feature):\n",
    "    survived = train[train['cardio']==1][feature].value_counts()\n",
    "    dead = train[train['cardio']==0][feature].value_counts()\n",
    "    df = pd.DataFrame([survived,dead])\n",
    "    df.index = ['cardio','healthy']\n",
    "    df.plot(kind='bar',stacked=True, figsize=(10,5))"
   ]
  },
  {
   "cell_type": "code",
   "execution_count": 13,
   "metadata": {
    "execution": {
     "iopub.execute_input": "2020-08-17T21:45:16.772158Z",
     "iopub.status.busy": "2020-08-17T21:45:16.771314Z",
     "iopub.status.idle": "2020-08-17T21:45:17.167031Z",
     "shell.execute_reply": "2020-08-17T21:45:17.167600Z"
    },
    "papermill": {
     "duration": 0.41909,
     "end_time": "2020-08-17T21:45:17.167795",
     "exception": false,
     "start_time": "2020-08-17T21:45:16.748705",
     "status": "completed"
    },
    "tags": []
   },
   "outputs": [
    {
     "data": {
      "text/plain": [
       "<matplotlib.axes._subplots.AxesSubplot at 0x7fefd524f650>"
      ]
     },
     "execution_count": 13,
     "metadata": {},
     "output_type": "execute_result"
    },
    {
     "data": {
      "image/png": "[encoded data removed]",
      "text/plain": [
       "<Figure size 432x288 with 2 Axes>"
      ]
     },
     "metadata": {
      "needs_background": "light"
     },
     "output_type": "display_data"
    }
   ],
   "source": [
    "sns.heatmap(train.corr(),cbar='plasma')\n"
   ]
  },
  {
   "cell_type": "code",
   "execution_count": 14,
   "metadata": {
    "execution": {
     "iopub.execute_input": "2020-08-17T21:45:17.210986Z",
     "iopub.status.busy": "2020-08-17T21:45:17.208218Z",
     "iopub.status.idle": "2020-08-17T21:45:17.417535Z",
     "shell.execute_reply": "2020-08-17T21:45:17.416680Z"
    },
    "papermill": {
     "duration": 0.232707,
     "end_time": "2020-08-17T21:45:17.417684",
     "exception": false,
     "start_time": "2020-08-17T21:45:17.184977",
     "status": "completed"
    },
    "tags": []
   },
   "outputs": [
    {
     "data": {
      "image/png": "[encoded data removed]",
      "text/plain": [
       "<Figure size 720x360 with 1 Axes>"
      ]
     },
     "metadata": {
      "needs_background": "light"
     },
     "output_type": "display_data"
    }
   ],
   "source": [
    "bar_chart('cholesterol')\n"
   ]
  },
  {
   "cell_type": "code",
   "execution_count": 15,
   "metadata": {
    "execution": {
     "iopub.execute_input": "2020-08-17T21:45:17.471417Z",
     "iopub.status.busy": "2020-08-17T21:45:17.470125Z",
     "iopub.status.idle": "2020-08-17T21:45:17.685791Z",
     "shell.execute_reply": "2020-08-17T21:45:17.685094Z"
    },
    "papermill": {
     "duration": 0.244448,
     "end_time": "2020-08-17T21:45:17.685951",
     "exception": false,
     "start_time": "2020-08-17T21:45:17.441503",
     "status": "completed"
    },
    "tags": []
   },
   "outputs": [
    {
     "data": {
      "image/png": "[encoded data removed]",
      "text/plain": [
       "<Figure size 720x360 with 1 Axes>"
      ]
     },
     "metadata": {
      "needs_background": "light"
     },
     "output_type": "display_data"
    }
   ],
   "source": [
    "bar_chart('gender')\n"
   ]
  },
  {
   "cell_type": "code",
   "execution_count": 16,
   "metadata": {
    "execution": {
     "iopub.execute_input": "2020-08-17T21:45:17.729624Z",
     "iopub.status.busy": "2020-08-17T21:45:17.727462Z",
     "iopub.status.idle": "2020-08-17T21:45:17.909032Z",
     "shell.execute_reply": "2020-08-17T21:45:17.908210Z"
    },
    "papermill": {
     "duration": 0.205438,
     "end_time": "2020-08-17T21:45:17.909167",
     "exception": false,
     "start_time": "2020-08-17T21:45:17.703729",
     "status": "completed"
    },
    "tags": []
   },
   "outputs": [
    {
     "data": {
      "image/png": "[encoded data removed]",
      "text/plain": [
       "<Figure size 720x360 with 1 Axes>"
      ]
     },
     "metadata": {
      "needs_background": "light"
     },
     "output_type": "display_data"
    }
   ],
   "source": [
    "bar_chart('smoke')\n"
   ]
  },
  {
   "cell_type": "code",
   "execution_count": 17,
   "metadata": {
    "execution": {
     "iopub.execute_input": "2020-08-17T21:45:17.955173Z",
     "iopub.status.busy": "2020-08-17T21:45:17.953993Z",
     "iopub.status.idle": "2020-08-17T21:45:18.226414Z",
     "shell.execute_reply": "2020-08-17T21:45:18.225580Z"
    },
    "papermill": {
     "duration": 0.298565,
     "end_time": "2020-08-17T21:45:18.226591",
     "exception": false,
     "start_time": "2020-08-17T21:45:17.928026",
     "status": "completed"
    },
    "tags": []
   },
   "outputs": [
    {
     "data": {
      "image/png": "[encoded data removed]",
      "text/plain": [
       "<Figure size 720x360 with 1 Axes>"
      ]
     },
     "metadata": {
      "needs_background": "light"
     },
     "output_type": "display_data"
    }
   ],
   "source": [
    "bar_chart('active')\n"
   ]
  },
  {
   "cell_type": "code",
   "execution_count": 18,
   "metadata": {
    "execution": {
     "iopub.execute_input": "2020-08-17T21:45:18.270663Z",
     "iopub.status.busy": "2020-08-17T21:45:18.269674Z",
     "iopub.status.idle": "2020-08-17T21:45:18.455580Z",
     "shell.execute_reply": "2020-08-17T21:45:18.454383Z"
    },
    "papermill": {
     "duration": 0.210357,
     "end_time": "2020-08-17T21:45:18.455782",
     "exception": false,
     "start_time": "2020-08-17T21:45:18.245425",
     "status": "completed"
    },
    "tags": []
   },
   "outputs": [
    {
     "data": {
      "image/png": "[encoded data removed]",
      "text/plain": [
       "<Figure size 720x360 with 1 Axes>"
      ]
     },
     "metadata": {
      "needs_background": "light"
     },
     "output_type": "display_data"
    }
   ],
   "source": [
    "bar_chart('alco')\n"
   ]
  },
  {
   "cell_type": "code",
   "execution_count": 19,
   "metadata": {
    "execution": {
     "iopub.execute_input": "2020-08-17T21:45:18.508396Z",
     "iopub.status.busy": "2020-08-17T21:45:18.504761Z",
     "iopub.status.idle": "2020-08-17T21:45:18.702010Z",
     "shell.execute_reply": "2020-08-17T21:45:18.701331Z"
    },
    "papermill": {
     "duration": 0.22245,
     "end_time": "2020-08-17T21:45:18.702144",
     "exception": false,
     "start_time": "2020-08-17T21:45:18.479694",
     "status": "completed"
    },
    "tags": []
   },
   "outputs": [
    {
     "data": {
      "image/png": "[encoded data removed]",
      "text/plain": [
       "<Figure size 720x360 with 1 Axes>"
      ]
     },
     "metadata": {
      "needs_background": "light"
     },
     "output_type": "display_data"
    }
   ],
   "source": [
    "bar_chart('gluc')\n"
   ]
  },
  {
   "cell_type": "code",
   "execution_count": 20,
   "metadata": {
    "execution": {
     "iopub.execute_input": "2020-08-17T21:45:18.754682Z",
     "iopub.status.busy": "2020-08-17T21:45:18.748312Z",
     "iopub.status.idle": "2020-08-17T21:45:19.087836Z",
     "shell.execute_reply": "2020-08-17T21:45:19.087052Z"
    },
    "papermill": {
     "duration": 0.367124,
     "end_time": "2020-08-17T21:45:19.088005",
     "exception": false,
     "start_time": "2020-08-17T21:45:18.720881",
     "status": "completed"
    },
    "tags": []
   },
   "outputs": [
    {
     "data": {
      "image/png": "[encoded data removed]",
      "text/plain": [
       "<Figure size 906.375x216 with 1 Axes>"
      ]
     },
     "metadata": {
      "needs_background": "light"
     },
     "output_type": "display_data"
    }
   ],
   "source": [
    "facet = sns.FacetGrid(train, hue=\"cardio\",aspect=4)\n",
    "facet.map(sns.kdeplot,'height',shade= True)\n",
    "facet.set(xlim=(0, train['height'].max()))\n",
    "facet.add_legend()\n",
    " \n",
    "plt.show()"
   ]
  },
  {
   "cell_type": "code",
   "execution_count": 21,
   "metadata": {
    "execution": {
     "iopub.execute_input": "2020-08-17T21:45:19.142727Z",
     "iopub.status.busy": "2020-08-17T21:45:19.135528Z",
     "iopub.status.idle": "2020-08-17T21:45:19.469589Z",
     "shell.execute_reply": "2020-08-17T21:45:19.468891Z"
    },
    "papermill": {
     "duration": 0.362691,
     "end_time": "2020-08-17T21:45:19.469725",
     "exception": false,
     "start_time": "2020-08-17T21:45:19.107034",
     "status": "completed"
    },
    "tags": []
   },
   "outputs": [
    {
     "data": {
      "image/png": "[encoded data removed]",
      "text/plain": [
       "<Figure size 906.375x216 with 1 Axes>"
      ]
     },
     "metadata": {
      "needs_background": "light"
     },
     "output_type": "display_data"
    }
   ],
   "source": [
    "facet = sns.FacetGrid(train, hue=\"cardio\",aspect=4)\n",
    "facet.map(sns.kdeplot,'height',shade= True)\n",
    "facet.set(xlim=(0, train['height'].max()))\n",
    "facet.add_legend()\n",
    "plt.xlim(100, 200)\n",
    "\n",
    "plt.show()"
   ]
  },
  {
   "cell_type": "code",
   "execution_count": 22,
   "metadata": {
    "execution": {
     "iopub.execute_input": "2020-08-17T21:45:19.524609Z",
     "iopub.status.busy": "2020-08-17T21:45:19.523691Z",
     "iopub.status.idle": "2020-08-17T21:45:19.831295Z",
     "shell.execute_reply": "2020-08-17T21:45:19.830660Z"
    },
    "papermill": {
     "duration": 0.341957,
     "end_time": "2020-08-17T21:45:19.831437",
     "exception": false,
     "start_time": "2020-08-17T21:45:19.489480",
     "status": "completed"
    },
    "tags": []
   },
   "outputs": [
    {
     "data": {
      "image/png": "[encoded data removed]",
      "text/plain": [
       "<Figure size 906.375x216 with 1 Axes>"
      ]
     },
     "metadata": {
      "needs_background": "light"
     },
     "output_type": "display_data"
    }
   ],
   "source": [
    "facet = sns.FacetGrid(train, hue=\"cardio\",aspect=4)\n",
    "facet.map(sns.kdeplot,'ap_lo',shade= True)\n",
    "facet.set(xlim=(0, train['ap_lo'].max()))\n",
    "facet.add_legend()\n",
    "plt.xlim(0, 500)\n",
    "\n",
    "plt.show()"
   ]
  },
  {
   "cell_type": "code",
   "execution_count": 23,
   "metadata": {
    "execution": {
     "iopub.execute_input": "2020-08-17T21:45:19.885037Z",
     "iopub.status.busy": "2020-08-17T21:45:19.883911Z",
     "iopub.status.idle": "2020-08-17T21:45:20.219464Z",
     "shell.execute_reply": "2020-08-17T21:45:20.218300Z"
    },
    "papermill": {
     "duration": 0.368256,
     "end_time": "2020-08-17T21:45:20.219629",
     "exception": false,
     "start_time": "2020-08-17T21:45:19.851373",
     "status": "completed"
    },
    "tags": []
   },
   "outputs": [
    {
     "data": {
      "image/png": "[encoded data removed]",
      "text/plain": [
       "<Figure size 906.375x216 with 1 Axes>"
      ]
     },
     "metadata": {
      "needs_background": "light"
     },
     "output_type": "display_data"
    }
   ],
   "source": [
    "facet = sns.FacetGrid(train, hue=\"cardio\",aspect=4)\n",
    "facet.map(sns.kdeplot,'ap_hi',shade= True)\n",
    "facet.set(xlim=(0, train['ap_hi'].max()))\n",
    "facet.add_legend()\n",
    "plt.xlim(0, 500)\n",
    "\n",
    "plt.show()"
   ]
  },
  {
   "cell_type": "code",
   "execution_count": 24,
   "metadata": {
    "execution": {
     "iopub.execute_input": "2020-08-17T21:45:20.280006Z",
     "iopub.status.busy": "2020-08-17T21:45:20.272428Z",
     "iopub.status.idle": "2020-08-17T21:45:20.645366Z",
     "shell.execute_reply": "2020-08-17T21:45:20.644654Z"
    },
    "papermill": {
     "duration": 0.404982,
     "end_time": "2020-08-17T21:45:20.645524",
     "exception": false,
     "start_time": "2020-08-17T21:45:20.240542",
     "status": "completed"
    },
    "tags": []
   },
   "outputs": [
    {
     "data": {
      "image/png": "[encoded data removed]",
      "text/plain": [
       "<Figure size 906.375x216 with 1 Axes>"
      ]
     },
     "metadata": {
      "needs_background": "light"
     },
     "output_type": "display_data"
    }
   ],
   "source": [
    "facet = sns.FacetGrid(train, hue=\"cardio\",aspect=4)\n",
    "facet.map(sns.kdeplot,'weight',shade= True)\n",
    "facet.set(xlim=(0, train['weight'].max()))\n",
    "facet.add_legend()\n",
    " \n",
    "plt.show()"
   ]
  },
  {
   "cell_type": "code",
   "execution_count": 25,
   "metadata": {
    "execution": {
     "iopub.execute_input": "2020-08-17T21:45:20.694388Z",
     "iopub.status.busy": "2020-08-17T21:45:20.693540Z",
     "iopub.status.idle": "2020-08-17T21:45:20.720896Z",
     "shell.execute_reply": "2020-08-17T21:45:20.720234Z"
    },
    "papermill": {
     "duration": 0.054463,
     "end_time": "2020-08-17T21:45:20.721083",
     "exception": false,
     "start_time": "2020-08-17T21:45:20.666620",
     "status": "completed"
    },
    "tags": []
   },
   "outputs": [
    {
     "data": {
      "text/html": [
       "<div>\n",
       "<style scoped>\n",
       "    .dataframe tbody tr th:only-of-type {\n",
       "        vertical-align: middle;\n",
       "    }\n",
       "\n",
       "    .dataframe tbody tr th {\n",
       "        vertical-align: top;\n",
       "    }\n",
       "\n",
       "    .dataframe thead th {\n",
       "        text-align: right;\n",
       "    }\n",
       "</style>\n",
       "<table border=\"1\" class=\"dataframe\">\n",
       "  <thead>\n",
       "    <tr style=\"text-align: right;\">\n",
       "      <th></th>\n",
       "      <th>age</th>\n",
       "      <th>gender</th>\n",
       "      <th>height</th>\n",
       "      <th>weight</th>\n",
       "      <th>ap_hi</th>\n",
       "      <th>ap_lo</th>\n",
       "      <th>cholesterol</th>\n",
       "      <th>gluc</th>\n",
       "      <th>smoke</th>\n",
       "      <th>alco</th>\n",
       "      <th>active</th>\n",
       "      <th>cardio</th>\n",
       "      <th>bmi</th>\n",
       "    </tr>\n",
       "  </thead>\n",
       "  <tbody>\n",
       "    <tr>\n",
       "      <th>age</th>\n",
       "      <td>1.000000</td>\n",
       "      <td>-0.037283</td>\n",
       "      <td>-0.100046</td>\n",
       "      <td>0.045356</td>\n",
       "      <td>0.020510</td>\n",
       "      <td>0.028721</td>\n",
       "      <td>0.165362</td>\n",
       "      <td>0.096951</td>\n",
       "      <td>-0.034098</td>\n",
       "      <td>-0.005863</td>\n",
       "      <td>0.000518</td>\n",
       "      <td>0.264648</td>\n",
       "      <td>0.101326</td>\n",
       "    </tr>\n",
       "    <tr>\n",
       "      <th>gender</th>\n",
       "      <td>-0.037283</td>\n",
       "      <td>1.000000</td>\n",
       "      <td>0.529250</td>\n",
       "      <td>0.160477</td>\n",
       "      <td>-0.003661</td>\n",
       "      <td>0.034800</td>\n",
       "      <td>-0.039357</td>\n",
       "      <td>-0.040184</td>\n",
       "      <td>0.348177</td>\n",
       "      <td>0.210509</td>\n",
       "      <td>0.007654</td>\n",
       "      <td>0.005259</td>\n",
       "      <td>-0.112354</td>\n",
       "    </tr>\n",
       "    <tr>\n",
       "      <th>height</th>\n",
       "      <td>-0.100046</td>\n",
       "      <td>0.529250</td>\n",
       "      <td>1.000000</td>\n",
       "      <td>0.323227</td>\n",
       "      <td>-0.008177</td>\n",
       "      <td>0.020686</td>\n",
       "      <td>-0.048899</td>\n",
       "      <td>-0.026437</td>\n",
       "      <td>0.190756</td>\n",
       "      <td>0.117636</td>\n",
       "      <td>-0.010074</td>\n",
       "      <td>-0.029716</td>\n",
       "      <td>-0.187769</td>\n",
       "    </tr>\n",
       "    <tr>\n",
       "      <th>weight</th>\n",
       "      <td>0.045356</td>\n",
       "      <td>0.160477</td>\n",
       "      <td>0.323227</td>\n",
       "      <td>1.000000</td>\n",
       "      <td>0.009849</td>\n",
       "      <td>0.035883</td>\n",
       "      <td>0.164882</td>\n",
       "      <td>0.114695</td>\n",
       "      <td>0.054882</td>\n",
       "      <td>0.053201</td>\n",
       "      <td>0.001379</td>\n",
       "      <td>0.182323</td>\n",
       "      <td>0.862915</td>\n",
       "    </tr>\n",
       "    <tr>\n",
       "      <th>ap_hi</th>\n",
       "      <td>0.020510</td>\n",
       "      <td>-0.003661</td>\n",
       "      <td>-0.008177</td>\n",
       "      <td>0.009849</td>\n",
       "      <td>1.000000</td>\n",
       "      <td>0.010284</td>\n",
       "      <td>0.007592</td>\n",
       "      <td>-0.001261</td>\n",
       "      <td>-0.005912</td>\n",
       "      <td>0.003920</td>\n",
       "      <td>0.009445</td>\n",
       "      <td>0.019603</td>\n",
       "      <td>0.014069</td>\n",
       "    </tr>\n",
       "    <tr>\n",
       "      <th>ap_lo</th>\n",
       "      <td>0.028721</td>\n",
       "      <td>0.034800</td>\n",
       "      <td>0.020686</td>\n",
       "      <td>0.035883</td>\n",
       "      <td>0.010284</td>\n",
       "      <td>1.000000</td>\n",
       "      <td>0.020132</td>\n",
       "      <td>0.008145</td>\n",
       "      <td>-0.006179</td>\n",
       "      <td>0.002377</td>\n",
       "      <td>0.019106</td>\n",
       "      <td>0.049005</td>\n",
       "      <td>0.028567</td>\n",
       "    </tr>\n",
       "    <tr>\n",
       "      <th>cholesterol</th>\n",
       "      <td>0.165362</td>\n",
       "      <td>-0.039357</td>\n",
       "      <td>-0.048899</td>\n",
       "      <td>0.164882</td>\n",
       "      <td>0.007592</td>\n",
       "      <td>0.020132</td>\n",
       "      <td>1.000000</td>\n",
       "      <td>0.462455</td>\n",
       "      <td>-0.005754</td>\n",
       "      <td>0.057154</td>\n",
       "      <td>0.035800</td>\n",
       "      <td>0.228748</td>\n",
       "      <td>0.195720</td>\n",
       "    </tr>\n",
       "    <tr>\n",
       "      <th>gluc</th>\n",
       "      <td>0.096951</td>\n",
       "      <td>-0.040184</td>\n",
       "      <td>-0.026437</td>\n",
       "      <td>0.114695</td>\n",
       "      <td>-0.001261</td>\n",
       "      <td>0.008145</td>\n",
       "      <td>0.462455</td>\n",
       "      <td>1.000000</td>\n",
       "      <td>-0.004742</td>\n",
       "      <td>0.029545</td>\n",
       "      <td>0.012669</td>\n",
       "      <td>0.092133</td>\n",
       "      <td>0.132006</td>\n",
       "    </tr>\n",
       "    <tr>\n",
       "      <th>smoke</th>\n",
       "      <td>-0.034098</td>\n",
       "      <td>0.348177</td>\n",
       "      <td>0.190756</td>\n",
       "      <td>0.054882</td>\n",
       "      <td>-0.005912</td>\n",
       "      <td>-0.006179</td>\n",
       "      <td>-0.005754</td>\n",
       "      <td>-0.004742</td>\n",
       "      <td>1.000000</td>\n",
       "      <td>0.385201</td>\n",
       "      <td>0.030722</td>\n",
       "      <td>-0.039721</td>\n",
       "      <td>-0.041688</td>\n",
       "    </tr>\n",
       "    <tr>\n",
       "      <th>alco</th>\n",
       "      <td>-0.005863</td>\n",
       "      <td>0.210509</td>\n",
       "      <td>0.117636</td>\n",
       "      <td>0.053201</td>\n",
       "      <td>0.003920</td>\n",
       "      <td>0.002377</td>\n",
       "      <td>0.057154</td>\n",
       "      <td>0.029545</td>\n",
       "      <td>0.385201</td>\n",
       "      <td>1.000000</td>\n",
       "      <td>0.032688</td>\n",
       "      <td>-0.016558</td>\n",
       "      <td>-0.008523</td>\n",
       "    </tr>\n",
       "    <tr>\n",
       "      <th>active</th>\n",
       "      <td>0.000518</td>\n",
       "      <td>0.007654</td>\n",
       "      <td>-0.010074</td>\n",
       "      <td>0.001379</td>\n",
       "      <td>0.009445</td>\n",
       "      <td>0.019106</td>\n",
       "      <td>0.035800</td>\n",
       "      <td>0.012669</td>\n",
       "      <td>0.030722</td>\n",
       "      <td>0.032688</td>\n",
       "      <td>1.000000</td>\n",
       "      <td>-0.025609</td>\n",
       "      <td>0.004109</td>\n",
       "    </tr>\n",
       "    <tr>\n",
       "      <th>cardio</th>\n",
       "      <td>0.264648</td>\n",
       "      <td>0.005259</td>\n",
       "      <td>-0.029716</td>\n",
       "      <td>0.182323</td>\n",
       "      <td>0.019603</td>\n",
       "      <td>0.049005</td>\n",
       "      <td>0.228748</td>\n",
       "      <td>0.092133</td>\n",
       "      <td>-0.039721</td>\n",
       "      <td>-0.016558</td>\n",
       "      <td>-0.025609</td>\n",
       "      <td>1.000000</td>\n",
       "      <td>0.205041</td>\n",
       "    </tr>\n",
       "    <tr>\n",
       "      <th>bmi</th>\n",
       "      <td>0.101326</td>\n",
       "      <td>-0.112354</td>\n",
       "      <td>-0.187769</td>\n",
       "      <td>0.862915</td>\n",
       "      <td>0.014069</td>\n",
       "      <td>0.028567</td>\n",
       "      <td>0.195720</td>\n",
       "      <td>0.132006</td>\n",
       "      <td>-0.041688</td>\n",
       "      <td>-0.008523</td>\n",
       "      <td>0.004109</td>\n",
       "      <td>0.205041</td>\n",
       "      <td>1.000000</td>\n",
       "    </tr>\n",
       "  </tbody>\n",
       "</table>\n",
       "</div>"
      ],
      "text/plain": [
       "                  age    gender    height    weight     ap_hi     ap_lo  \\\n",
       "age          1.000000 -0.037283 -0.100046  0.045356  0.020510  0.028721   \n",
       "gender      -0.037283  1.000000  0.529250  0.160477 -0.003661  0.034800   \n",
       "height      -0.100046  0.529250  1.000000  0.323227 -0.008177  0.020686   \n",
       "weight       0.045356  0.160477  0.323227  1.000000  0.009849  0.035883   \n",
       "ap_hi        0.020510 -0.003661 -0.008177  0.009849  1.000000  0.010284   \n",
       "ap_lo        0.028721  0.034800  0.020686  0.035883  0.010284  1.000000   \n",
       "cholesterol  0.165362 -0.039357 -0.048899  0.164882  0.007592  0.020132   \n",
       "gluc         0.096951 -0.040184 -0.026437  0.114695 -0.001261  0.008145   \n",
       "smoke       -0.034098  0.348177  0.190756  0.054882 -0.005912 -0.006179   \n",
       "alco        -0.005863  0.210509  0.117636  0.053201  0.003920  0.002377   \n",
       "active       0.000518  0.007654 -0.010074  0.001379  0.009445  0.019106   \n",
       "cardio       0.264648  0.005259 -0.029716  0.182323  0.019603  0.049005   \n",
       "bmi          0.101326 -0.112354 -0.187769  0.862915  0.014069  0.028567   \n",
       "\n",
       "             cholesterol      gluc     smoke      alco    active    cardio  \\\n",
       "age             0.165362  0.096951 -0.034098 -0.005863  0.000518  0.264648   \n",
       "gender         -0.039357 -0.040184  0.348177  0.210509  0.007654  0.005259   \n",
       "height         -0.048899 -0.026437  0.190756  0.117636 -0.010074 -0.029716   \n",
       "weight          0.164882  0.114695  0.054882  0.053201  0.001379  0.182323   \n",
       "ap_hi           0.007592 -0.001261 -0.005912  0.003920  0.009445  0.019603   \n",
       "ap_lo           0.020132  0.008145 -0.006179  0.002377  0.019106  0.049005   \n",
       "cholesterol     1.000000  0.462455 -0.005754  0.057154  0.035800  0.228748   \n",
       "gluc            0.462455  1.000000 -0.004742  0.029545  0.012669  0.092133   \n",
       "smoke          -0.005754 -0.004742  1.000000  0.385201  0.030722 -0.039721   \n",
       "alco            0.057154  0.029545  0.385201  1.000000  0.032688 -0.016558   \n",
       "active          0.035800  0.012669  0.030722  0.032688  1.000000 -0.025609   \n",
       "cardio          0.228748  0.092133 -0.039721 -0.016558 -0.025609  1.000000   \n",
       "bmi             0.195720  0.132006 -0.041688 -0.008523  0.004109  0.205041   \n",
       "\n",
       "                  bmi  \n",
       "age          0.101326  \n",
       "gender      -0.112354  \n",
       "height      -0.187769  \n",
       "weight       0.862915  \n",
       "ap_hi        0.014069  \n",
       "ap_lo        0.028567  \n",
       "cholesterol  0.195720  \n",
       "gluc         0.132006  \n",
       "smoke       -0.041688  \n",
       "alco        -0.008523  \n",
       "active       0.004109  \n",
       "cardio       0.205041  \n",
       "bmi          1.000000  "
      ]
     },
     "execution_count": 25,
     "metadata": {},
     "output_type": "execute_result"
    }
   ],
   "source": [
    "train.corr().T"
   ]
  },
  {
   "cell_type": "code",
   "execution_count": 26,
   "metadata": {
    "execution": {
     "iopub.execute_input": "2020-08-17T21:45:20.771986Z",
     "iopub.status.busy": "2020-08-17T21:45:20.770892Z",
     "iopub.status.idle": "2020-08-17T21:45:20.900555Z",
     "shell.execute_reply": "2020-08-17T21:45:20.899700Z"
    },
    "papermill": {
     "duration": 0.157948,
     "end_time": "2020-08-17T21:45:20.900695",
     "exception": false,
     "start_time": "2020-08-17T21:45:20.742747",
     "status": "completed"
    },
    "tags": []
   },
   "outputs": [],
   "source": [
    "\n",
    "from sklearn.model_selection import train_test_split, cross_val_score, GridSearchCV\n",
    "tttrain, tttest, target, target_test = train_test_split(X_train, y_train, test_size=0.2, random_state=0)"
   ]
  },
  {
   "cell_type": "code",
   "execution_count": 27,
   "metadata": {
    "execution": {
     "iopub.execute_input": "2020-08-17T21:45:20.952060Z",
     "iopub.status.busy": "2020-08-17T21:45:20.951244Z",
     "iopub.status.idle": "2020-08-17T21:45:22.916683Z",
     "shell.execute_reply": "2020-08-17T21:45:22.915910Z"
    },
    "papermill": {
     "duration": 1.994791,
     "end_time": "2020-08-17T21:45:22.916816",
     "exception": false,
     "start_time": "2020-08-17T21:45:20.922025",
     "status": "completed"
    },
    "tags": []
   },
   "outputs": [],
   "source": [
    "#imports\n",
    "from sklearn.tree import DecisionTreeClassifier\n",
    "from sklearn.ensemble import RandomForestClassifier\n",
    "\n",
    "from sklearn.model_selection import KFold\n",
    "from sklearn.model_selection import cross_val_score\n",
    "k_fold = KFold(n_splits = 10, shuffle = True, random_state = 0)\n",
    "from hyperopt import STATUS_OK, Trials, fmin, hp, tpe, space_eval\n",
    "import xgboost as xgb\n",
    "from xgboost import XGBClassifier"
   ]
  },
  {
   "cell_type": "code",
   "execution_count": 28,
   "metadata": {
    "execution": {
     "iopub.execute_input": "2020-08-17T21:45:22.968435Z",
     "iopub.status.busy": "2020-08-17T21:45:22.967597Z",
     "iopub.status.idle": "2020-08-17T21:45:23.285061Z",
     "shell.execute_reply": "2020-08-17T21:45:23.284218Z"
    },
    "papermill": {
     "duration": 0.346421,
     "end_time": "2020-08-17T21:45:23.285205",
     "exception": false,
     "start_time": "2020-08-17T21:45:22.938784",
     "status": "completed"
    },
    "tags": []
   },
   "outputs": [
    {
     "name": "stdout",
     "output_type": "stream",
     "text": [
      "[0.5825 0.64   0.6125 0.5925 0.6225 0.665  0.6025 0.6075 0.665  0.6425]\n",
      "0.6232500000000001\n"
     ]
    }
   ],
   "source": [
    "clf = DecisionTreeClassifier()\n",
    "scoring = 'accuracy'\n",
    "score = cross_val_score(clf, X_train, y_train, cv = k_fold, n_jobs = 1, scoring = scoring)\n",
    "print(score)\n",
    "print(np.mean(score))"
   ]
  },
  {
   "cell_type": "code",
   "execution_count": 29,
   "metadata": {
    "execution": {
     "iopub.execute_input": "2020-08-17T21:45:23.337365Z",
     "iopub.status.busy": "2020-08-17T21:45:23.336199Z",
     "iopub.status.idle": "2020-08-17T21:45:23.368401Z",
     "shell.execute_reply": "2020-08-17T21:45:23.367575Z"
    },
    "papermill": {
     "duration": 0.062102,
     "end_time": "2020-08-17T21:45:23.368543",
     "exception": false,
     "start_time": "2020-08-17T21:45:23.306441",
     "status": "completed"
    },
    "tags": []
   },
   "outputs": [
    {
     "data": {
      "text/plain": [
       "100.0"
      ]
     },
     "execution_count": 29,
     "metadata": {},
     "output_type": "execute_result"
    }
   ],
   "source": [
    "clf.fit(tttrain, target)\n",
    "acc_decision_tree = round(clf.score(tttrain, target) * 100, 2)\n",
    "acc_decision_tree"
   ]
  },
  {
   "cell_type": "code",
   "execution_count": 30,
   "metadata": {
    "execution": {
     "iopub.execute_input": "2020-08-17T21:45:23.420983Z",
     "iopub.status.busy": "2020-08-17T21:45:23.420148Z",
     "iopub.status.idle": "2020-08-17T21:45:23.427873Z",
     "shell.execute_reply": "2020-08-17T21:45:23.427077Z"
    },
    "papermill": {
     "duration": 0.037917,
     "end_time": "2020-08-17T21:45:23.428030",
     "exception": false,
     "start_time": "2020-08-17T21:45:23.390113",
     "status": "completed"
    },
    "tags": []
   },
   "outputs": [
    {
     "data": {
      "text/plain": [
       "63.25"
      ]
     },
     "execution_count": 30,
     "metadata": {},
     "output_type": "execute_result"
    }
   ],
   "source": [
    "acc_test_decision_tree = round(clf.score(tttest, target_test) * 100, 2)\n",
    "acc_test_decision_tree"
   ]
  },
  {
   "cell_type": "markdown",
   "execution_count": null,
   "metadata": {
    "papermill": {
     "duration": 0.023382,
     "end_time": "2020-08-17T21:45:23.475740",
     "exception": false,
     "start_time": "2020-08-17T21:45:23.452358",
     "status": "completed"
    },
    "tags": []
   },
   "source": [
    "# **Random Forest**"
   ]
  },
  {
   "cell_type": "code",
   "execution_count": 31,
   "metadata": {
    "execution": {
     "iopub.execute_input": "2020-08-17T21:45:23.529859Z",
     "iopub.status.busy": "2020-08-17T21:45:23.529063Z",
     "iopub.status.idle": "2020-08-17T21:46:23.084464Z",
     "shell.execute_reply": "2020-08-17T21:46:23.085184Z"
    },
    "papermill": {
     "duration": 59.587778,
     "end_time": "2020-08-17T21:46:23.085427",
     "exception": false,
     "start_time": "2020-08-17T21:45:23.497649",
     "status": "completed"
    },
    "tags": []
   },
   "outputs": [
    {
     "name": "stdout",
     "output_type": "stream",
     "text": [
      "100.0 {'n_estimators': 500}\n"
     ]
    }
   ],
   "source": [
    "# Random Forest\n",
    "\n",
    "random_forest = GridSearchCV(estimator=RandomForestClassifier(), param_grid={'n_estimators': [100, 300, 500]}, cv=5).fit(tttrain, target)\n",
    "random_forest.fit(tttrain, target)\n",
    "acc_random_forest = round(random_forest.score(tttrain, target) * 100, 2)\n",
    "print(acc_random_forest,random_forest.best_params_)\n"
   ]
  },
  {
   "cell_type": "code",
   "execution_count": 32,
   "metadata": {
    "execution": {
     "iopub.execute_input": "2020-08-17T21:46:23.143014Z",
     "iopub.status.busy": "2020-08-17T21:46:23.141624Z",
     "iopub.status.idle": "2020-08-17T21:46:23.291996Z",
     "shell.execute_reply": "2020-08-17T21:46:23.291285Z"
    },
    "papermill": {
     "duration": 0.182425,
     "end_time": "2020-08-17T21:46:23.292133",
     "exception": false,
     "start_time": "2020-08-17T21:46:23.109708",
     "status": "completed"
    },
    "tags": []
   },
   "outputs": [
    {
     "data": {
      "text/plain": [
       "69.12"
      ]
     },
     "execution_count": 32,
     "metadata": {},
     "output_type": "execute_result"
    }
   ],
   "source": [
    "acc_test_random_forest = round(random_forest.score(tttest, target_test) * 100, 2)\n",
    "acc_test_random_forest"
   ]
  },
  {
   "cell_type": "code",
   "execution_count": 33,
   "metadata": {
    "execution": {
     "iopub.execute_input": "2020-08-17T21:46:23.390280Z",
     "iopub.status.busy": "2020-08-17T21:46:23.351515Z",
     "iopub.status.idle": "2020-08-17T21:48:11.253061Z",
     "shell.execute_reply": "2020-08-17T21:48:11.253788Z"
    },
    "papermill": {
     "duration": 107.939414,
     "end_time": "2020-08-17T21:48:11.254030",
     "exception": false,
     "start_time": "2020-08-17T21:46:23.314616",
     "status": "completed"
    },
    "tags": []
   },
   "outputs": [
    {
     "name": "stdout",
     "output_type": "stream",
     "text": [
      "0.720625\n",
      "{'booster': 'gbtree', 'colsample_bytree': 0.85, 'eta': 0.13, 'eval_metric': 'auc', 'gamma': 0.64, 'learning_rate': 0.0054, 'max_depth': 2, 'min_child_weight': 6.125, 'missing': None, 'n_estimators': 145, 'objective': 'binary:logistic', 'subsample': 0.645, 'tree_method': 'exact', 'verbosity': 0}\n",
      "0.7046875\n",
      "{'booster': 'gbtree', 'colsample_bytree': 0.615, 'eta': 0.39, 'eval_metric': 'auc', 'gamma': 0.745, 'learning_rate': 0.0409, 'max_depth': 8, 'min_child_weight': 1.475, 'missing': None, 'n_estimators': 805, 'objective': 'binary:logistic', 'subsample': 0.9, 'tree_method': 'exact', 'verbosity': 0}\n",
      "0.7228125\n",
      "{'booster': 'gbtree', 'colsample_bytree': 0.81, 'eta': 0.17500000000000002, 'eval_metric': 'auc', 'gamma': 0.585, 'learning_rate': 0.0194, 'max_depth': 5, 'min_child_weight': 1.2750000000000001, 'missing': None, 'n_estimators': 607, 'objective': 'binary:logistic', 'subsample': 0.805, 'tree_method': 'exact', 'verbosity': 0}\n",
      "0.69375\n",
      "{'booster': 'gbtree', 'colsample_bytree': 0.54, 'eta': 0.215, 'eval_metric': 'auc', 'gamma': 0.965, 'learning_rate': 0.0497, 'max_depth': 11, 'min_child_weight': 4.275, 'missing': None, 'n_estimators': 985, 'objective': 'binary:logistic', 'subsample': 0.5650000000000001, 'tree_method': 'exact', 'verbosity': 0}\n",
      "0.72375\n",
      "{'booster': 'gbtree', 'colsample_bytree': 0.9, 'eta': 0.11, 'eval_metric': 'auc', 'gamma': 0.61, 'learning_rate': 0.0073, 'max_depth': 7, 'min_child_weight': 8.35, 'missing': None, 'n_estimators': 974, 'objective': 'binary:logistic', 'subsample': 0.915, 'tree_method': 'exact', 'verbosity': 0}\n",
      "0.711875\n",
      "{'booster': 'gbtree', 'colsample_bytree': 0.67, 'eta': 0.46, 'eval_metric': 'auc', 'gamma': 0.63, 'learning_rate': 0.0379, 'max_depth': 6, 'min_child_weight': 5.5, 'missing': None, 'n_estimators': 666, 'objective': 'binary:logistic', 'subsample': 0.91, 'tree_method': 'exact', 'verbosity': 0}\n",
      "0.7028125000000001\n",
      "{'booster': 'gbtree', 'colsample_bytree': 0.895, 'eta': 0.455, 'eval_metric': 'auc', 'gamma': 0.745, 'learning_rate': 0.047400000000000005, 'max_depth': 8, 'min_child_weight': 7.0, 'missing': None, 'n_estimators': 543, 'objective': 'binary:logistic', 'subsample': 0.795, 'tree_method': 'exact', 'verbosity': 0}\n",
      "0.72875\n",
      "{'booster': 'gbtree', 'colsample_bytree': 0.8, 'eta': 0.04, 'eval_metric': 'auc', 'gamma': 0.835, 'learning_rate': 0.0374, 'max_depth': 4, 'min_child_weight': 1.8250000000000002, 'missing': None, 'n_estimators': 252, 'objective': 'binary:logistic', 'subsample': 0.65, 'tree_method': 'exact', 'verbosity': 0}\n",
      "0.7271875\n",
      "{'booster': 'gbtree', 'colsample_bytree': 0.605, 'eta': 0.055, 'eval_metric': 'auc', 'gamma': 0.995, 'learning_rate': 0.0123, 'max_depth': 11, 'min_child_weight': 2.4250000000000003, 'missing': None, 'n_estimators': 171, 'objective': 'binary:logistic', 'subsample': 0.505, 'tree_method': 'exact', 'verbosity': 0}\n",
      "0.7234375\n",
      "{'booster': 'gbtree', 'colsample_bytree': 0.97, 'eta': 0.135, 'eval_metric': 'auc', 'gamma': 0.6, 'learning_rate': 0.0219, 'max_depth': 7, 'min_child_weight': 8.4, 'missing': None, 'n_estimators': 434, 'objective': 'binary:logistic', 'subsample': 0.99, 'tree_method': 'exact', 'verbosity': 0}\n",
      "100%|██████████| 10/10 [01:47<00:00, 10.75s/trial, best loss: 0.69375]\n",
      "best:\n",
      "{'colsample_bytree': 0.54, 'eta': 0.215, 'gamma': 0.965, 'learning_rate': 0.0497, 'max_depth': 9, 'min_child_weight': 4.275, 'n_estimators': 885, 'subsample': 0.5650000000000001}\n"
     ]
    }
   ],
   "source": [
    "\n",
    "def xgb_score(params):\n",
    "    clf = XGBClassifier(**params)\n",
    "    current_score = cross_val_score(clf, tttrain, target, cv=10).mean()\n",
    "    print(current_score, params)\n",
    "    return current_score \n",
    " \n",
    "space_xgb = {\n",
    "            'learning_rate': hp.quniform('learning_rate', 0, 0.05, 0.0001),\n",
    "            'n_estimators': hp.choice('n_estimators', range(100, 1000)),\n",
    "            'eta': hp.quniform('eta', 0.025, 0.5, 0.005),\n",
    "            'max_depth':  hp.choice('max_depth', np.arange(2, 12, dtype=int)),\n",
    "            'min_child_weight': hp.quniform('min_child_weight', 1, 9, 0.025),\n",
    "            'subsample': hp.quniform('subsample', 0.5, 1, 0.005),\n",
    "            'gamma': hp.quniform('gamma', 0.5, 1, 0.005),\n",
    "            'colsample_bytree': hp.quniform('colsample_bytree', 0.5, 1, 0.005),\n",
    "            'eval_metric': 'auc',\n",
    "            'objective': 'binary:logistic',\n",
    "            'booster': 'gbtree',\n",
    "            'tree_method': 'exact',\n",
    "            'verbosity': 0,\n",
    "            'missing': None\n",
    "        }\n",
    " \n",
    "best = fmin(fn=xgb_score, space=space_xgb, algo=tpe.suggest, max_evals=10)\n",
    "print('best:')\n",
    "print(best)"
   ]
  },
  {
   "cell_type": "code",
   "execution_count": 34,
   "metadata": {
    "execution": {
     "iopub.execute_input": "2020-08-17T21:48:11.335043Z",
     "iopub.status.busy": "2020-08-17T21:48:11.334114Z",
     "iopub.status.idle": "2020-08-17T21:48:11.359134Z",
     "shell.execute_reply": "2020-08-17T21:48:11.360013Z"
    },
    "papermill": {
     "duration": 0.071669,
     "end_time": "2020-08-17T21:48:11.360220",
     "exception": false,
     "start_time": "2020-08-17T21:48:11.288551",
     "status": "completed"
    },
    "tags": []
   },
   "outputs": [
    {
     "data": {
      "text/plain": [
       "{'booster': 'gbtree',\n",
       " 'colsample_bytree': 0.54,\n",
       " 'eta': 0.215,\n",
       " 'eval_metric': 'auc',\n",
       " 'gamma': 0.965,\n",
       " 'learning_rate': 0.0497,\n",
       " 'max_depth': 11,\n",
       " 'min_child_weight': 4.275,\n",
       " 'missing': None,\n",
       " 'n_estimators': 985,\n",
       " 'objective': 'binary:logistic',\n",
       " 'subsample': 0.5650000000000001,\n",
       " 'tree_method': 'exact',\n",
       " 'verbosity': 0}"
      ]
     },
     "execution_count": 34,
     "metadata": {},
     "output_type": "execute_result"
    }
   ],
   "source": [
    "params = space_eval(space_xgb, best)\n",
    "params"
   ]
  },
  {
   "cell_type": "code",
   "execution_count": 35,
   "metadata": {
    "execution": {
     "iopub.execute_input": "2020-08-17T21:48:11.437127Z",
     "iopub.status.busy": "2020-08-17T21:48:11.435867Z",
     "iopub.status.idle": "2020-08-17T21:48:13.930321Z",
     "shell.execute_reply": "2020-08-17T21:48:13.931694Z"
    },
    "papermill": {
     "duration": 2.537269,
     "end_time": "2020-08-17T21:48:13.931942",
     "exception": false,
     "start_time": "2020-08-17T21:48:11.394673",
     "status": "completed"
    },
    "tags": []
   },
   "outputs": [
    {
     "data": {
      "text/plain": [
       "95.88"
      ]
     },
     "execution_count": 35,
     "metadata": {},
     "output_type": "execute_result"
    }
   ],
   "source": [
    "XGB_Classifier = XGBClassifier(**params)\n",
    "XGB_Classifier.fit(tttrain, target)\n",
    "acc_XGB_Classifier = round(XGB_Classifier.score(tttrain, target) * 100, 2)\n",
    "acc_XGB_Classifier"
   ]
  },
  {
   "cell_type": "code",
   "execution_count": 36,
   "metadata": {
    "execution": {
     "iopub.execute_input": "2020-08-17T21:48:14.020823Z",
     "iopub.status.busy": "2020-08-17T21:48:14.019643Z",
     "iopub.status.idle": "2020-08-17T21:48:14.049422Z",
     "shell.execute_reply": "2020-08-17T21:48:14.050661Z"
    },
    "papermill": {
     "duration": 0.083507,
     "end_time": "2020-08-17T21:48:14.050886",
     "exception": false,
     "start_time": "2020-08-17T21:48:13.967379",
     "status": "completed"
    },
    "tags": []
   },
   "outputs": [
    {
     "data": {
      "text/plain": [
       "67.12"
      ]
     },
     "execution_count": 36,
     "metadata": {},
     "output_type": "execute_result"
    }
   ],
   "source": [
    "acc_test_XGB_Classifier = round(XGB_Classifier.score(tttest, target_test) * 100, 2)\n",
    "acc_test_XGB_Classifier"
   ]
  },
  {
   "cell_type": "code",
   "execution_count": 37,
   "metadata": {
    "execution": {
     "iopub.execute_input": "2020-08-17T21:48:14.133847Z",
     "iopub.status.busy": "2020-08-17T21:48:14.132869Z",
     "iopub.status.idle": "2020-08-17T21:48:14.252044Z",
     "shell.execute_reply": "2020-08-17T21:48:14.253273Z"
    },
    "papermill": {
     "duration": 0.166509,
     "end_time": "2020-08-17T21:48:14.253538",
     "exception": false,
     "start_time": "2020-08-17T21:48:14.087029",
     "status": "completed"
    },
    "tags": []
   },
   "outputs": [
    {
     "name": "stdout",
     "output_type": "stream",
     "text": [
      "[1 0 0 1 0 0 1 1 1 0 1 0 1 1 1 1 0 0 1 1 0 1 1 1 0 0 0 1 0 1 1 0 0 0 0 0 0\n",
      " 0 1 1 0 1 0 1 0 0 1 0 0 1 1 0 0 0 0 1 0 0 0 0 1 1 0 1 0 1 0 1 0 0 0 0 0 1\n",
      " 1 0 1 1 1 0 0 1 1 1 1 1 1 0 1 1 1 1 1 0 0 0 1 0 1 1 1 1 0 0 1 0 0 0 1 1 1\n",
      " 0 0 1 0 0 0 0 1 1 0 0 0 1 1 0 1 1 0 1 0 1 1 0 1 1 1 1 0 1 1 0 1 0 0 0 0 0\n",
      " 0 0 1 0 0 1 0 1 0 1 0 0 0 0 1 0 0 1 1 1 1 0 1 0 0 0 1 1 0 0 1 1 1 1 1 1 1\n",
      " 0 1 1 0 0 0 1 0 1 0 1 0 1 0 1 0 1 1 0 1 1 1 1 0 1 1 1 0 1 1 0 1 1 1 1 0 0\n",
      " 1 1 0 1 0 0 1 0 1 1 1 1 1 1 0 1 1 0 1 1 1 0 0 1 1 1 0 1 0 1 0 0 0 0 0 1 0\n",
      " 1 1 0 1 0 0 0 0 1 0 0 1 1 1 1 1 1 1 1 1 0 1 0 0 0 0 0 0 1 1 1 1 0 1 1 1 1\n",
      " 1 1 0 1 0 0 1 0 1 1 0 0 1 1 0 1 0 0 1 1 0 0 1 0 1 0 1 0 1 1 1 0 1 1 1 1 0\n",
      " 1 0 0 1 0 0 1 0 1 1 0 1 1 0 1 0 1 1 0 1 1 0 0 1 0 1 0 1 0 1 1 1 1 0 0 0 1\n",
      " 1 1 1 0 1 0 1 0 0 0 1 0 1 0 1 1 0 1 1 0 1 1 1 0 0 1 1 1 0 1 1 0 1 1 1 0 1\n",
      " 0 1 0 1 1 1 1 0 1 1 0 1 1 1 1 1 1 1 0 1 0 0 0 1 0 0 1 0 1 1 0 1 0 1 0 0 0\n",
      " 1 0 0 1 0 1 1 0 0 0 0 0 0 0 1 1 1 1 0 0 0 0 1 0 1 1 0 0 1 1 1 1 0 0 0 0 0\n",
      " 1 1 0 0 1 0 1 0 1 1 1 1 1 1 1 0 0 1 0 0 1 1 1 1 0 0 0 1 1 1 0 1 1 1 0 0 1\n",
      " 0 1 1 0 0 0 0 0 0 1 1 1 0 1 1 1 0 0 0 0 1 0 1 1 0 0 1 1 0 1 1 0 1 0 0 1 0\n",
      " 1 0 1 1 1 1 0 0 0 0 1 1 0 1 1 1 0 1 1 1 1 1 1 0 1 0 1 0 0 0 1 0 0 1 1 1 0\n",
      " 0 0 1 0 0 1 0 0 1 0 1 0 1 0 1 1 1 0 0 0 1 1 1 1 0 1 1 1 0 0 0 0 0 0 1 0 0\n",
      " 1 0 0 0 1 0 0 1 1 0 1 1 1 0 0 1 1 1 1 0 1 0 1 1 0 0 1 1 1 1 0 0 0 1 0 0 0\n",
      " 0 1 0 0 0 1 1 0 0 0 1 0 0 0 0 0 1 0 0 0 0 1 0 0 0 0 0 1 0 1 1 1 0 0 1 1 1\n",
      " 1 1 1 1 1 1 0 1 1 0 0 1 1 0 1 1 0 0 1 0 1 0 0 1 0 0 0 0 1 1 1 1 0 1 1 0 0\n",
      " 1 0 0 0 1 0 1 0 1 1 0 0 1 1 1 1 1 0 1 1 0 1 0 1 1 1 1 0 0 1 0 1 1 1 1 1 0\n",
      " 0 0 0 1 0 1 0 0 0 0 1 1 0 0 0 1 1 0 1 0 1 1 1 1 1 0 0 0 0 1 1 1 1 1 0 1 1\n",
      " 1 0 1 0 1 1 1 1 0 0 1 1 0 0 0 0 1 1 0 1 0 1 1 0 0 1 1 0 1 0 1 1 1 1 1 1 0\n",
      " 0 1 0 0 1 0 1 0 1 1 0 0 0 0 1 0 0 0 0 0 0 0 0 1 1 0 1 1 1 1 0 0 1 0 1 0 1\n",
      " 0 0 1 0 0 1 1 1 1 0 0 1 0 0 1 0 1 0 0 1 0 1 0 1 0 1 1 0 0 1 0 1 0 1 0 0 1\n",
      " 1 0 1 0 0 1 0 1 1 1 1 1 0 1 0 1 0 0 1 1 1 0 1 0 0 1 0 1 0 1 1 0 1 0 0 1 0\n",
      " 1 0 0 1 0 0 1 0 0 1 0 1 1 1 1 0 1 1 1 1 1 0 0 0 0 0 0 0 0 0 0 1 0 1 1 0 0\n",
      " 0]\n"
     ]
    }
   ],
   "source": [
    "y_pred = XGB_Classifier.predict(X_test)\n",
    "\n",
    "pred=pd.DataFrame(y_pred)\n",
    "\n",
    "y_final = (y_pred > 0.5).astype(int).reshape(test.shape[0])\n",
    "print(y_final)\n",
    "\n",
    "output = pd.DataFrame({'id': test['id'], 'cardio': y_final})\n",
    "output.to_csv('output.csv', index=False)"
   ]
  },
  {
   "cell_type": "code",
   "execution_count": 38,
   "metadata": {
    "execution": {
     "iopub.execute_input": "2020-08-17T21:48:14.341269Z",
     "iopub.status.busy": "2020-08-17T21:48:14.340365Z",
     "iopub.status.idle": "2020-08-17T21:48:14.899244Z",
     "shell.execute_reply": "2020-08-17T21:48:14.898530Z"
    },
    "papermill": {
     "duration": 0.610343,
     "end_time": "2020-08-17T21:48:14.899378",
     "exception": false,
     "start_time": "2020-08-17T21:48:14.289035",
     "status": "completed"
    },
    "tags": []
   },
   "outputs": [
    {
     "data": {
      "image/png": "[encoded data removed]",
      "text/plain": [
       "<Figure size 1080x1080 with 1 Axes>"
      ]
     },
     "metadata": {
      "needs_background": "light"
     },
     "output_type": "display_data"
    }
   ],
   "source": [
    "fig =  plt.figure(figsize = (15,15))\n",
    "axes = fig.add_subplot(111)\n",
    "xgb.plot_importance(XGB_Classifier,ax = axes,height =0.5)\n",
    "plt.show();\n",
    "plt.close()"
   ]
  },
  {
   "cell_type": "code",
   "execution_count": 39,
   "metadata": {
    "execution": {
     "iopub.execute_input": "2020-08-17T21:48:14.976169Z",
     "iopub.status.busy": "2020-08-17T21:48:14.971733Z",
     "iopub.status.idle": "2020-08-17T21:48:52.318466Z",
     "shell.execute_reply": "2020-08-17T21:48:52.319193Z"
    },
    "papermill": {
     "duration": 37.391539,
     "end_time": "2020-08-17T21:48:52.319404",
     "exception": false,
     "start_time": "2020-08-17T21:48:14.927865",
     "status": "completed"
    },
    "tags": []
   },
   "outputs": [
    {
     "data": {
      "text/plain": [
       "XGBRegressor(base_score=0.25, booster='gbtree', colsample_bylevel=1,\n",
       "             colsample_bynode=1, colsample_bytree=1, gamma=0, gpu_id=-1,\n",
       "             importance_type='gain', interaction_constraints='',\n",
       "             learning_rate=0.1, max_delta_step=0, max_depth=2,\n",
       "             min_child_weight=1, missing=None, monotone_constraints='()',\n",
       "             n_estimators=900, n_jobs=0, num_parallel_tree=1, random_state=0,\n",
       "             reg_alpha=0, reg_lambda=1, scale_pos_weight=1, subsample=1,\n",
       "             tree_method='exact', validate_parameters=1, verbosity=None)"
      ]
     },
     "execution_count": 39,
     "metadata": {},
     "output_type": "execute_result"
    }
   ],
   "source": [
    "import xgboost\n",
    "regressor1=xgboost.XGBRegressor()\n",
    "from sklearn.model_selection import RandomizedSearchCV\n",
    "\n",
    "n_estimators = [100,200, 300, 500,700, 900]\n",
    "criterion = ['gini', 'entropy']\n",
    "depth = [3,5,10,15]\n",
    "min_split=[2,3,4]\n",
    "min_leaf=[2,3,4]\n",
    "bootstrap = ['True', 'False']\n",
    "verbose = [5]\n",
    "\n",
    "hyperparameter_grid = {\n",
    "    'n_estimators': n_estimators,\n",
    "    'max_depth':depth,\n",
    "    'criterion':criterion,\n",
    "    'bootstrap':bootstrap,\n",
    "    'verbose':verbose,\n",
    "    'min_samples_split':min_split,\n",
    "    'min_samples_leaf':min_leaf\n",
    "    }\n",
    "\n",
    "random_cv = RandomizedSearchCV(estimator=regressor1,\n",
    "                               param_distributions=hyperparameter_grid,\n",
    "                               cv=5, \n",
    "                               scoring = 'neg_mean_absolute_error',\n",
    "                               n_jobs = 4, \n",
    "                               return_train_score = True,\n",
    "                               random_state=42)\n",
    "random_cv.fit(X_train,y_train)\n",
    "\n",
    "\n",
    "regressor1 = xgboost.XGBRegressor(base_score=0.25, booster='gbtree', colsample_bylevel=1,\n",
    "             colsample_bynode=1, colsample_bytree=1, gamma=0, gpu_id=-1,\n",
    "             importance_type='gain', interaction_constraints='',\n",
    "             learning_rate=0.1, max_delta_step=0, max_depth=2,\n",
    "             min_child_weight=1, missing=None, monotone_constraints='()',\n",
    "             n_estimators=900, n_jobs=0, num_parallel_tree=1, random_state=0,\n",
    "             reg_alpha=0, reg_lambda=1, scale_pos_weight=1, subsample=1,\n",
    "             tree_method='exact', validate_parameters=1, verbosity=None)\n",
    "regressor1.fit(X_train,y_train)"
   ]
  },
  {
   "cell_type": "code",
   "execution_count": 40,
   "metadata": {
    "execution": {
     "iopub.execute_input": "2020-08-17T21:48:52.402602Z",
     "iopub.status.busy": "2020-08-17T21:48:52.401716Z",
     "iopub.status.idle": "2020-08-17T21:48:52.409678Z",
     "shell.execute_reply": "2020-08-17T21:48:52.410350Z"
    },
    "papermill": {
     "duration": 0.056107,
     "end_time": "2020-08-17T21:48:52.410568",
     "exception": false,
     "start_time": "2020-08-17T21:48:52.354461",
     "status": "completed"
    },
    "tags": []
   },
   "outputs": [
    {
     "data": {
      "text/plain": [
       "XGBRegressor(base_score=0.5, booster='gbtree', bootstrap='True',\n",
       "             colsample_bylevel=1, colsample_bynode=1, colsample_bytree=1,\n",
       "             criterion='gini', gamma=0, gpu_id=-1, importance_type='gain',\n",
       "             interaction_constraints='', learning_rate=0.300000012,\n",
       "             max_delta_step=0, max_depth=15, min_child_weight=1,\n",
       "             min_samples_leaf=4, min_samples_split=2, missing=nan,\n",
       "             monotone_constraints='()', n_estimators=100, n_jobs=0,\n",
       "             num_parallel_tree=1, random_state=0, reg_alpha=0, reg_lambda=1,\n",
       "             scale_pos_weight=1, subsample=1, tree_method='exact',\n",
       "             validate_parameters=1, verbose=5, ...)"
      ]
     },
     "execution_count": 40,
     "metadata": {},
     "output_type": "execute_result"
    }
   ],
   "source": [
    "random_cv.best_estimator_\n"
   ]
  },
  {
   "cell_type": "code",
   "execution_count": 41,
   "metadata": {
    "execution": {
     "iopub.execute_input": "2020-08-17T21:48:52.482121Z",
     "iopub.status.busy": "2020-08-17T21:48:52.481344Z",
     "iopub.status.idle": "2020-08-17T21:48:52.484163Z",
     "shell.execute_reply": "2020-08-17T21:48:52.484820Z"
    },
    "papermill": {
     "duration": 0.039072,
     "end_time": "2020-08-17T21:48:52.485032",
     "exception": false,
     "start_time": "2020-08-17T21:48:52.445960",
     "status": "completed"
    },
    "tags": []
   },
   "outputs": [],
   "source": [
    "#preds"
   ]
  },
  {
   "cell_type": "code",
   "execution_count": null,
   "metadata": {
    "papermill": {
     "duration": 0.028407,
     "end_time": "2020-08-17T21:48:52.542430",
     "exception": false,
     "start_time": "2020-08-17T21:48:52.514023",
     "status": "completed"
    },
    "tags": []
   },
   "outputs": [],
   "source": []
  },
  {
   "cell_type": "code",
   "execution_count": null,
   "metadata": {
    "papermill": {
     "duration": 0.028438,
     "end_time": "2020-08-17T21:48:52.600316",
     "exception": false,
     "start_time": "2020-08-17T21:48:52.571878",
     "status": "completed"
    },
    "tags": []
   },
   "outputs": [],
   "source": [
    "\n"
   ]
  }
 ],
 "metadata": {
  "kernelspec": {
   "display_name": "Python 3",
   "language": "python",
   "name": "python3"
  },
  "language_info": {
   "codemirror_mode": {
    "name": "ipython",
    "version": 3
   },
   "file_extension": ".py",
   "mimetype": "text/x-python",
   "name": "python",
   "nbconvert_exporter": "python",
   "pygments_lexer": "ipython3",
   "version": "3.7.6"
  },
  "papermill": {
   "duration": 224.329942,
   "end_time": "2020-08-17T21:48:53.690902",
   "environment_variables": {},
   "exception": null,
   "input_path": "__notebook__.ipynb",
   "output_path": "__notebook__.ipynb",
   "parameters": {},
   "start_time": "2020-08-17T21:45:09.360960",
   "version": "2.1.0"
  }
 },
 "nbformat": 4,
 "nbformat_minor": 4
}
