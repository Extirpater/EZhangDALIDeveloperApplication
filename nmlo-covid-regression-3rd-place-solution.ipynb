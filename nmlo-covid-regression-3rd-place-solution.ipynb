{
 "cells": [
  {
   "cell_type": "markdown",
   "execution_count": null,
   "metadata": {
    "papermill": {
     "duration": 0.015369,
     "end_time": "2020-08-24T14:37:50.893021",
     "exception": false,
     "start_time": "2020-08-24T14:37:50.877652",
     "status": "completed"
    },
    "tags": []
   },
   "source": [
    "# **Introduction**"
   ]
  },
  {
   "cell_type": "markdown",
   "execution_count": null,
   "metadata": {
    "papermill": {
     "duration": 0.012266,
     "end_time": "2020-08-24T14:37:50.918459",
     "exception": false,
     "start_time": "2020-08-24T14:37:50.906193",
     "status": "completed"
    },
    "tags": []
   },
   "source": [
    "**Problem Statement**\n",
    "\n",
    "Predict the number of covid cases per region based off of demographic!"
   ]
  },
  {
   "cell_type": "markdown",
   "execution_count": null,
   "metadata": {
    "papermill": {
     "duration": 0.012213,
     "end_time": "2020-08-24T14:37:50.943174",
     "exception": false,
     "start_time": "2020-08-24T14:37:50.930961",
     "status": "completed"
    },
    "tags": []
   },
   "source": [
    "**Lets Get Coding!!**"
   ]
  },
  {
   "cell_type": "markdown",
   "execution_count": null,
   "metadata": {
    "papermill": {
     "duration": 0.012348,
     "end_time": "2020-08-24T14:37:50.967997",
     "exception": false,
     "start_time": "2020-08-24T14:37:50.955649",
     "status": "completed"
    },
    "tags": []
   },
   "source": [
    "![](https://ewscripps.brightspotcdn.com/dims4/default/7ee8cb6/2147483647/strip/true/crop/1280x720+0+0/resize/1280x720!/quality/90/?url=http%3A%2F%2Fewscripps-brightspot.s3.amazonaws.com%2F72%2F52%2F83d95c7b4318a34a8373c722bc6b%2Fcoronavirus-background-1280x720-1.jpg)"
   ]
  },
  {
   "cell_type": "markdown",
   "execution_count": null,
   "metadata": {
    "papermill": {
     "duration": 0.011892,
     "end_time": "2020-08-24T14:37:50.992116",
     "exception": false,
     "start_time": "2020-08-24T14:37:50.980224",
     "status": "completed"
    },
    "tags": []
   },
   "source": [
    "# **Imports**"
   ]
  },
  {
   "cell_type": "markdown",
   "execution_count": null,
   "metadata": {
    "papermill": {
     "duration": 0.012207,
     "end_time": "2020-08-24T14:37:51.017392",
     "exception": false,
     "start_time": "2020-08-24T14:37:51.005185",
     "status": "completed"
    },
    "tags": []
   },
   "source": [
    "**Lets first import some modules**....."
   ]
  },
  {
   "cell_type": "code",
   "execution_count": 1,
   "metadata": {
    "_cell_guid": "b1076dfc-b9ad-4769-8c92-a6c4dae69d19",
    "_uuid": "8f2839f25d086af736a60e9eeb907d3b93b6e0e5",
    "execution": {
     "iopub.execute_input": "2020-08-24T14:37:51.050256Z",
     "iopub.status.busy": "2020-08-24T14:37:51.049244Z",
     "iopub.status.idle": "2020-08-24T14:37:52.121653Z",
     "shell.execute_reply": "2020-08-24T14:37:52.120716Z"
    },
    "papermill": {
     "duration": 1.092127,
     "end_time": "2020-08-24T14:37:52.121811",
     "exception": false,
     "start_time": "2020-08-24T14:37:51.029684",
     "status": "completed"
    },
    "tags": []
   },
   "outputs": [
    {
     "name": "stdout",
     "output_type": "stream",
     "text": [
      "/kaggle/input/nmlo-contest-3/test.csv\n",
      "/kaggle/input/nmlo-contest-3/sample.csv\n",
      "/kaggle/input/nmlo-contest-3/train.csv\n"
     ]
    }
   ],
   "source": [
    "import numpy as np \n",
    "import pandas as pd \n",
    "import matplotlib.pyplot as plt\n",
    "import seaborn as sns\n",
    "from itertools import cycle\n",
    "color_cycle = cycle(plt.rcParams['axes.prop_cycle'].by_key()['color'])\n",
    "\n",
    "import os\n",
    "for dirname, _, filenames in os.walk('/kaggle/input'):\n",
    "    for filename in filenames:\n",
    "        print(os.path.join(dirname, filename))\n"
   ]
  },
  {
   "cell_type": "code",
   "execution_count": 2,
   "metadata": {
    "_cell_guid": "79c7e3d0-c299-4dcb-8224-4455121ee9b0",
    "_uuid": "d629ff2d2480ee46fbb7e2d37f6b5fab8052498a",
    "execution": {
     "iopub.execute_input": "2020-08-24T14:37:52.156357Z",
     "iopub.status.busy": "2020-08-24T14:37:52.155574Z",
     "iopub.status.idle": "2020-08-24T14:37:52.175003Z",
     "shell.execute_reply": "2020-08-24T14:37:52.174335Z"
    },
    "papermill": {
     "duration": 0.040431,
     "end_time": "2020-08-24T14:37:52.175148",
     "exception": false,
     "start_time": "2020-08-24T14:37:52.134717",
     "status": "completed"
    },
    "tags": []
   },
   "outputs": [],
   "source": [
    "train_data = pd.read_csv('/kaggle/input/nmlo-contest-3/train.csv')\n",
    "test_data = pd.read_csv('/kaggle/input/nmlo-contest-3/test.csv')\n",
    "train = train_data.copy()\n",
    "test = test_data.copy()"
   ]
  },
  {
   "cell_type": "code",
   "execution_count": 3,
   "metadata": {
    "execution": {
     "iopub.execute_input": "2020-08-24T14:37:52.218335Z",
     "iopub.status.busy": "2020-08-24T14:37:52.216194Z",
     "iopub.status.idle": "2020-08-24T14:37:52.230538Z",
     "shell.execute_reply": "2020-08-24T14:37:52.229840Z"
    },
    "papermill": {
     "duration": 0.042273,
     "end_time": "2020-08-24T14:37:52.230661",
     "exception": false,
     "start_time": "2020-08-24T14:37:52.188388",
     "status": "completed"
    },
    "tags": []
   },
   "outputs": [
    {
     "data": {
      "text/html": [
       "<div>\n",
       "<style scoped>\n",
       "    .dataframe tbody tr th:only-of-type {\n",
       "        vertical-align: middle;\n",
       "    }\n",
       "\n",
       "    .dataframe tbody tr th {\n",
       "        vertical-align: top;\n",
       "    }\n",
       "\n",
       "    .dataframe thead th {\n",
       "        text-align: right;\n",
       "    }\n",
       "</style>\n",
       "<table border=\"1\" class=\"dataframe\">\n",
       "  <thead>\n",
       "    <tr style=\"text-align: right;\">\n",
       "      <th></th>\n",
       "      <th>id</th>\n",
       "      <th>ed</th>\n",
       "      <th>inc</th>\n",
       "      <th>pop</th>\n",
       "      <th>cases</th>\n",
       "    </tr>\n",
       "  </thead>\n",
       "  <tbody>\n",
       "    <tr>\n",
       "      <th>0</th>\n",
       "      <td>0</td>\n",
       "      <td>27.7</td>\n",
       "      <td>59338.0</td>\n",
       "      <td>55869.0</td>\n",
       "      <td>789</td>\n",
       "    </tr>\n",
       "    <tr>\n",
       "      <th>1</th>\n",
       "      <td>3</td>\n",
       "      <td>11.5</td>\n",
       "      <td>46064.0</td>\n",
       "      <td>22394.0</td>\n",
       "      <td>255</td>\n",
       "    </tr>\n",
       "    <tr>\n",
       "      <th>2</th>\n",
       "      <td>4</td>\n",
       "      <td>12.6</td>\n",
       "      <td>50412.0</td>\n",
       "      <td>57826.0</td>\n",
       "      <td>440</td>\n",
       "    </tr>\n",
       "    <tr>\n",
       "      <th>3</th>\n",
       "      <td>5</td>\n",
       "      <td>13.3</td>\n",
       "      <td>29267.0</td>\n",
       "      <td>10101.0</td>\n",
       "      <td>393</td>\n",
       "    </tr>\n",
       "    <tr>\n",
       "      <th>4</th>\n",
       "      <td>6</td>\n",
       "      <td>16.1</td>\n",
       "      <td>37365.0</td>\n",
       "      <td>19448.0</td>\n",
       "      <td>672</td>\n",
       "    </tr>\n",
       "  </tbody>\n",
       "</table>\n",
       "</div>"
      ],
      "text/plain": [
       "   id    ed      inc      pop  cases\n",
       "0   0  27.7  59338.0  55869.0    789\n",
       "1   3  11.5  46064.0  22394.0    255\n",
       "2   4  12.6  50412.0  57826.0    440\n",
       "3   5  13.3  29267.0  10101.0    393\n",
       "4   6  16.1  37365.0  19448.0    672"
      ]
     },
     "execution_count": 3,
     "metadata": {},
     "output_type": "execute_result"
    }
   ],
   "source": [
    "train.head()"
   ]
  },
  {
   "cell_type": "code",
   "execution_count": 4,
   "metadata": {
    "execution": {
     "iopub.execute_input": "2020-08-24T14:37:52.287567Z",
     "iopub.status.busy": "2020-08-24T14:37:52.286468Z",
     "iopub.status.idle": "2020-08-24T14:37:52.290210Z",
     "shell.execute_reply": "2020-08-24T14:37:52.290990Z"
    },
    "papermill": {
     "duration": 0.047173,
     "end_time": "2020-08-24T14:37:52.291225",
     "exception": false,
     "start_time": "2020-08-24T14:37:52.244052",
     "status": "completed"
    },
    "tags": []
   },
   "outputs": [
    {
     "name": "stdout",
     "output_type": "stream",
     "text": [
      "<class 'pandas.core.frame.DataFrame'>\n",
      "RangeIndex: 1947 entries, 0 to 1946\n",
      "Data columns (total 5 columns):\n",
      " #   Column  Non-Null Count  Dtype  \n",
      "---  ------  --------------  -----  \n",
      " 0   id      1947 non-null   int64  \n",
      " 1   ed      1947 non-null   float64\n",
      " 2   inc     1947 non-null   float64\n",
      " 3   pop     1947 non-null   float64\n",
      " 4   cases   1947 non-null   int64  \n",
      "dtypes: float64(3), int64(2)\n",
      "memory usage: 76.2 KB\n"
     ]
    }
   ],
   "source": [
    "train.info()"
   ]
  },
  {
   "cell_type": "code",
   "execution_count": 5,
   "metadata": {
    "execution": {
     "iopub.execute_input": "2020-08-24T14:37:52.330388Z",
     "iopub.status.busy": "2020-08-24T14:37:52.329403Z",
     "iopub.status.idle": "2020-08-24T14:37:52.333855Z",
     "shell.execute_reply": "2020-08-24T14:37:52.334509Z"
    },
    "papermill": {
     "duration": 0.024242,
     "end_time": "2020-08-24T14:37:52.334668",
     "exception": false,
     "start_time": "2020-08-24T14:37:52.310426",
     "status": "completed"
    },
    "tags": []
   },
   "outputs": [
    {
     "data": {
      "text/plain": [
       "(1947, 5)"
      ]
     },
     "execution_count": 5,
     "metadata": {},
     "output_type": "execute_result"
    }
   ],
   "source": [
    "train.shape"
   ]
  },
  {
   "cell_type": "code",
   "execution_count": 6,
   "metadata": {
    "execution": {
     "iopub.execute_input": "2020-08-24T14:37:52.374352Z",
     "iopub.status.busy": "2020-08-24T14:37:52.373318Z",
     "iopub.status.idle": "2020-08-24T14:37:52.379469Z",
     "shell.execute_reply": "2020-08-24T14:37:52.378792Z"
    },
    "papermill": {
     "duration": 0.031951,
     "end_time": "2020-08-24T14:37:52.379589",
     "exception": false,
     "start_time": "2020-08-24T14:37:52.347638",
     "status": "completed"
    },
    "tags": []
   },
   "outputs": [
    {
     "data": {
      "text/plain": [
       "id       0\n",
       "ed       0\n",
       "inc      0\n",
       "pop      0\n",
       "cases    0\n",
       "dtype: int64"
      ]
     },
     "execution_count": 6,
     "metadata": {},
     "output_type": "execute_result"
    }
   ],
   "source": [
    "train.isnull().sum()"
   ]
  },
  {
   "cell_type": "markdown",
   "execution_count": null,
   "metadata": {
    "papermill": {
     "duration": 0.012778,
     "end_time": "2020-08-24T14:37:52.405584",
     "exception": false,
     "start_time": "2020-08-24T14:37:52.392806",
     "status": "completed"
    },
    "tags": []
   },
   "source": [
    "# **EDA**"
   ]
  },
  {
   "cell_type": "markdown",
   "execution_count": null,
   "metadata": {
    "papermill": {
     "duration": 0.015293,
     "end_time": "2020-08-24T14:37:52.434097",
     "exception": false,
     "start_time": "2020-08-24T14:37:52.418804",
     "status": "completed"
    },
    "tags": []
   },
   "source": [
    "Let's some some data exploration!"
   ]
  },
  {
   "cell_type": "code",
   "execution_count": 7,
   "metadata": {
    "execution": {
     "iopub.execute_input": "2020-08-24T14:37:52.470237Z",
     "iopub.status.busy": "2020-08-24T14:37:52.469485Z",
     "iopub.status.idle": "2020-08-24T14:37:52.705639Z",
     "shell.execute_reply": "2020-08-24T14:37:52.705012Z"
    },
    "papermill": {
     "duration": 0.258543,
     "end_time": "2020-08-24T14:37:52.705759",
     "exception": false,
     "start_time": "2020-08-24T14:37:52.447216",
     "status": "completed"
    },
    "tags": []
   },
   "outputs": [
    {
     "data": {
      "image/png": "[encoded data removed]",
      "text/plain": [
       "<Figure size 1080x360 with 1 Axes>"
      ]
     },
     "metadata": {
      "needs_background": "light"
     },
     "output_type": "display_data"
    }
   ],
   "source": [
    "plt.figure(figsize=(15,5))\n",
    "plt.plot(train.cases,linewidth=2,color=next(color_cycle))\n",
    "plt.title('Distribution Plot for Covid Cases')\n",
    "plt.ylabel('# of people');"
   ]
  },
  {
   "cell_type": "code",
   "execution_count": 8,
   "metadata": {
    "execution": {
     "iopub.execute_input": "2020-08-24T14:37:52.742153Z",
     "iopub.status.busy": "2020-08-24T14:37:52.741422Z",
     "iopub.status.idle": "2020-08-24T14:37:52.899253Z",
     "shell.execute_reply": "2020-08-24T14:37:52.898586Z"
    },
    "papermill": {
     "duration": 0.178074,
     "end_time": "2020-08-24T14:37:52.899377",
     "exception": false,
     "start_time": "2020-08-24T14:37:52.721303",
     "status": "completed"
    },
    "tags": []
   },
   "outputs": [
    {
     "data": {
      "image/png": "[encoded data removed]",
      "text/plain": [
       "<Figure size 1080x360 with 1 Axes>"
      ]
     },
     "metadata": {
      "needs_background": "light"
     },
     "output_type": "display_data"
    }
   ],
   "source": [
    "plt.figure(figsize=(15,5))\n",
    "plt.plot(train.cases.sort_values().reset_index(drop=True),color=next(color_cycle))\n",
    "plt.title('Distribution Plot for Covid Cases')\n",
    "plt.ylabel('# of people');"
   ]
  },
  {
   "cell_type": "markdown",
   "execution_count": null,
   "metadata": {
    "papermill": {
     "duration": 0.013145,
     "end_time": "2020-08-24T14:37:52.926185",
     "exception": false,
     "start_time": "2020-08-24T14:37:52.913040",
     "status": "completed"
    },
    "tags": []
   },
   "source": [
    "**Looks like there is a huge spike of cases at the end.**"
   ]
  },
  {
   "cell_type": "code",
   "execution_count": 9,
   "metadata": {
    "execution": {
     "iopub.execute_input": "2020-08-24T14:37:52.964497Z",
     "iopub.status.busy": "2020-08-24T14:37:52.963730Z",
     "iopub.status.idle": "2020-08-24T14:37:53.240654Z",
     "shell.execute_reply": "2020-08-24T14:37:53.239938Z"
    },
    "papermill": {
     "duration": 0.301021,
     "end_time": "2020-08-24T14:37:53.240790",
     "exception": false,
     "start_time": "2020-08-24T14:37:52.939769",
     "status": "completed"
    },
    "tags": []
   },
   "outputs": [
    {
     "data": {
      "image/png": "[encoded data removed]",
      "text/plain": [
       "<Figure size 432x288 with 1 Axes>"
      ]
     },
     "metadata": {
      "needs_background": "light"
     },
     "output_type": "display_data"
    }
   ],
   "source": [
    "sns.distplot(train['cases']);"
   ]
  },
  {
   "cell_type": "code",
   "execution_count": 10,
   "metadata": {
    "execution": {
     "iopub.execute_input": "2020-08-24T14:37:53.277223Z",
     "iopub.status.busy": "2020-08-24T14:37:53.276231Z",
     "iopub.status.idle": "2020-08-24T14:37:53.281336Z",
     "shell.execute_reply": "2020-08-24T14:37:53.280452Z"
    },
    "papermill": {
     "duration": 0.026203,
     "end_time": "2020-08-24T14:37:53.281514",
     "exception": false,
     "start_time": "2020-08-24T14:37:53.255311",
     "status": "completed"
    },
    "tags": []
   },
   "outputs": [
    {
     "data": {
      "text/plain": [
       "225000"
      ]
     },
     "execution_count": 10,
     "metadata": {},
     "output_type": "execute_result"
    }
   ],
   "source": [
    "train['cases'].max()"
   ]
  },
  {
   "cell_type": "code",
   "execution_count": 11,
   "metadata": {
    "execution": {
     "iopub.execute_input": "2020-08-24T14:37:53.328155Z",
     "iopub.status.busy": "2020-08-24T14:37:53.327306Z",
     "iopub.status.idle": "2020-08-24T14:37:53.330362Z",
     "shell.execute_reply": "2020-08-24T14:37:53.331165Z"
    },
    "papermill": {
     "duration": 0.029474,
     "end_time": "2020-08-24T14:37:53.331382",
     "exception": false,
     "start_time": "2020-08-24T14:37:53.301908",
     "status": "completed"
    },
    "tags": []
   },
   "outputs": [
    {
     "name": "stdout",
     "output_type": "stream",
     "text": [
      "<class 'pandas.core.frame.DataFrame'>\n",
      "RangeIndex: 1947 entries, 0 to 1946\n",
      "Data columns (total 5 columns):\n",
      " #   Column  Non-Null Count  Dtype  \n",
      "---  ------  --------------  -----  \n",
      " 0   id      1947 non-null   int64  \n",
      " 1   ed      1947 non-null   float64\n",
      " 2   inc     1947 non-null   float64\n",
      " 3   pop     1947 non-null   float64\n",
      " 4   cases   1947 non-null   int64  \n",
      "dtypes: float64(3), int64(2)\n",
      "memory usage: 76.2 KB\n"
     ]
    }
   ],
   "source": [
    "train.info()"
   ]
  },
  {
   "cell_type": "code",
   "execution_count": 12,
   "metadata": {
    "execution": {
     "iopub.execute_input": "2020-08-24T14:37:53.369468Z",
     "iopub.status.busy": "2020-08-24T14:37:53.368729Z",
     "iopub.status.idle": "2020-08-24T14:37:53.559108Z",
     "shell.execute_reply": "2020-08-24T14:37:53.558417Z"
    },
    "papermill": {
     "duration": 0.212862,
     "end_time": "2020-08-24T14:37:53.559233",
     "exception": false,
     "start_time": "2020-08-24T14:37:53.346371",
     "status": "completed"
    },
    "tags": []
   },
   "outputs": [
    {
     "data": {
      "image/png": "[encoded data removed]",
      "text/plain": [
       "<Figure size 432x288 with 1 Axes>"
      ]
     },
     "metadata": {
      "needs_background": "light"
     },
     "output_type": "display_data"
    }
   ],
   "source": [
    "var = 'ed'\n",
    "data = pd.concat([train['cases'], train[var]], axis=1)\n",
    "data.plot.scatter(x=var, y='cases', ylim=(0,125000));"
   ]
  },
  {
   "cell_type": "code",
   "execution_count": 13,
   "metadata": {
    "execution": {
     "iopub.execute_input": "2020-08-24T14:37:53.599601Z",
     "iopub.status.busy": "2020-08-24T14:37:53.598806Z",
     "iopub.status.idle": "2020-08-24T14:37:53.748749Z",
     "shell.execute_reply": "2020-08-24T14:37:53.748104Z"
    },
    "papermill": {
     "duration": 0.175281,
     "end_time": "2020-08-24T14:37:53.748892",
     "exception": false,
     "start_time": "2020-08-24T14:37:53.573611",
     "status": "completed"
    },
    "tags": []
   },
   "outputs": [
    {
     "data": {
      "image/png": "[encoded data removed]",
      "text/plain": [
       "<Figure size 432x288 with 1 Axes>"
      ]
     },
     "metadata": {
      "needs_background": "light"
     },
     "output_type": "display_data"
    }
   ],
   "source": [
    "var = 'inc'\n",
    "data = pd.concat([train['cases'], train[var]], axis=1)\n",
    "data.plot.scatter(x=var, y='cases', ylim=(0,125000));"
   ]
  },
  {
   "cell_type": "code",
   "execution_count": 14,
   "metadata": {
    "execution": {
     "iopub.execute_input": "2020-08-24T14:37:53.789703Z",
     "iopub.status.busy": "2020-08-24T14:37:53.788669Z",
     "iopub.status.idle": "2020-08-24T14:37:54.033155Z",
     "shell.execute_reply": "2020-08-24T14:37:54.032440Z"
    },
    "papermill": {
     "duration": 0.269855,
     "end_time": "2020-08-24T14:37:54.033288",
     "exception": false,
     "start_time": "2020-08-24T14:37:53.763433",
     "status": "completed"
    },
    "tags": []
   },
   "outputs": [
    {
     "data": {
      "image/png": "[encoded data removed]",
      "text/plain": [
       "<Figure size 432x288 with 1 Axes>"
      ]
     },
     "metadata": {
      "needs_background": "light"
     },
     "output_type": "display_data"
    }
   ],
   "source": [
    "#scatter plot grlivarea/saleprice\n",
    "var = 'pop'\n",
    "data = pd.concat([train['cases'], train[var]], axis=1)\n",
    "data.plot.scatter(x=var, y='cases', ylim=(0,125000));"
   ]
  },
  {
   "cell_type": "code",
   "execution_count": 15,
   "metadata": {
    "execution": {
     "iopub.execute_input": "2020-08-24T14:37:54.078705Z",
     "iopub.status.busy": "2020-08-24T14:37:54.078024Z",
     "iopub.status.idle": "2020-08-24T14:37:54.276302Z",
     "shell.execute_reply": "2020-08-24T14:37:54.275684Z"
    },
    "papermill": {
     "duration": 0.227371,
     "end_time": "2020-08-24T14:37:54.276432",
     "exception": false,
     "start_time": "2020-08-24T14:37:54.049061",
     "status": "completed"
    },
    "tags": []
   },
   "outputs": [
    {
     "data": {
      "image/png": "[encoded data removed]",
      "text/plain": [
       "<Figure size 720x648 with 2 Axes>"
      ]
     },
     "metadata": {
      "needs_background": "light"
     },
     "output_type": "display_data"
    }
   ],
   "source": [
    "#correlation matrix\n",
    "corrmat = train.corr()\n",
    "f, ax = plt.subplots(figsize=(10, 9))\n",
    "sns.heatmap(corrmat, vmax=.8, square=True);"
   ]
  },
  {
   "cell_type": "code",
   "execution_count": 16,
   "metadata": {
    "execution": {
     "iopub.execute_input": "2020-08-24T14:37:54.317582Z",
     "iopub.status.busy": "2020-08-24T14:37:54.316865Z",
     "iopub.status.idle": "2020-08-24T14:37:54.585235Z",
     "shell.execute_reply": "2020-08-24T14:37:54.584624Z"
    },
    "papermill": {
     "duration": 0.293462,
     "end_time": "2020-08-24T14:37:54.585371",
     "exception": false,
     "start_time": "2020-08-24T14:37:54.291909",
     "status": "completed"
    },
    "tags": []
   },
   "outputs": [
    {
     "data": {
      "image/png": "[encoded data removed]",
      "text/plain": [
       "<Figure size 432x288 with 2 Axes>"
      ]
     },
     "metadata": {},
     "output_type": "display_data"
    }
   ],
   "source": [
    "#saleprice correlation matrix\n",
    "k = 10 #number of variables for heatmap\n",
    "cols = corrmat.nlargest(k, 'cases')['cases'].index\n",
    "cm = np.corrcoef(train[cols].values.T)\n",
    "sns.set(font_scale=1.25)\n",
    "hm = sns.heatmap(cm, cbar=True, annot=True, square=True, fmt='.2f', annot_kws={'size': 10}, yticklabels=cols.values, xticklabels=cols.values)\n",
    "plt.show()"
   ]
  },
  {
   "cell_type": "code",
   "execution_count": 17,
   "metadata": {
    "execution": {
     "iopub.execute_input": "2020-08-24T14:37:54.621848Z",
     "iopub.status.busy": "2020-08-24T14:37:54.621074Z",
     "iopub.status.idle": "2020-08-24T14:37:54.680269Z",
     "shell.execute_reply": "2020-08-24T14:37:54.679521Z"
    },
    "papermill": {
     "duration": 0.079411,
     "end_time": "2020-08-24T14:37:54.680404",
     "exception": false,
     "start_time": "2020-08-24T14:37:54.600993",
     "status": "completed"
    },
    "tags": []
   },
   "outputs": [],
   "source": [
    "from sklearn.preprocessing import StandardScaler"
   ]
  },
  {
   "cell_type": "code",
   "execution_count": 18,
   "metadata": {
    "execution": {
     "iopub.execute_input": "2020-08-24T14:37:54.720591Z",
     "iopub.status.busy": "2020-08-24T14:37:54.719474Z",
     "iopub.status.idle": "2020-08-24T14:37:54.731308Z",
     "shell.execute_reply": "2020-08-24T14:37:54.730310Z"
    },
    "papermill": {
     "duration": 0.035385,
     "end_time": "2020-08-24T14:37:54.731543",
     "exception": false,
     "start_time": "2020-08-24T14:37:54.696158",
     "status": "completed"
    },
    "tags": []
   },
   "outputs": [
    {
     "name": "stdout",
     "output_type": "stream",
     "text": [
      "outer range (low) of the distribution:\n",
      "[[-0.17385952]\n",
      " [-0.17385952]\n",
      " [-0.17385952]\n",
      " [-0.17385952]\n",
      " [-0.17385952]\n",
      " [-0.17385952]\n",
      " [-0.17385952]\n",
      " [-0.17385952]\n",
      " [-0.17385952]\n",
      " [-0.17385952]]\n",
      "\n",
      "outer range (high) of the distribution:\n",
      "[[ 4.44529305]\n",
      " [ 4.63429509]\n",
      " [ 5.34666736]\n",
      " [ 5.36920171]\n",
      " [ 6.80202215]\n",
      " [ 9.24107329]\n",
      " [ 9.96868556]\n",
      " [12.56391414]\n",
      " [19.10408813]\n",
      " [29.13383117]]\n"
     ]
    },
    {
     "name": "stderr",
     "output_type": "stream",
     "text": [
      "/opt/conda/lib/python3.7/site-packages/ipykernel_launcher.py:1: FutureWarning: Support for multi-dimensional indexing (e.g. `obj[:, None]`) is deprecated and will be removed in a future version.  Convert to a numpy array before indexing instead.\n",
      "  \"\"\"Entry point for launching an IPython kernel.\n"
     ]
    }
   ],
   "source": [
    "cases_scaled = StandardScaler().fit_transform(train['cases'][:,np.newaxis]);\n",
    "low_range = cases_scaled[cases_scaled[:,0].argsort()][:10]\n",
    "high_range= cases_scaled[cases_scaled[:,0].argsort()][-10:]\n",
    "print('outer range (low) of the distribution:')\n",
    "print(low_range)\n",
    "print('\\nouter range (high) of the distribution:')\n",
    "print(high_range)"
   ]
  },
  {
   "cell_type": "code",
   "execution_count": 19,
   "metadata": {
    "execution": {
     "iopub.execute_input": "2020-08-24T14:37:54.781019Z",
     "iopub.status.busy": "2020-08-24T14:37:54.780310Z",
     "iopub.status.idle": "2020-08-24T14:37:55.047634Z",
     "shell.execute_reply": "2020-08-24T14:37:55.046929Z"
    },
    "papermill": {
     "duration": 0.30038,
     "end_time": "2020-08-24T14:37:55.047771",
     "exception": false,
     "start_time": "2020-08-24T14:37:54.747391",
     "status": "completed"
    },
    "tags": []
   },
   "outputs": [
    {
     "data": {
      "image/png": "[encoded data removed]",
      "text/plain": [
       "<Figure size 432x288 with 1 Axes>"
      ]
     },
     "metadata": {},
     "output_type": "display_data"
    }
   ],
   "source": [
    "#bivariate analysis saleprice/grlivarea\n",
    "var = 'ed'\n",
    "data = pd.concat([train['cases'], train[var]], axis=1)\n",
    "data.plot.scatter(x=var, y='cases', ylim=(0,250000));"
   ]
  },
  {
   "cell_type": "code",
   "execution_count": 20,
   "metadata": {
    "execution": {
     "iopub.execute_input": "2020-08-24T14:37:55.089482Z",
     "iopub.status.busy": "2020-08-24T14:37:55.087074Z",
     "iopub.status.idle": "2020-08-24T14:37:55.355991Z",
     "shell.execute_reply": "2020-08-24T14:37:55.355288Z"
    },
    "papermill": {
     "duration": 0.292039,
     "end_time": "2020-08-24T14:37:55.356125",
     "exception": false,
     "start_time": "2020-08-24T14:37:55.064086",
     "status": "completed"
    },
    "tags": []
   },
   "outputs": [
    {
     "data": {
      "image/png": "[encoded data removed]",
      "text/plain": [
       "<Figure size 432x288 with 1 Axes>"
      ]
     },
     "metadata": {},
     "output_type": "display_data"
    }
   ],
   "source": [
    "var = 'pop'\n",
    "data = pd.concat([train['cases'], train[var]], axis=1)\n",
    "data.plot.scatter(x=var, y='cases', ylim=(0,125000));"
   ]
  },
  {
   "cell_type": "code",
   "execution_count": 21,
   "metadata": {
    "execution": {
     "iopub.execute_input": "2020-08-24T14:37:55.397018Z",
     "iopub.status.busy": "2020-08-24T14:37:55.396276Z",
     "iopub.status.idle": "2020-08-24T14:37:55.400053Z",
     "shell.execute_reply": "2020-08-24T14:37:55.399348Z"
    },
    "papermill": {
     "duration": 0.026996,
     "end_time": "2020-08-24T14:37:55.400196",
     "exception": false,
     "start_time": "2020-08-24T14:37:55.373200",
     "status": "completed"
    },
    "tags": []
   },
   "outputs": [],
   "source": [
    "from scipy.stats import norm, skew\n",
    "from scipy import stats"
   ]
  },
  {
   "cell_type": "raw",
   "execution_count": null,
   "metadata": {
    "papermill": {
     "duration": 0.016182,
     "end_time": "2020-08-24T14:37:55.432893",
     "exception": false,
     "start_time": "2020-08-24T14:37:55.416711",
     "status": "completed"
    },
    "tags": []
   },
   "source": [
    "sns.distplot(train['cases'], fit=norm);\n",
    "fig = plt.figure()\n",
    "res = stats.probplot(train['cases'], plot=plt)\n"
   ]
  },
  {
   "cell_type": "code",
   "execution_count": 22,
   "metadata": {
    "execution": {
     "iopub.execute_input": "2020-08-24T14:37:55.477433Z",
     "iopub.status.busy": "2020-08-24T14:37:55.476444Z",
     "iopub.status.idle": "2020-08-24T14:37:55.481628Z",
     "shell.execute_reply": "2020-08-24T14:37:55.482147Z"
    },
    "papermill": {
     "duration": 0.033123,
     "end_time": "2020-08-24T14:37:55.482348",
     "exception": false,
     "start_time": "2020-08-24T14:37:55.449225",
     "status": "completed"
    },
    "tags": []
   },
   "outputs": [
    {
     "data": {
      "text/html": [
       "<div>\n",
       "<style scoped>\n",
       "    .dataframe tbody tr th:only-of-type {\n",
       "        vertical-align: middle;\n",
       "    }\n",
       "\n",
       "    .dataframe tbody tr th {\n",
       "        vertical-align: top;\n",
       "    }\n",
       "\n",
       "    .dataframe thead th {\n",
       "        text-align: right;\n",
       "    }\n",
       "</style>\n",
       "<table border=\"1\" class=\"dataframe\">\n",
       "  <thead>\n",
       "    <tr style=\"text-align: right;\">\n",
       "      <th></th>\n",
       "      <th>ed</th>\n",
       "      <th>inc</th>\n",
       "      <th>pop</th>\n",
       "    </tr>\n",
       "  </thead>\n",
       "  <tbody>\n",
       "    <tr>\n",
       "      <th>0</th>\n",
       "      <td>31.3</td>\n",
       "      <td>57588.0</td>\n",
       "      <td>223234.0</td>\n",
       "    </tr>\n",
       "    <tr>\n",
       "      <th>1</th>\n",
       "      <td>12.2</td>\n",
       "      <td>34382.0</td>\n",
       "      <td>24686.0</td>\n",
       "    </tr>\n",
       "    <tr>\n",
       "      <th>2</th>\n",
       "      <td>18.0</td>\n",
       "      <td>45400.0</td>\n",
       "      <td>113605.0</td>\n",
       "    </tr>\n",
       "    <tr>\n",
       "      <th>3</th>\n",
       "      <td>12.9</td>\n",
       "      <td>42132.0</td>\n",
       "      <td>26196.0</td>\n",
       "    </tr>\n",
       "    <tr>\n",
       "      <th>4</th>\n",
       "      <td>13.0</td>\n",
       "      <td>39907.0</td>\n",
       "      <td>12589.0</td>\n",
       "    </tr>\n",
       "  </tbody>\n",
       "</table>\n",
       "</div>"
      ],
      "text/plain": [
       "     ed      inc       pop\n",
       "0  31.3  57588.0  223234.0\n",
       "1  12.2  34382.0   24686.0\n",
       "2  18.0  45400.0  113605.0\n",
       "3  12.9  42132.0   26196.0\n",
       "4  13.0  39907.0   12589.0"
      ]
     },
     "execution_count": 22,
     "metadata": {},
     "output_type": "execute_result"
    }
   ],
   "source": [
    "test.head()"
   ]
  },
  {
   "cell_type": "code",
   "execution_count": 23,
   "metadata": {
    "execution": {
     "iopub.execute_input": "2020-08-24T14:37:55.526963Z",
     "iopub.status.busy": "2020-08-24T14:37:55.526217Z",
     "iopub.status.idle": "2020-08-24T14:37:55.552736Z",
     "shell.execute_reply": "2020-08-24T14:37:55.551644Z"
    },
    "papermill": {
     "duration": 0.053323,
     "end_time": "2020-08-24T14:37:55.552970",
     "exception": false,
     "start_time": "2020-08-24T14:37:55.499647",
     "status": "completed"
    },
    "tags": []
   },
   "outputs": [
    {
     "name": "stdout",
     "output_type": "stream",
     "text": [
      "False    1947\n",
      "Name: cases, dtype: int64\n"
     ]
    }
   ],
   "source": [
    "train['cases'].replace([0], 1, inplace = True)\n",
    "\n",
    "train['ed'].replace([0], 1, inplace = True)\n",
    "train['inc'].replace([0], 1, inplace = True)\n",
    "train['pop'].replace([0], 1, inplace = True)\n",
    "print((train['cases']==0).value_counts())\n",
    "test['ed'].replace([0], 1, inplace = True)\n",
    "\n",
    "test['inc'].replace([0], 1, inplace = True)\n",
    "test['pop'].replace([0], 1, inplace = True)"
   ]
  },
  {
   "cell_type": "code",
   "execution_count": 24,
   "metadata": {
    "execution": {
     "iopub.execute_input": "2020-08-24T14:37:55.593131Z",
     "iopub.status.busy": "2020-08-24T14:37:55.591878Z",
     "iopub.status.idle": "2020-08-24T14:37:55.596323Z",
     "shell.execute_reply": "2020-08-24T14:37:55.596842Z"
    },
    "papermill": {
     "duration": 0.026532,
     "end_time": "2020-08-24T14:37:55.597006",
     "exception": false,
     "start_time": "2020-08-24T14:37:55.570474",
     "status": "completed"
    },
    "tags": []
   },
   "outputs": [],
   "source": [
    "\n",
    "\n",
    "train['cases'] = np.log(train['cases'])\n"
   ]
  },
  {
   "cell_type": "code",
   "execution_count": 25,
   "metadata": {
    "execution": {
     "iopub.execute_input": "2020-08-24T14:37:55.637457Z",
     "iopub.status.busy": "2020-08-24T14:37:55.636447Z",
     "iopub.status.idle": "2020-08-24T14:37:55.641331Z",
     "shell.execute_reply": "2020-08-24T14:37:55.640703Z"
    },
    "papermill": {
     "duration": 0.0277,
     "end_time": "2020-08-24T14:37:55.641464",
     "exception": false,
     "start_time": "2020-08-24T14:37:55.613764",
     "status": "completed"
    },
    "tags": []
   },
   "outputs": [
    {
     "data": {
      "text/plain": [
       "12.323855681186558"
      ]
     },
     "execution_count": 25,
     "metadata": {},
     "output_type": "execute_result"
    }
   ],
   "source": [
    "train['cases'].max()"
   ]
  },
  {
   "cell_type": "code",
   "execution_count": 26,
   "metadata": {
    "execution": {
     "iopub.execute_input": "2020-08-24T14:37:55.731925Z",
     "iopub.status.busy": "2020-08-24T14:37:55.731185Z",
     "iopub.status.idle": "2020-08-24T14:37:56.019041Z",
     "shell.execute_reply": "2020-08-24T14:37:56.018285Z"
    },
    "papermill": {
     "duration": 0.361056,
     "end_time": "2020-08-24T14:37:56.019281",
     "exception": false,
     "start_time": "2020-08-24T14:37:55.658225",
     "status": "completed"
    },
    "tags": []
   },
   "outputs": [
    {
     "data": {
      "image/png": "[encoded data removed]",
      "text/plain": [
       "<Figure size 432x288 with 1 Axes>"
      ]
     },
     "metadata": {},
     "output_type": "display_data"
    }
   ],
   "source": [
    "res = stats.probplot(train['cases'], plot=plt)"
   ]
  },
  {
   "cell_type": "code",
   "execution_count": 27,
   "metadata": {
    "execution": {
     "iopub.execute_input": "2020-08-24T14:37:56.069848Z",
     "iopub.status.busy": "2020-08-24T14:37:56.068803Z",
     "iopub.status.idle": "2020-08-24T14:37:56.701530Z",
     "shell.execute_reply": "2020-08-24T14:37:56.700907Z"
    },
    "papermill": {
     "duration": 0.661666,
     "end_time": "2020-08-24T14:37:56.701650",
     "exception": false,
     "start_time": "2020-08-24T14:37:56.039984",
     "status": "completed"
    },
    "tags": []
   },
   "outputs": [
    {
     "data": {
      "image/png": "[encoded data removed]",
      "text/plain": [
       "<Figure size 432x288 with 1 Axes>"
      ]
     },
     "metadata": {},
     "output_type": "display_data"
    },
    {
     "data": {
      "image/png": "[encoded data removed]",
      "text/plain": [
       "<Figure size 432x288 with 1 Axes>"
      ]
     },
     "metadata": {},
     "output_type": "display_data"
    }
   ],
   "source": [
    "sns.distplot(train['ed'], fit=norm);\n",
    "fig = plt.figure()\n",
    "res = stats.probplot(train['ed'], plot=plt)"
   ]
  },
  {
   "cell_type": "code",
   "execution_count": 28,
   "metadata": {
    "execution": {
     "iopub.execute_input": "2020-08-24T14:37:56.744729Z",
     "iopub.status.busy": "2020-08-24T14:37:56.743953Z",
     "iopub.status.idle": "2020-08-24T14:37:57.327948Z",
     "shell.execute_reply": "2020-08-24T14:37:57.327290Z"
    },
    "papermill": {
     "duration": 0.608519,
     "end_time": "2020-08-24T14:37:57.328097",
     "exception": false,
     "start_time": "2020-08-24T14:37:56.719578",
     "status": "completed"
    },
    "tags": []
   },
   "outputs": [
    {
     "data": {
      "image/png": "[encoded data removed]",
      "text/plain": [
       "<Figure size 432x288 with 1 Axes>"
      ]
     },
     "metadata": {},
     "output_type": "display_data"
    },
    {
     "data": {
      "image/png": "[encoded data removed]",
      "text/plain": [
       "<Figure size 432x288 with 1 Axes>"
      ]
     },
     "metadata": {},
     "output_type": "display_data"
    }
   ],
   "source": [
    "#transformed histogram and normal probability plot\n",
    "sns.distplot(train['ed'], fit=norm);\n",
    "fig = plt.figure()\n",
    "res = stats.probplot(train['ed'], plot=plt)\n",
    "train['ed'] = np.log(train['ed'])\n",
    "test['ed'] = np.log(test['ed'])\n",
    "res = stats.probplot(train['ed'], plot=plt)"
   ]
  },
  {
   "cell_type": "code",
   "execution_count": 29,
   "metadata": {
    "execution": {
     "iopub.execute_input": "2020-08-24T14:37:57.387639Z",
     "iopub.status.busy": "2020-08-24T14:37:57.386925Z",
     "iopub.status.idle": "2020-08-24T14:37:57.658427Z",
     "shell.execute_reply": "2020-08-24T14:37:57.657763Z"
    },
    "papermill": {
     "duration": 0.311524,
     "end_time": "2020-08-24T14:37:57.658546",
     "exception": false,
     "start_time": "2020-08-24T14:37:57.347022",
     "status": "completed"
    },
    "tags": []
   },
   "outputs": [
    {
     "data": {
      "image/png": "[encoded data removed]",
      "text/plain": [
       "<Figure size 432x288 with 1 Axes>"
      ]
     },
     "metadata": {},
     "output_type": "display_data"
    }
   ],
   "source": [
    "res = stats.probplot(train['inc'], plot=plt)\n",
    "train['inc'] = np.log(train['inc'])\n",
    "test['inc'] = np.log(test['inc'])\n"
   ]
  },
  {
   "cell_type": "code",
   "execution_count": 30,
   "metadata": {
    "execution": {
     "iopub.execute_input": "2020-08-24T14:37:57.707610Z",
     "iopub.status.busy": "2020-08-24T14:37:57.706548Z",
     "iopub.status.idle": "2020-08-24T14:37:58.395259Z",
     "shell.execute_reply": "2020-08-24T14:37:58.394650Z"
    },
    "papermill": {
     "duration": 0.718178,
     "end_time": "2020-08-24T14:37:58.395405",
     "exception": false,
     "start_time": "2020-08-24T14:37:57.677227",
     "status": "completed"
    },
    "tags": []
   },
   "outputs": [
    {
     "data": {
      "image/png": "[encoded data removed]",
      "text/plain": [
       "<Figure size 432x288 with 1 Axes>"
      ]
     },
     "metadata": {},
     "output_type": "display_data"
    },
    {
     "data": {
      "image/png": "[encoded data removed]",
      "text/plain": [
       "<Figure size 432x288 with 1 Axes>"
      ]
     },
     "metadata": {},
     "output_type": "display_data"
    }
   ],
   "source": [
    "sns.distplot(train['inc'], fit=norm);\n",
    "fig = plt.figure()\n",
    "res = stats.probplot(train['inc'], plot=plt)"
   ]
  },
  {
   "cell_type": "code",
   "execution_count": 31,
   "metadata": {
    "execution": {
     "iopub.execute_input": "2020-08-24T14:37:58.441854Z",
     "iopub.status.busy": "2020-08-24T14:37:58.440130Z",
     "iopub.status.idle": "2020-08-24T14:37:58.721377Z",
     "shell.execute_reply": "2020-08-24T14:37:58.720673Z"
    },
    "papermill": {
     "duration": 0.306896,
     "end_time": "2020-08-24T14:37:58.721501",
     "exception": false,
     "start_time": "2020-08-24T14:37:58.414605",
     "status": "completed"
    },
    "tags": []
   },
   "outputs": [
    {
     "data": {
      "image/png": "[encoded data removed]",
      "text/plain": [
       "<Figure size 432x288 with 1 Axes>"
      ]
     },
     "metadata": {},
     "output_type": "display_data"
    }
   ],
   "source": [
    "res = stats.probplot(train['pop'], plot=plt)\n",
    "\n",
    "train['pop'] = np.log(train['pop'])\n",
    "test['pop'] = np.log(test['pop'])\n"
   ]
  },
  {
   "cell_type": "code",
   "execution_count": 32,
   "metadata": {
    "execution": {
     "iopub.execute_input": "2020-08-24T14:37:58.771068Z",
     "iopub.status.busy": "2020-08-24T14:37:58.766101Z",
     "iopub.status.idle": "2020-08-24T14:37:59.357093Z",
     "shell.execute_reply": "2020-08-24T14:37:59.356330Z"
    },
    "papermill": {
     "duration": 0.616154,
     "end_time": "2020-08-24T14:37:59.357227",
     "exception": false,
     "start_time": "2020-08-24T14:37:58.741073",
     "status": "completed"
    },
    "tags": []
   },
   "outputs": [
    {
     "data": {
      "image/png": "[encoded data removed]",
      "text/plain": [
       "<Figure size 432x288 with 1 Axes>"
      ]
     },
     "metadata": {},
     "output_type": "display_data"
    },
    {
     "data": {
      "image/png": "[encoded data removed]",
      "text/plain": [
       "<Figure size 432x288 with 1 Axes>"
      ]
     },
     "metadata": {},
     "output_type": "display_data"
    }
   ],
   "source": [
    "sns.distplot(train['pop'], fit=norm);\n",
    "fig = plt.figure()\n",
    "res = stats.probplot(train['pop'], plot=plt)"
   ]
  },
  {
   "cell_type": "code",
   "execution_count": 33,
   "metadata": {
    "execution": {
     "iopub.execute_input": "2020-08-24T14:37:59.407705Z",
     "iopub.status.busy": "2020-08-24T14:37:59.403238Z",
     "iopub.status.idle": "2020-08-24T14:37:59.645567Z",
     "shell.execute_reply": "2020-08-24T14:37:59.644893Z"
    },
    "papermill": {
     "duration": 0.268049,
     "end_time": "2020-08-24T14:37:59.645693",
     "exception": false,
     "start_time": "2020-08-24T14:37:59.377644",
     "status": "completed"
    },
    "tags": []
   },
   "outputs": [
    {
     "data": {
      "image/png": "[encoded data removed]",
      "text/plain": [
       "<Figure size 432x288 with 1 Axes>"
      ]
     },
     "metadata": {},
     "output_type": "display_data"
    }
   ],
   "source": [
    "plt.scatter(train['ed'], train['cases']);"
   ]
  },
  {
   "cell_type": "code",
   "execution_count": 34,
   "metadata": {
    "execution": {
     "iopub.execute_input": "2020-08-24T14:37:59.697800Z",
     "iopub.status.busy": "2020-08-24T14:37:59.696783Z",
     "iopub.status.idle": "2020-08-24T14:37:59.945166Z",
     "shell.execute_reply": "2020-08-24T14:37:59.944485Z"
    },
    "papermill": {
     "duration": 0.279211,
     "end_time": "2020-08-24T14:37:59.945305",
     "exception": false,
     "start_time": "2020-08-24T14:37:59.666094",
     "status": "completed"
    },
    "tags": []
   },
   "outputs": [
    {
     "data": {
      "image/png": "[encoded data removed]",
      "text/plain": [
       "<Figure size 432x288 with 1 Axes>"
      ]
     },
     "metadata": {},
     "output_type": "display_data"
    }
   ],
   "source": [
    "plt.scatter(train['inc'], train['cases']);"
   ]
  },
  {
   "cell_type": "code",
   "execution_count": 35,
   "metadata": {
    "execution": {
     "iopub.execute_input": "2020-08-24T14:37:59.999623Z",
     "iopub.status.busy": "2020-08-24T14:37:59.992421Z",
     "iopub.status.idle": "2020-08-24T14:38:00.250459Z",
     "shell.execute_reply": "2020-08-24T14:38:00.249783Z"
    },
    "papermill": {
     "duration": 0.284538,
     "end_time": "2020-08-24T14:38:00.250582",
     "exception": false,
     "start_time": "2020-08-24T14:37:59.966044",
     "status": "completed"
    },
    "tags": []
   },
   "outputs": [
    {
     "data": {
      "image/png": "[encoded data removed]",
      "text/plain": [
       "<Figure size 432x288 with 1 Axes>"
      ]
     },
     "metadata": {},
     "output_type": "display_data"
    }
   ],
   "source": [
    "plt.scatter(train['pop'], train['cases']);"
   ]
  },
  {
   "cell_type": "markdown",
   "execution_count": null,
   "metadata": {
    "papermill": {
     "duration": 0.020528,
     "end_time": "2020-08-24T14:38:00.291953",
     "exception": false,
     "start_time": "2020-08-24T14:38:00.271425",
     "status": "completed"
    },
    "tags": []
   },
   "source": [
    "# **Skew**"
   ]
  },
  {
   "cell_type": "code",
   "execution_count": 36,
   "metadata": {
    "execution": {
     "iopub.execute_input": "2020-08-24T14:38:00.342980Z",
     "iopub.status.busy": "2020-08-24T14:38:00.342277Z",
     "iopub.status.idle": "2020-08-24T14:38:00.361090Z",
     "shell.execute_reply": "2020-08-24T14:38:00.360317Z"
    },
    "papermill": {
     "duration": 0.048262,
     "end_time": "2020-08-24T14:38:00.361238",
     "exception": false,
     "start_time": "2020-08-24T14:38:00.312976",
     "status": "completed"
    },
    "tags": []
   },
   "outputs": [
    {
     "name": "stdout",
     "output_type": "stream",
     "text": [
      "\n",
      "Skew in numerical features: \n",
      "\n"
     ]
    },
    {
     "data": {
      "text/html": [
       "<div>\n",
       "<style scoped>\n",
       "    .dataframe tbody tr th:only-of-type {\n",
       "        vertical-align: middle;\n",
       "    }\n",
       "\n",
       "    .dataframe tbody tr th {\n",
       "        vertical-align: top;\n",
       "    }\n",
       "\n",
       "    .dataframe thead th {\n",
       "        text-align: right;\n",
       "    }\n",
       "</style>\n",
       "<table border=\"1\" class=\"dataframe\">\n",
       "  <thead>\n",
       "    <tr style=\"text-align: right;\">\n",
       "      <th></th>\n",
       "      <th>Skew</th>\n",
       "    </tr>\n",
       "  </thead>\n",
       "  <tbody>\n",
       "    <tr>\n",
       "      <th>inc</th>\n",
       "      <td>0.481797</td>\n",
       "    </tr>\n",
       "    <tr>\n",
       "      <th>pop</th>\n",
       "      <td>0.312173</td>\n",
       "    </tr>\n",
       "    <tr>\n",
       "      <th>ed</th>\n",
       "      <td>0.311744</td>\n",
       "    </tr>\n",
       "    <tr>\n",
       "      <th>cases</th>\n",
       "      <td>0.051797</td>\n",
       "    </tr>\n",
       "    <tr>\n",
       "      <th>id</th>\n",
       "      <td>-0.017369</td>\n",
       "    </tr>\n",
       "  </tbody>\n",
       "</table>\n",
       "</div>"
      ],
      "text/plain": [
       "           Skew\n",
       "inc    0.481797\n",
       "pop    0.312173\n",
       "ed     0.311744\n",
       "cases  0.051797\n",
       "id    -0.017369"
      ]
     },
     "execution_count": 36,
     "metadata": {},
     "output_type": "execute_result"
    }
   ],
   "source": [
    "numeric_feats = train.dtypes[train.dtypes != \"object\"].index\n",
    "\n",
    "\n",
    "skewed_feats = train[numeric_feats].apply(lambda x: skew(x.dropna())).sort_values(ascending=False)\n",
    "print(\"\\nSkew in numerical features: \\n\")\n",
    "skewness = pd.DataFrame({'Skew' :skewed_feats})\n",
    "skewness.head(10)"
   ]
  },
  {
   "cell_type": "code",
   "execution_count": 37,
   "metadata": {
    "execution": {
     "iopub.execute_input": "2020-08-24T14:38:00.409272Z",
     "iopub.status.busy": "2020-08-24T14:38:00.408583Z",
     "iopub.status.idle": "2020-08-24T14:38:00.412105Z",
     "shell.execute_reply": "2020-08-24T14:38:00.411472Z"
    },
    "papermill": {
     "duration": 0.029245,
     "end_time": "2020-08-24T14:38:00.412235",
     "exception": false,
     "start_time": "2020-08-24T14:38:00.382990",
     "status": "completed"
    },
    "tags": []
   },
   "outputs": [],
   "source": [
    "#skewness = skewness[abs(skewness) > 0.75]\n",
    "#print(\"There are {} skewed numerical features to Box Cox transform\".format(skewness.shape[0]))\n",
    "\n",
    "#from scipy.special import boxcox1p\n",
    "#skewed_features = skewness.index\n",
    "#lam = 0.15\n",
    "#for feat in skewed_features:\n",
    "#    #all_data[feat] += 1\n",
    "#    train[feat] = boxcox1p(train[feat], lam)"
   ]
  },
  {
   "cell_type": "code",
   "execution_count": 38,
   "metadata": {
    "execution": {
     "iopub.execute_input": "2020-08-24T14:38:00.465003Z",
     "iopub.status.busy": "2020-08-24T14:38:00.464137Z",
     "iopub.status.idle": "2020-08-24T14:38:00.468218Z",
     "shell.execute_reply": "2020-08-24T14:38:00.467545Z"
    },
    "papermill": {
     "duration": 0.034713,
     "end_time": "2020-08-24T14:38:00.468346",
     "exception": false,
     "start_time": "2020-08-24T14:38:00.433633",
     "status": "completed"
    },
    "tags": []
   },
   "outputs": [
    {
     "name": "stdout",
     "output_type": "stream",
     "text": [
      "(1947, 5)\n"
     ]
    }
   ],
   "source": [
    "train = pd.get_dummies(train)\n",
    "print(train.shape)"
   ]
  },
  {
   "cell_type": "code",
   "execution_count": 39,
   "metadata": {
    "execution": {
     "iopub.execute_input": "2020-08-24T14:38:00.524585Z",
     "iopub.status.busy": "2020-08-24T14:38:00.523694Z",
     "iopub.status.idle": "2020-08-24T14:38:00.528986Z",
     "shell.execute_reply": "2020-08-24T14:38:00.528412Z"
    },
    "papermill": {
     "duration": 0.038943,
     "end_time": "2020-08-24T14:38:00.529108",
     "exception": false,
     "start_time": "2020-08-24T14:38:00.490165",
     "status": "completed"
    },
    "tags": []
   },
   "outputs": [
    {
     "data": {
      "text/html": [
       "<div>\n",
       "<style scoped>\n",
       "    .dataframe tbody tr th:only-of-type {\n",
       "        vertical-align: middle;\n",
       "    }\n",
       "\n",
       "    .dataframe tbody tr th {\n",
       "        vertical-align: top;\n",
       "    }\n",
       "\n",
       "    .dataframe thead th {\n",
       "        text-align: right;\n",
       "    }\n",
       "</style>\n",
       "<table border=\"1\" class=\"dataframe\">\n",
       "  <thead>\n",
       "    <tr style=\"text-align: right;\">\n",
       "      <th></th>\n",
       "      <th>id</th>\n",
       "      <th>ed</th>\n",
       "      <th>inc</th>\n",
       "      <th>pop</th>\n",
       "      <th>cases</th>\n",
       "    </tr>\n",
       "  </thead>\n",
       "  <tbody>\n",
       "    <tr>\n",
       "      <th>0</th>\n",
       "      <td>0</td>\n",
       "      <td>3.321432</td>\n",
       "      <td>10.991005</td>\n",
       "      <td>10.930765</td>\n",
       "      <td>6.670766</td>\n",
       "    </tr>\n",
       "    <tr>\n",
       "      <th>1</th>\n",
       "      <td>3</td>\n",
       "      <td>2.442347</td>\n",
       "      <td>10.737787</td>\n",
       "      <td>10.016548</td>\n",
       "      <td>5.541264</td>\n",
       "    </tr>\n",
       "    <tr>\n",
       "      <th>2</th>\n",
       "      <td>4</td>\n",
       "      <td>2.533697</td>\n",
       "      <td>10.827985</td>\n",
       "      <td>10.965194</td>\n",
       "      <td>6.086775</td>\n",
       "    </tr>\n",
       "    <tr>\n",
       "      <th>3</th>\n",
       "      <td>5</td>\n",
       "      <td>2.587764</td>\n",
       "      <td>10.284216</td>\n",
       "      <td>9.220390</td>\n",
       "      <td>5.973810</td>\n",
       "    </tr>\n",
       "    <tr>\n",
       "      <th>4</th>\n",
       "      <td>6</td>\n",
       "      <td>2.778819</td>\n",
       "      <td>10.528490</td>\n",
       "      <td>9.875500</td>\n",
       "      <td>6.510258</td>\n",
       "    </tr>\n",
       "  </tbody>\n",
       "</table>\n",
       "</div>"
      ],
      "text/plain": [
       "   id        ed        inc        pop     cases\n",
       "0   0  3.321432  10.991005  10.930765  6.670766\n",
       "1   3  2.442347  10.737787  10.016548  5.541264\n",
       "2   4  2.533697  10.827985  10.965194  6.086775\n",
       "3   5  2.587764  10.284216   9.220390  5.973810\n",
       "4   6  2.778819  10.528490   9.875500  6.510258"
      ]
     },
     "execution_count": 39,
     "metadata": {},
     "output_type": "execute_result"
    }
   ],
   "source": [
    "train.head()"
   ]
  },
  {
   "cell_type": "markdown",
   "execution_count": null,
   "metadata": {
    "papermill": {
     "duration": 0.021082,
     "end_time": "2020-08-24T14:38:00.571714",
     "exception": false,
     "start_time": "2020-08-24T14:38:00.550632",
     "status": "completed"
    },
    "tags": []
   },
   "source": [
    "# **Modeling**"
   ]
  },
  {
   "cell_type": "markdown",
   "execution_count": null,
   "metadata": {
    "papermill": {
     "duration": 0.02077,
     "end_time": "2020-08-24T14:38:00.613929",
     "exception": false,
     "start_time": "2020-08-24T14:38:00.593159",
     "status": "completed"
    },
    "tags": []
   },
   "source": [
    "We are first going to split our data into different train and test subests using train-test-split"
   ]
  },
  {
   "cell_type": "code",
   "execution_count": 40,
   "metadata": {
    "execution": {
     "iopub.execute_input": "2020-08-24T14:38:00.662135Z",
     "iopub.status.busy": "2020-08-24T14:38:00.661402Z",
     "iopub.status.idle": "2020-08-24T14:38:00.717708Z",
     "shell.execute_reply": "2020-08-24T14:38:00.717105Z"
    },
    "papermill": {
     "duration": 0.082417,
     "end_time": "2020-08-24T14:38:00.717855",
     "exception": false,
     "start_time": "2020-08-24T14:38:00.635438",
     "status": "completed"
    },
    "tags": []
   },
   "outputs": [],
   "source": [
    "from sklearn.model_selection import train_test_split      "
   ]
  },
  {
   "cell_type": "code",
   "execution_count": 41,
   "metadata": {
    "execution": {
     "iopub.execute_input": "2020-08-24T14:38:00.769960Z",
     "iopub.status.busy": "2020-08-24T14:38:00.769217Z",
     "iopub.status.idle": "2020-08-24T14:38:00.772584Z",
     "shell.execute_reply": "2020-08-24T14:38:00.771897Z"
    },
    "papermill": {
     "duration": 0.033051,
     "end_time": "2020-08-24T14:38:00.772704",
     "exception": false,
     "start_time": "2020-08-24T14:38:00.739653",
     "status": "completed"
    },
    "tags": []
   },
   "outputs": [],
   "source": [
    "train_y = train['cases']\n",
    "train.drop('id', axis = 1, inplace = True)\n",
    "train.drop('cases', axis = 1, inplace = True)"
   ]
  },
  {
   "cell_type": "code",
   "execution_count": 42,
   "metadata": {
    "execution": {
     "iopub.execute_input": "2020-08-24T14:38:00.823790Z",
     "iopub.status.busy": "2020-08-24T14:38:00.822901Z",
     "iopub.status.idle": "2020-08-24T14:38:00.825761Z",
     "shell.execute_reply": "2020-08-24T14:38:00.826335Z"
    },
    "papermill": {
     "duration": 0.031997,
     "end_time": "2020-08-24T14:38:00.826490",
     "exception": false,
     "start_time": "2020-08-24T14:38:00.794493",
     "status": "completed"
    },
    "tags": []
   },
   "outputs": [],
   "source": [
    "X_train, X_test, y_train, y_test = train_test_split(train, train_y, test_size=0.2, shuffle=True)"
   ]
  },
  {
   "cell_type": "markdown",
   "execution_count": null,
   "metadata": {
    "papermill": {
     "duration": 0.021059,
     "end_time": "2020-08-24T14:38:00.869100",
     "exception": false,
     "start_time": "2020-08-24T14:38:00.848041",
     "status": "completed"
    },
    "tags": []
   },
   "source": [
    "**Lets import**"
   ]
  },
  {
   "cell_type": "code",
   "execution_count": 43,
   "metadata": {
    "execution": {
     "iopub.execute_input": "2020-08-24T14:38:00.918888Z",
     "iopub.status.busy": "2020-08-24T14:38:00.918170Z",
     "iopub.status.idle": "2020-08-24T14:38:02.169100Z",
     "shell.execute_reply": "2020-08-24T14:38:02.168478Z"
    },
    "papermill": {
     "duration": 1.278669,
     "end_time": "2020-08-24T14:38:02.169234",
     "exception": false,
     "start_time": "2020-08-24T14:38:00.890565",
     "status": "completed"
    },
    "tags": []
   },
   "outputs": [],
   "source": [
    "from sklearn.linear_model import ElasticNet, Lasso,  BayesianRidge, LassoLarsIC\n",
    "from sklearn.ensemble import RandomForestRegressor,  GradientBoostingRegressor\n",
    "from sklearn.kernel_ridge import KernelRidge\n",
    "from sklearn.pipeline import make_pipeline\n",
    "from sklearn.preprocessing import RobustScaler\n",
    "from sklearn.base import BaseEstimator, TransformerMixin, RegressorMixin, clone\n",
    "from sklearn.model_selection import KFold, cross_val_score, train_test_split\n",
    "from sklearn.metrics import mean_squared_error\n",
    "import xgboost as xgb\n",
    "import lightgbm as lgb"
   ]
  },
  {
   "cell_type": "code",
   "execution_count": 44,
   "metadata": {
    "execution": {
     "iopub.execute_input": "2020-08-24T14:38:02.219811Z",
     "iopub.status.busy": "2020-08-24T14:38:02.219180Z",
     "iopub.status.idle": "2020-08-24T14:38:02.222131Z",
     "shell.execute_reply": "2020-08-24T14:38:02.221484Z"
    },
    "papermill": {
     "duration": 0.030782,
     "end_time": "2020-08-24T14:38:02.222251",
     "exception": false,
     "start_time": "2020-08-24T14:38:02.191469",
     "status": "completed"
    },
    "tags": []
   },
   "outputs": [],
   "source": [
    "n_folds = 5\n",
    "def rmsle_cv(model):\n",
    "    kf = KFold(n_folds, shuffle=True, random_state=42).get_n_splits(X_train)\n",
    "    rmse= np.sqrt(-cross_val_score(model, X_train.values, y_train, scoring=\"neg_mean_squared_error\", cv = kf))\n",
    "    return(rmse)"
   ]
  },
  {
   "cell_type": "markdown",
   "execution_count": null,
   "metadata": {
    "papermill": {
     "duration": 0.021146,
     "end_time": "2020-08-24T14:38:02.265241",
     "exception": false,
     "start_time": "2020-08-24T14:38:02.244095",
     "status": "completed"
    },
    "tags": []
   },
   "source": [
    "# **Lasso**"
   ]
  },
  {
   "cell_type": "code",
   "execution_count": 45,
   "metadata": {
    "execution": {
     "iopub.execute_input": "2020-08-24T14:38:02.314367Z",
     "iopub.status.busy": "2020-08-24T14:38:02.313649Z",
     "iopub.status.idle": "2020-08-24T14:38:02.316575Z",
     "shell.execute_reply": "2020-08-24T14:38:02.315876Z"
    },
    "papermill": {
     "duration": 0.029589,
     "end_time": "2020-08-24T14:38:02.316692",
     "exception": false,
     "start_time": "2020-08-24T14:38:02.287103",
     "status": "completed"
    },
    "tags": []
   },
   "outputs": [],
   "source": [
    "lasso = make_pipeline(RobustScaler(), Lasso(alpha =0.0005, random_state=1))\n"
   ]
  },
  {
   "cell_type": "code",
   "execution_count": 46,
   "metadata": {
    "execution": {
     "iopub.execute_input": "2020-08-24T14:38:02.368107Z",
     "iopub.status.busy": "2020-08-24T14:38:02.367107Z",
     "iopub.status.idle": "2020-08-24T14:38:02.370555Z",
     "shell.execute_reply": "2020-08-24T14:38:02.371183Z"
    },
    "papermill": {
     "duration": 0.032817,
     "end_time": "2020-08-24T14:38:02.371359",
     "exception": false,
     "start_time": "2020-08-24T14:38:02.338542",
     "status": "completed"
    },
    "tags": []
   },
   "outputs": [],
   "source": [
    "ENet = make_pipeline(RobustScaler(), ElasticNet(alpha=0.0005, l1_ratio=.9, random_state=3))\n"
   ]
  },
  {
   "cell_type": "code",
   "execution_count": 47,
   "metadata": {
    "execution": {
     "iopub.execute_input": "2020-08-24T14:38:02.481610Z",
     "iopub.status.busy": "2020-08-24T14:38:02.480616Z",
     "iopub.status.idle": "2020-08-24T14:38:02.484165Z",
     "shell.execute_reply": "2020-08-24T14:38:02.483489Z"
    },
    "papermill": {
     "duration": 0.032196,
     "end_time": "2020-08-24T14:38:02.484289",
     "exception": false,
     "start_time": "2020-08-24T14:38:02.452093",
     "status": "completed"
    },
    "tags": []
   },
   "outputs": [],
   "source": [
    "KRR = KernelRidge(alpha=0.6, kernel='polynomial', degree=2, coef0=2.5)\n"
   ]
  },
  {
   "cell_type": "code",
   "execution_count": 48,
   "metadata": {
    "execution": {
     "iopub.execute_input": "2020-08-24T14:38:02.535169Z",
     "iopub.status.busy": "2020-08-24T14:38:02.534432Z",
     "iopub.status.idle": "2020-08-24T14:38:02.538059Z",
     "shell.execute_reply": "2020-08-24T14:38:02.538533Z"
    },
    "papermill": {
     "duration": 0.032111,
     "end_time": "2020-08-24T14:38:02.538695",
     "exception": false,
     "start_time": "2020-08-24T14:38:02.506584",
     "status": "completed"
    },
    "tags": []
   },
   "outputs": [],
   "source": [
    "GBoost = GradientBoostingRegressor(n_estimators=500, learning_rate=0.05,\n",
    "                                   max_depth=4, max_features='sqrt',\n",
    "                                   min_samples_leaf=15, min_samples_split=10, \n",
    "                                   loss='huber', random_state =5)"
   ]
  },
  {
   "cell_type": "code",
   "execution_count": 49,
   "metadata": {
    "execution": {
     "iopub.execute_input": "2020-08-24T14:38:02.590326Z",
     "iopub.status.busy": "2020-08-24T14:38:02.589637Z",
     "iopub.status.idle": "2020-08-24T14:38:02.594189Z",
     "shell.execute_reply": "2020-08-24T14:38:02.593638Z"
    },
    "papermill": {
     "duration": 0.033112,
     "end_time": "2020-08-24T14:38:02.594321",
     "exception": false,
     "start_time": "2020-08-24T14:38:02.561209",
     "status": "completed"
    },
    "tags": []
   },
   "outputs": [],
   "source": [
    "model_xgb = xgb.XGBRegressor(colsample_bytree=0.4603, gamma=0.0468, \n",
    "                             learning_rate=0.05, max_depth=3, \n",
    "                             min_child_weight=1.7817, n_estimators=2200,\n",
    "                             reg_alpha=0.4640, reg_lambda=0.8571,\n",
    "                             subsample=0.5213, silent=1,\n",
    "                             random_state =7, nthread = -1)"
   ]
  },
  {
   "cell_type": "code",
   "execution_count": 50,
   "metadata": {
    "execution": {
     "iopub.execute_input": "2020-08-24T14:38:02.643982Z",
     "iopub.status.busy": "2020-08-24T14:38:02.643207Z",
     "iopub.status.idle": "2020-08-24T14:38:02.646591Z",
     "shell.execute_reply": "2020-08-24T14:38:02.646057Z"
    },
    "papermill": {
     "duration": 0.030665,
     "end_time": "2020-08-24T14:38:02.646709",
     "exception": false,
     "start_time": "2020-08-24T14:38:02.616044",
     "status": "completed"
    },
    "tags": []
   },
   "outputs": [],
   "source": [
    "model_lgb = lgb.LGBMRegressor(objective='regression',num_leaves=5,\n",
    "                              learning_rate=0.05, n_estimators=720,\n",
    "                              max_bin = 55, bagging_fraction = 0.8,\n",
    "                              bagging_freq = 5, feature_fraction = 0.2319,\n",
    "                              feature_fraction_seed=9, bagging_seed=9,\n",
    "                              min_data_in_leaf =6, min_sum_hessian_in_leaf = 11)"
   ]
  },
  {
   "cell_type": "code",
   "execution_count": 51,
   "metadata": {
    "execution": {
     "iopub.execute_input": "2020-08-24T14:38:02.697083Z",
     "iopub.status.busy": "2020-08-24T14:38:02.696398Z",
     "iopub.status.idle": "2020-08-24T14:38:03.787186Z",
     "shell.execute_reply": "2020-08-24T14:38:03.786225Z"
    },
    "papermill": {
     "duration": 1.118386,
     "end_time": "2020-08-24T14:38:03.787371",
     "exception": false,
     "start_time": "2020-08-24T14:38:02.668985",
     "status": "completed"
    },
    "tags": []
   },
   "outputs": [
    {
     "name": "stdout",
     "output_type": "stream",
     "text": [
      "[14:38:02] WARNING: /workspace/src/learner.cc:480: \n",
      "Parameters: { silent } might not be used.\n",
      "\n",
      "  This may not be accurate due to some parameters are only used in language bindings but\n",
      "  passed down to XGBoost core.  Or some parameters are not used but slip through this\n",
      "  verification. Please open an issue if you find above cases.\n",
      "\n",
      "\n"
     ]
    },
    {
     "data": {
      "text/plain": [
       "XGBRegressor(base_score=0.5, booster='gbtree', colsample_bylevel=1,\n",
       "             colsample_bynode=1, colsample_bytree=0.4603, gamma=0.0468,\n",
       "             gpu_id=-1, importance_type='gain', interaction_constraints='',\n",
       "             learning_rate=0.05, max_delta_step=0, max_depth=3,\n",
       "             min_child_weight=1.7817, missing=nan, monotone_constraints='()',\n",
       "             n_estimators=2200, n_jobs=-1, nthread=-1, num_parallel_tree=1,\n",
       "             random_state=7, reg_alpha=0.464, reg_lambda=0.8571,\n",
       "             scale_pos_weight=1, silent=1, subsample=0.5213,\n",
       "             tree_method='exact', validate_parameters=1, verbosity=None)"
      ]
     },
     "execution_count": 51,
     "metadata": {},
     "output_type": "execute_result"
    }
   ],
   "source": [
    "model_xgb.fit(X_train, y_train)"
   ]
  },
  {
   "cell_type": "code",
   "execution_count": 52,
   "metadata": {
    "execution": {
     "iopub.execute_input": "2020-08-24T14:38:03.844236Z",
     "iopub.status.busy": "2020-08-24T14:38:03.843493Z",
     "iopub.status.idle": "2020-08-24T14:38:03.846770Z",
     "shell.execute_reply": "2020-08-24T14:38:03.846132Z"
    },
    "papermill": {
     "duration": 0.033086,
     "end_time": "2020-08-24T14:38:03.846926",
     "exception": false,
     "start_time": "2020-08-24T14:38:03.813840",
     "status": "completed"
    },
    "tags": []
   },
   "outputs": [],
   "source": [
    "xg = xgb.XGBRegressor(base_score=0.5, booster='gbtree', colsample_bylevel=1,\n",
    "             colsample_bynode=1, colsample_bytree=0.4603, gamma=0.0468,\n",
    "             gpu_id=-1, importance_type='gain', interaction_constraints='',\n",
    "             learning_rate=0.05, max_delta_step=0, max_depth=3,\n",
    "             min_child_weight=1.7817, missing=np.nan, monotone_constraints='()',\n",
    "             n_estimators=2200, n_jobs=-1, nthread=-1, num_parallel_tree=1,\n",
    "             random_state=7, reg_alpha=0.464, reg_lambda=0.8571,\n",
    "             scale_pos_weight=1, silent=1, subsample=0.5213,\n",
    "             tree_method='exact', validate_parameters=1, verbosity=None)\n",
    "\n",
    "\n"
   ]
  },
  {
   "cell_type": "code",
   "execution_count": 53,
   "metadata": {
    "execution": {
     "iopub.execute_input": "2020-08-24T14:38:03.898803Z",
     "iopub.status.busy": "2020-08-24T14:38:03.897334Z",
     "iopub.status.idle": "2020-08-24T14:38:03.930227Z",
     "shell.execute_reply": "2020-08-24T14:38:03.929650Z"
    },
    "papermill": {
     "duration": 0.061135,
     "end_time": "2020-08-24T14:38:03.930362",
     "exception": false,
     "start_time": "2020-08-24T14:38:03.869227",
     "status": "completed"
    },
    "tags": []
   },
   "outputs": [
    {
     "data": {
      "text/plain": [
       "1.0123749426032018"
      ]
     },
     "execution_count": 53,
     "metadata": {},
     "output_type": "execute_result"
    }
   ],
   "source": [
    "score_lasso = rmsle_cv(lasso)\n",
    "score_lasso.mean()\n",
    "#print(\"\\nLasso score: {:.4f} ({:.4f})\\n\".format(score.mean(), score.std()))\n",
    "\n"
   ]
  },
  {
   "cell_type": "code",
   "execution_count": 54,
   "metadata": {
    "execution": {
     "iopub.execute_input": "2020-08-24T14:38:03.982458Z",
     "iopub.status.busy": "2020-08-24T14:38:03.981724Z",
     "iopub.status.idle": "2020-08-24T14:38:08.470846Z",
     "shell.execute_reply": "2020-08-24T14:38:08.471800Z"
    },
    "papermill": {
     "duration": 4.518493,
     "end_time": "2020-08-24T14:38:08.472054",
     "exception": false,
     "start_time": "2020-08-24T14:38:03.953561",
     "status": "completed"
    },
    "tags": []
   },
   "outputs": [
    {
     "name": "stdout",
     "output_type": "stream",
     "text": [
      "[14:38:03] WARNING: /workspace/src/learner.cc:480: \n",
      "Parameters: { silent } might not be used.\n",
      "\n",
      "  This may not be accurate due to some parameters are only used in language bindings but\n",
      "  passed down to XGBoost core.  Or some parameters are not used but slip through this\n",
      "  verification. Please open an issue if you find above cases.\n",
      "\n",
      "\n",
      "[14:38:04] WARNING: /workspace/src/learner.cc:480: \n",
      "Parameters: { silent } might not be used.\n",
      "\n",
      "  This may not be accurate due to some parameters are only used in language bindings but\n",
      "  passed down to XGBoost core.  Or some parameters are not used but slip through this\n",
      "  verification. Please open an issue if you find above cases.\n",
      "\n",
      "\n",
      "[14:38:05] WARNING: /workspace/src/learner.cc:480: \n",
      "Parameters: { silent } might not be used.\n",
      "\n",
      "  This may not be accurate due to some parameters are only used in language bindings but\n",
      "  passed down to XGBoost core.  Or some parameters are not used but slip through this\n",
      "  verification. Please open an issue if you find above cases.\n",
      "\n",
      "\n",
      "[14:38:06] WARNING: /workspace/src/learner.cc:480: \n",
      "Parameters: { silent } might not be used.\n",
      "\n",
      "  This may not be accurate due to some parameters are only used in language bindings but\n",
      "  passed down to XGBoost core.  Or some parameters are not used but slip through this\n",
      "  verification. Please open an issue if you find above cases.\n",
      "\n",
      "\n",
      "[14:38:07] WARNING: /workspace/src/learner.cc:480: \n",
      "Parameters: { silent } might not be used.\n",
      "\n",
      "  This may not be accurate due to some parameters are only used in language bindings but\n",
      "  passed down to XGBoost core.  Or some parameters are not used but slip through this\n",
      "  verification. Please open an issue if you find above cases.\n",
      "\n",
      "\n",
      "ElasticNet score: 1.1544 (0.0312)\n",
      "\n"
     ]
    }
   ],
   "source": [
    "score = rmsle_cv(model_xgb)\n",
    "print(\"ElasticNet score: {:.4f} ({:.4f})\\n\".format(score.mean(), score.std()))\n"
   ]
  },
  {
   "cell_type": "code",
   "execution_count": 55,
   "metadata": {
    "execution": {
     "iopub.execute_input": "2020-08-24T14:38:08.529280Z",
     "iopub.status.busy": "2020-08-24T14:38:08.528566Z",
     "iopub.status.idle": "2020-08-24T14:38:08.556247Z",
     "shell.execute_reply": "2020-08-24T14:38:08.555619Z"
    },
    "papermill": {
     "duration": 0.057665,
     "end_time": "2020-08-24T14:38:08.556381",
     "exception": false,
     "start_time": "2020-08-24T14:38:08.498716",
     "status": "completed"
    },
    "tags": []
   },
   "outputs": [
    {
     "name": "stdout",
     "output_type": "stream",
     "text": [
      "ElasticNet score: 1.0124 (0.0670)\n",
      "\n"
     ]
    }
   ],
   "source": [
    "score = rmsle_cv(ENet)\n",
    "print(\"ElasticNet score: {:.4f} ({:.4f})\\n\".format(score.mean(), score.std()))"
   ]
  },
  {
   "cell_type": "code",
   "execution_count": 56,
   "metadata": {
    "execution": {
     "iopub.execute_input": "2020-08-24T14:38:08.609844Z",
     "iopub.status.busy": "2020-08-24T14:38:08.609047Z",
     "iopub.status.idle": "2020-08-24T14:38:09.200956Z",
     "shell.execute_reply": "2020-08-24T14:38:09.200255Z"
    },
    "papermill": {
     "duration": 0.621094,
     "end_time": "2020-08-24T14:38:09.201107",
     "exception": false,
     "start_time": "2020-08-24T14:38:08.580013",
     "status": "completed"
    },
    "tags": []
   },
   "outputs": [
    {
     "name": "stdout",
     "output_type": "stream",
     "text": [
      " score: 1.0547 (0.0570)\n",
      "\n"
     ]
    }
   ],
   "source": [
    "score = rmsle_cv(model_lgb)\n",
    "print(\" score: {:.4f} ({:.4f})\\n\".format(score.mean(), score.std()))"
   ]
  },
  {
   "cell_type": "code",
   "execution_count": 57,
   "metadata": {
    "execution": {
     "iopub.execute_input": "2020-08-24T14:38:09.256117Z",
     "iopub.status.busy": "2020-08-24T14:38:09.253791Z",
     "iopub.status.idle": "2020-08-24T14:38:09.281686Z",
     "shell.execute_reply": "2020-08-24T14:38:09.280946Z"
    },
    "papermill": {
     "duration": 0.057053,
     "end_time": "2020-08-24T14:38:09.281844",
     "exception": false,
     "start_time": "2020-08-24T14:38:09.224791",
     "status": "completed"
    },
    "tags": []
   },
   "outputs": [
    {
     "name": "stdout",
     "output_type": "stream",
     "text": [
      " score: 1.0124 (0.0670)\n",
      "\n"
     ]
    }
   ],
   "source": [
    "score = rmsle_cv(lasso)\n",
    "print(\" score: {:.4f} ({:.4f})\\n\".format(score.mean(), score.std()))"
   ]
  },
  {
   "cell_type": "code",
   "execution_count": 58,
   "metadata": {
    "execution": {
     "iopub.execute_input": "2020-08-24T14:38:09.335976Z",
     "iopub.status.busy": "2020-08-24T14:38:09.335190Z",
     "iopub.status.idle": "2020-08-24T14:38:17.960261Z",
     "shell.execute_reply": "2020-08-24T14:38:17.959096Z"
    },
    "papermill": {
     "duration": 8.655165,
     "end_time": "2020-08-24T14:38:17.960489",
     "exception": false,
     "start_time": "2020-08-24T14:38:09.305324",
     "status": "completed"
    },
    "tags": []
   },
   "outputs": [
    {
     "name": "stdout",
     "output_type": "stream",
     "text": [
      " score: 1.0617 (0.0510)\n",
      "\n"
     ]
    }
   ],
   "source": [
    "score = rmsle_cv(GBoost)\n",
    "GBoost.fit(X_train, y_train)\n",
    "sample = GBoost.predict(test)\n",
    "sample = np.exp(sample)\n",
    "print(\" score: {:.4f} ({:.4f})\\n\".format(score.mean(), score.std()))"
   ]
  },
  {
   "cell_type": "code",
   "execution_count": 59,
   "metadata": {
    "execution": {
     "iopub.execute_input": "2020-08-24T14:38:18.021922Z",
     "iopub.status.busy": "2020-08-24T14:38:18.020909Z",
     "iopub.status.idle": "2020-08-24T14:38:18.028465Z",
     "shell.execute_reply": "2020-08-24T14:38:18.026503Z"
    },
    "papermill": {
     "duration": 0.043031,
     "end_time": "2020-08-24T14:38:18.028732",
     "exception": false,
     "start_time": "2020-08-24T14:38:17.985701",
     "status": "completed"
    },
    "tags": []
   },
   "outputs": [],
   "source": [
    "class AveragingModels(BaseEstimator, RegressorMixin, TransformerMixin):\n",
    "    def __init__(self, models):\n",
    "        self.models = models\n",
    "        \n",
    "    # we define clones of the original models to fit the data in\n",
    "    def fit(self, X, y):\n",
    "        self.models_ = [clone(x) for x in self.models]\n",
    "        \n",
    "        # Train cloned base models\n",
    "        for model in self.models_:\n",
    "            model.fit(X, y)\n",
    "\n",
    "        return self\n",
    "    \n",
    "    #Now we do the predictions for cloned models and average them\n",
    "    def predict(self, X):\n",
    "        predictions = np.column_stack([\n",
    "            model.predict(X) for model in self.models_\n",
    "        ])\n",
    "        return np.mean(predictions, axis=1)   "
   ]
  },
  {
   "cell_type": "code",
   "execution_count": 60,
   "metadata": {
    "execution": {
     "iopub.execute_input": "2020-08-24T14:38:18.101134Z",
     "iopub.status.busy": "2020-08-24T14:38:18.100375Z",
     "iopub.status.idle": "2020-08-24T14:38:27.288570Z",
     "shell.execute_reply": "2020-08-24T14:38:27.287993Z"
    },
    "papermill": {
     "duration": 9.227394,
     "end_time": "2020-08-24T14:38:27.288715",
     "exception": false,
     "start_time": "2020-08-24T14:38:18.061321",
     "status": "completed"
    },
    "tags": []
   },
   "outputs": [
    {
     "name": "stdout",
     "output_type": "stream",
     "text": [
      " Averaged base models score: 1.0088 (0.0623)\n",
      "\n"
     ]
    }
   ],
   "source": [
    "averaged_models = AveragingModels(models = (ENet, GBoost, KRR, lasso))\n",
    "\n",
    "score = rmsle_cv(averaged_models)\n",
    "print(\" Averaged base models score: {:.4f} ({:.4f})\\n\".format(score.mean(), score.std()))\n",
    "\n",
    "averaged_models.fit(X_train, y_train)\n",
    "submission = averaged_models.predict(test)\n",
    "submission = np.exp(submission)\n",
    "#xgb_train_pred = averaged_models.predict(X_train)\n",
    "#xgb_pred = np.expm1(averaged_models.predict(test))\n",
    "#print(rmsle(y_train, xgb_train_pred))"
   ]
  },
  {
   "cell_type": "code",
   "execution_count": 61,
   "metadata": {
    "execution": {
     "iopub.execute_input": "2020-08-24T14:38:27.347610Z",
     "iopub.status.busy": "2020-08-24T14:38:27.346529Z",
     "iopub.status.idle": "2020-08-24T14:38:27.349957Z",
     "shell.execute_reply": "2020-08-24T14:38:27.349277Z"
    },
    "papermill": {
     "duration": 0.037903,
     "end_time": "2020-08-24T14:38:27.350093",
     "exception": false,
     "start_time": "2020-08-24T14:38:27.312190",
     "status": "completed"
    },
    "tags": []
   },
   "outputs": [],
   "source": [
    "class StackingAveragedModels(BaseEstimator, RegressorMixin, TransformerMixin):\n",
    "    def __init__(self, base_models, meta_model, n_folds=5):\n",
    "        self.base_models = base_models\n",
    "        self.meta_model = meta_model\n",
    "        self.n_folds = n_folds\n",
    "   \n",
    "    # We again fit the data on clones of the original models\n",
    "    def fit(self, X, y):\n",
    "        self.base_models_ = [list() for x in self.base_models]\n",
    "        self.meta_model_ = clone(self.meta_model)\n",
    "        kfold = KFold(n_splits=self.n_folds, shuffle=True, random_state=156)\n",
    "        \n",
    "        # Train cloned base models then create out-of-fold predictions\n",
    "        # that are needed to train the cloned meta-model\n",
    "        out_of_fold_predictions = np.zeros((X.shape[0], len(self.base_models)))\n",
    "        for i, model in enumerate(self.base_models):\n",
    "            for train_index, holdout_index in kfold.split(X, y):\n",
    "                instance = clone(model)\n",
    "                self.base_models_[i].append(instance)\n",
    "                instance.fit(X[train_index], y[train_index])\n",
    "                y_pred = instance.predict(X[holdout_index])\n",
    "                out_of_fold_predictions[holdout_index, i] = y_pred\n",
    "                \n",
    "        # Now train the cloned  meta-model using the out-of-fold predictions as new feature\n",
    "        self.meta_model_.fit(out_of_fold_predictions, y)\n",
    "        return self"
   ]
  },
  {
   "cell_type": "code",
   "execution_count": 62,
   "metadata": {
    "execution": {
     "iopub.execute_input": "2020-08-24T14:38:27.405110Z",
     "iopub.status.busy": "2020-08-24T14:38:27.402586Z",
     "iopub.status.idle": "2020-08-24T14:38:27.446295Z",
     "shell.execute_reply": "2020-08-24T14:38:27.446989Z"
    },
    "papermill": {
     "duration": 0.073547,
     "end_time": "2020-08-24T14:38:27.447165",
     "exception": false,
     "start_time": "2020-08-24T14:38:27.373618",
     "status": "completed"
    },
    "tags": []
   },
   "outputs": [
    {
     "name": "stdout",
     "output_type": "stream",
     "text": [
      "Stacking Averaged models score: nan (nan)\n"
     ]
    },
    {
     "name": "stderr",
     "output_type": "stream",
     "text": [
      "/opt/conda/lib/python3.7/site-packages/sklearn/model_selection/_validation.py:552: FitFailedWarning: Estimator fit failed. The score on this train-test partition for these parameters will be set to nan. Details: \n",
      "Traceback (most recent call last):\n",
      "  File \"/opt/conda/lib/python3.7/site-packages/sklearn/model_selection/_validation.py\", line 531, in _fit_and_score\n",
      "    estimator.fit(X_train, y_train, **fit_params)\n",
      "  File \"<ipython-input-61-2aa4dfd43e52>\", line 20, in fit\n",
      "    instance.fit(X[train_index], y[train_index])\n",
      "  File \"/opt/conda/lib/python3.7/site-packages/pandas/core/series.py\", line 908, in __getitem__\n",
      "    return self._get_with(key)\n",
      "  File \"/opt/conda/lib/python3.7/site-packages/pandas/core/series.py\", line 943, in _get_with\n",
      "    return self.loc[key]\n",
      "  File \"/opt/conda/lib/python3.7/site-packages/pandas/core/indexing.py\", line 879, in __getitem__\n",
      "    return self._getitem_axis(maybe_callable, axis=axis)\n",
      "  File \"/opt/conda/lib/python3.7/site-packages/pandas/core/indexing.py\", line 1099, in _getitem_axis\n",
      "    return self._getitem_iterable(key, axis=axis)\n",
      "  File \"/opt/conda/lib/python3.7/site-packages/pandas/core/indexing.py\", line 1037, in _getitem_iterable\n",
      "    keyarr, indexer = self._get_listlike_indexer(key, axis, raise_missing=False)\n",
      "  File \"/opt/conda/lib/python3.7/site-packages/pandas/core/indexing.py\", line 1254, in _get_listlike_indexer\n",
      "    self._validate_read_indexer(keyarr, indexer, axis, raise_missing=raise_missing)\n",
      "  File \"/opt/conda/lib/python3.7/site-packages/pandas/core/indexing.py\", line 1316, in _validate_read_indexer\n",
      "    \"Passing list-likes to .loc or [] with any missing labels \"\n",
      "KeyError: \"Passing list-likes to .loc or [] with any missing labels is no longer supported. The following labels were missing: Int64Index([   0,    2,    3,    9,   11,\\n            ...\\n            1216, 1220, 1222, 1234, 1243],\\n           dtype='int64', length=362). See https://pandas.pydata.org/pandas-docs/stable/user_guide/indexing.html#deprecate-loc-reindex-listlike\"\n",
      "\n",
      "  FitFailedWarning)\n",
      "/opt/conda/lib/python3.7/site-packages/sklearn/model_selection/_validation.py:552: FitFailedWarning: Estimator fit failed. The score on this train-test partition for these parameters will be set to nan. Details: \n",
      "Traceback (most recent call last):\n",
      "  File \"/opt/conda/lib/python3.7/site-packages/sklearn/model_selection/_validation.py\", line 531, in _fit_and_score\n",
      "    estimator.fit(X_train, y_train, **fit_params)\n",
      "  File \"<ipython-input-61-2aa4dfd43e52>\", line 20, in fit\n",
      "    instance.fit(X[train_index], y[train_index])\n",
      "  File \"/opt/conda/lib/python3.7/site-packages/pandas/core/series.py\", line 908, in __getitem__\n",
      "    return self._get_with(key)\n",
      "  File \"/opt/conda/lib/python3.7/site-packages/pandas/core/series.py\", line 943, in _get_with\n",
      "    return self.loc[key]\n",
      "  File \"/opt/conda/lib/python3.7/site-packages/pandas/core/indexing.py\", line 879, in __getitem__\n",
      "    return self._getitem_axis(maybe_callable, axis=axis)\n",
      "  File \"/opt/conda/lib/python3.7/site-packages/pandas/core/indexing.py\", line 1099, in _getitem_axis\n",
      "    return self._getitem_iterable(key, axis=axis)\n",
      "  File \"/opt/conda/lib/python3.7/site-packages/pandas/core/indexing.py\", line 1037, in _getitem_iterable\n",
      "    keyarr, indexer = self._get_listlike_indexer(key, axis, raise_missing=False)\n",
      "  File \"/opt/conda/lib/python3.7/site-packages/pandas/core/indexing.py\", line 1254, in _get_listlike_indexer\n",
      "    self._validate_read_indexer(keyarr, indexer, axis, raise_missing=raise_missing)\n",
      "  File \"/opt/conda/lib/python3.7/site-packages/pandas/core/indexing.py\", line 1316, in _validate_read_indexer\n",
      "    \"Passing list-likes to .loc or [] with any missing labels \"\n",
      "KeyError: \"Passing list-likes to .loc or [] with any missing labels is no longer supported. The following labels were missing: Int64Index([   0,    3,    4,    7,   13,\\n            ...\\n            1220, 1222, 1227, 1235, 1238],\\n           dtype='int64', length=361). See https://pandas.pydata.org/pandas-docs/stable/user_guide/indexing.html#deprecate-loc-reindex-listlike\"\n",
      "\n",
      "  FitFailedWarning)\n",
      "/opt/conda/lib/python3.7/site-packages/sklearn/model_selection/_validation.py:552: FitFailedWarning: Estimator fit failed. The score on this train-test partition for these parameters will be set to nan. Details: \n",
      "Traceback (most recent call last):\n",
      "  File \"/opt/conda/lib/python3.7/site-packages/sklearn/model_selection/_validation.py\", line 531, in _fit_and_score\n",
      "    estimator.fit(X_train, y_train, **fit_params)\n",
      "  File \"<ipython-input-61-2aa4dfd43e52>\", line 20, in fit\n",
      "    instance.fit(X[train_index], y[train_index])\n",
      "  File \"/opt/conda/lib/python3.7/site-packages/pandas/core/series.py\", line 908, in __getitem__\n",
      "    return self._get_with(key)\n",
      "  File \"/opt/conda/lib/python3.7/site-packages/pandas/core/series.py\", line 943, in _get_with\n",
      "    return self.loc[key]\n",
      "  File \"/opt/conda/lib/python3.7/site-packages/pandas/core/indexing.py\", line 879, in __getitem__\n",
      "    return self._getitem_axis(maybe_callable, axis=axis)\n",
      "  File \"/opt/conda/lib/python3.7/site-packages/pandas/core/indexing.py\", line 1099, in _getitem_axis\n",
      "    return self._getitem_iterable(key, axis=axis)\n",
      "  File \"/opt/conda/lib/python3.7/site-packages/pandas/core/indexing.py\", line 1037, in _getitem_iterable\n",
      "    keyarr, indexer = self._get_listlike_indexer(key, axis, raise_missing=False)\n",
      "  File \"/opt/conda/lib/python3.7/site-packages/pandas/core/indexing.py\", line 1254, in _get_listlike_indexer\n",
      "    self._validate_read_indexer(keyarr, indexer, axis, raise_missing=raise_missing)\n",
      "  File \"/opt/conda/lib/python3.7/site-packages/pandas/core/indexing.py\", line 1316, in _validate_read_indexer\n",
      "    \"Passing list-likes to .loc or [] with any missing labels \"\n",
      "KeyError: \"Passing list-likes to .loc or [] with any missing labels is no longer supported. The following labels were missing: Int64Index([   0,    3,    5,   13,   16,\\n            ...\\n            1229, 1232, 1237, 1239, 1244],\\n           dtype='int64', length=349). See https://pandas.pydata.org/pandas-docs/stable/user_guide/indexing.html#deprecate-loc-reindex-listlike\"\n",
      "\n",
      "  FitFailedWarning)\n",
      "/opt/conda/lib/python3.7/site-packages/sklearn/model_selection/_validation.py:552: FitFailedWarning: Estimator fit failed. The score on this train-test partition for these parameters will be set to nan. Details: \n",
      "Traceback (most recent call last):\n",
      "  File \"/opt/conda/lib/python3.7/site-packages/sklearn/model_selection/_validation.py\", line 531, in _fit_and_score\n",
      "    estimator.fit(X_train, y_train, **fit_params)\n",
      "  File \"<ipython-input-61-2aa4dfd43e52>\", line 20, in fit\n",
      "    instance.fit(X[train_index], y[train_index])\n",
      "  File \"/opt/conda/lib/python3.7/site-packages/pandas/core/series.py\", line 908, in __getitem__\n",
      "    return self._get_with(key)\n",
      "  File \"/opt/conda/lib/python3.7/site-packages/pandas/core/series.py\", line 943, in _get_with\n",
      "    return self.loc[key]\n",
      "  File \"/opt/conda/lib/python3.7/site-packages/pandas/core/indexing.py\", line 879, in __getitem__\n",
      "    return self._getitem_axis(maybe_callable, axis=axis)\n",
      "  File \"/opt/conda/lib/python3.7/site-packages/pandas/core/indexing.py\", line 1099, in _getitem_axis\n",
      "    return self._getitem_iterable(key, axis=axis)\n",
      "  File \"/opt/conda/lib/python3.7/site-packages/pandas/core/indexing.py\", line 1037, in _getitem_iterable\n",
      "    keyarr, indexer = self._get_listlike_indexer(key, axis, raise_missing=False)\n",
      "  File \"/opt/conda/lib/python3.7/site-packages/pandas/core/indexing.py\", line 1254, in _get_listlike_indexer\n",
      "    self._validate_read_indexer(keyarr, indexer, axis, raise_missing=raise_missing)\n",
      "  File \"/opt/conda/lib/python3.7/site-packages/pandas/core/indexing.py\", line 1316, in _validate_read_indexer\n",
      "    \"Passing list-likes to .loc or [] with any missing labels \"\n",
      "KeyError: \"Passing list-likes to .loc or [] with any missing labels is no longer supported. The following labels were missing: Int64Index([   0,    3,    8,   10,   13,\\n            ...\\n            1221, 1222, 1224, 1226, 1237],\\n           dtype='int64', length=366). See https://pandas.pydata.org/pandas-docs/stable/user_guide/indexing.html#deprecate-loc-reindex-listlike\"\n",
      "\n",
      "  FitFailedWarning)\n",
      "/opt/conda/lib/python3.7/site-packages/sklearn/model_selection/_validation.py:552: FitFailedWarning: Estimator fit failed. The score on this train-test partition for these parameters will be set to nan. Details: \n",
      "Traceback (most recent call last):\n",
      "  File \"/opt/conda/lib/python3.7/site-packages/sklearn/model_selection/_validation.py\", line 531, in _fit_and_score\n",
      "    estimator.fit(X_train, y_train, **fit_params)\n",
      "  File \"<ipython-input-61-2aa4dfd43e52>\", line 20, in fit\n",
      "    instance.fit(X[train_index], y[train_index])\n",
      "  File \"/opt/conda/lib/python3.7/site-packages/pandas/core/series.py\", line 908, in __getitem__\n",
      "    return self._get_with(key)\n",
      "  File \"/opt/conda/lib/python3.7/site-packages/pandas/core/series.py\", line 943, in _get_with\n",
      "    return self.loc[key]\n",
      "  File \"/opt/conda/lib/python3.7/site-packages/pandas/core/indexing.py\", line 879, in __getitem__\n",
      "    return self._getitem_axis(maybe_callable, axis=axis)\n",
      "  File \"/opt/conda/lib/python3.7/site-packages/pandas/core/indexing.py\", line 1099, in _getitem_axis\n",
      "    return self._getitem_iterable(key, axis=axis)\n",
      "  File \"/opt/conda/lib/python3.7/site-packages/pandas/core/indexing.py\", line 1037, in _getitem_iterable\n",
      "    keyarr, indexer = self._get_listlike_indexer(key, axis, raise_missing=False)\n",
      "  File \"/opt/conda/lib/python3.7/site-packages/pandas/core/indexing.py\", line 1254, in _get_listlike_indexer\n",
      "    self._validate_read_indexer(keyarr, indexer, axis, raise_missing=raise_missing)\n",
      "  File \"/opt/conda/lib/python3.7/site-packages/pandas/core/indexing.py\", line 1316, in _validate_read_indexer\n",
      "    \"Passing list-likes to .loc or [] with any missing labels \"\n",
      "KeyError: \"Passing list-likes to .loc or [] with any missing labels is no longer supported. The following labels were missing: Int64Index([   0,    1,    3,    6,   13,\\n            ...\\n            1222, 1228, 1233, 1236, 1237],\\n           dtype='int64', length=360). See https://pandas.pydata.org/pandas-docs/stable/user_guide/indexing.html#deprecate-loc-reindex-listlike\"\n",
      "\n",
      "  FitFailedWarning)\n"
     ]
    }
   ],
   "source": [
    "\n",
    "\n",
    "stacked_averaged_models = StackingAveragedModels(base_models = (ENet, GBoost, KRR),\n",
    "                                                 meta_model = lasso)\n",
    "\n",
    "score = rmsle_cv(stacked_averaged_models)\n",
    "print(\"Stacking Averaged models score: {:.4f} ({:.4f})\".format(score.mean(), score.std()))"
   ]
  },
  {
   "cell_type": "code",
   "execution_count": 63,
   "metadata": {
    "execution": {
     "iopub.execute_input": "2020-08-24T14:38:27.502358Z",
     "iopub.status.busy": "2020-08-24T14:38:27.501467Z",
     "iopub.status.idle": "2020-08-24T14:38:27.504595Z",
     "shell.execute_reply": "2020-08-24T14:38:27.504001Z"
    },
    "papermill": {
     "duration": 0.033158,
     "end_time": "2020-08-24T14:38:27.504719",
     "exception": false,
     "start_time": "2020-08-24T14:38:27.471561",
     "status": "completed"
    },
    "tags": []
   },
   "outputs": [],
   "source": [
    "def rmsle(y, y_pred):\n",
    "    return np.sqrt(mean_squared_error(y, y_pred))"
   ]
  },
  {
   "cell_type": "code",
   "execution_count": 64,
   "metadata": {
    "execution": {
     "iopub.execute_input": "2020-08-24T14:38:27.557701Z",
     "iopub.status.busy": "2020-08-24T14:38:27.556677Z",
     "iopub.status.idle": "2020-08-24T14:38:27.560014Z",
     "shell.execute_reply": "2020-08-24T14:38:27.559447Z"
    },
    "papermill": {
     "duration": 0.031448,
     "end_time": "2020-08-24T14:38:27.560146",
     "exception": false,
     "start_time": "2020-08-24T14:38:27.528698",
     "status": "completed"
    },
    "tags": []
   },
   "outputs": [],
   "source": [
    "#stacked_averaged_models.fit(X_train, y_train)\n",
    "#stacked_train_pred = stacked_averaged_models.predict(X_train)\n",
    "#stacked_pred = np.expm1(stacked_averaged_models.predict(X_test))\n",
    "#print(rmsle(y_train, stacked_train_pred))"
   ]
  },
  {
   "cell_type": "code",
   "execution_count": 65,
   "metadata": {
    "execution": {
     "iopub.execute_input": "2020-08-24T14:38:27.618063Z",
     "iopub.status.busy": "2020-08-24T14:38:27.617379Z",
     "iopub.status.idle": "2020-08-24T14:38:27.622451Z",
     "shell.execute_reply": "2020-08-24T14:38:27.621810Z"
    },
    "papermill": {
     "duration": 0.038685,
     "end_time": "2020-08-24T14:38:27.622571",
     "exception": false,
     "start_time": "2020-08-24T14:38:27.583886",
     "status": "completed"
    },
    "tags": []
   },
   "outputs": [
    {
     "data": {
      "text/html": [
       "<div>\n",
       "<style scoped>\n",
       "    .dataframe tbody tr th:only-of-type {\n",
       "        vertical-align: middle;\n",
       "    }\n",
       "\n",
       "    .dataframe tbody tr th {\n",
       "        vertical-align: top;\n",
       "    }\n",
       "\n",
       "    .dataframe thead th {\n",
       "        text-align: right;\n",
       "    }\n",
       "</style>\n",
       "<table border=\"1\" class=\"dataframe\">\n",
       "  <thead>\n",
       "    <tr style=\"text-align: right;\">\n",
       "      <th></th>\n",
       "      <th>ed</th>\n",
       "      <th>inc</th>\n",
       "      <th>pop</th>\n",
       "    </tr>\n",
       "  </thead>\n",
       "  <tbody>\n",
       "    <tr>\n",
       "      <th>0</th>\n",
       "      <td>3.443618</td>\n",
       "      <td>10.961069</td>\n",
       "      <td>12.315976</td>\n",
       "    </tr>\n",
       "    <tr>\n",
       "      <th>1</th>\n",
       "      <td>2.501436</td>\n",
       "      <td>10.445288</td>\n",
       "      <td>10.113992</td>\n",
       "    </tr>\n",
       "    <tr>\n",
       "      <th>2</th>\n",
       "      <td>2.890372</td>\n",
       "      <td>10.723267</td>\n",
       "      <td>11.640483</td>\n",
       "    </tr>\n",
       "    <tr>\n",
       "      <th>3</th>\n",
       "      <td>2.557227</td>\n",
       "      <td>10.648563</td>\n",
       "      <td>10.173362</td>\n",
       "    </tr>\n",
       "    <tr>\n",
       "      <th>4</th>\n",
       "      <td>2.564949</td>\n",
       "      <td>10.594307</td>\n",
       "      <td>9.440579</td>\n",
       "    </tr>\n",
       "  </tbody>\n",
       "</table>\n",
       "</div>"
      ],
      "text/plain": [
       "         ed        inc        pop\n",
       "0  3.443618  10.961069  12.315976\n",
       "1  2.501436  10.445288  10.113992\n",
       "2  2.890372  10.723267  11.640483\n",
       "3  2.557227  10.648563  10.173362\n",
       "4  2.564949  10.594307   9.440579"
      ]
     },
     "execution_count": 65,
     "metadata": {},
     "output_type": "execute_result"
    }
   ],
   "source": [
    "test.shape\n",
    "test.head()"
   ]
  },
  {
   "cell_type": "markdown",
   "execution_count": null,
   "metadata": {
    "papermill": {
     "duration": 0.023168,
     "end_time": "2020-08-24T14:38:27.669453",
     "exception": false,
     "start_time": "2020-08-24T14:38:27.646285",
     "status": "completed"
    },
    "tags": []
   },
   "source": [
    "# **Predictions**"
   ]
  },
  {
   "cell_type": "code",
   "execution_count": 66,
   "metadata": {
    "execution": {
     "iopub.execute_input": "2020-08-24T14:38:27.722585Z",
     "iopub.status.busy": "2020-08-24T14:38:27.721532Z",
     "iopub.status.idle": "2020-08-24T14:38:27.726280Z",
     "shell.execute_reply": "2020-08-24T14:38:27.725627Z"
    },
    "papermill": {
     "duration": 0.033328,
     "end_time": "2020-08-24T14:38:27.726427",
     "exception": false,
     "start_time": "2020-08-24T14:38:27.693099",
     "status": "completed"
    },
    "tags": []
   },
   "outputs": [
    {
     "ename": "SyntaxError",
     "evalue": "invalid syntax (<ipython-input-66-b8cf43016e62>, line 1)",
     "output_type": "error",
     "traceback": [
      "\u001b[0;36m  File \u001b[0;32m\"<ipython-input-66-b8cf43016e62>\"\u001b[0;36m, line \u001b[0;32m1\u001b[0m\n\u001b[0;31m    I decided to use the stock lasso regression. Xgboost and Lgb were both banned for this competition.\u001b[0m\n\u001b[0m            ^\u001b[0m\n\u001b[0;31mSyntaxError\u001b[0m\u001b[0;31m:\u001b[0m invalid syntax\n"
     ]
    }
   ],
   "source": [
    "I decided to use the stock lasso regression. Xgboost and Lgb were both banned for this competition."
   ]
  },
  {
   "cell_type": "code",
   "execution_count": 67,
   "metadata": {
    "execution": {
     "iopub.execute_input": "2020-08-24T14:38:27.783450Z",
     "iopub.status.busy": "2020-08-24T14:38:27.782691Z",
     "iopub.status.idle": "2020-08-24T14:38:27.842857Z",
     "shell.execute_reply": "2020-08-24T14:38:27.842131Z"
    },
    "papermill": {
     "duration": 0.092435,
     "end_time": "2020-08-24T14:38:27.843018",
     "exception": false,
     "start_time": "2020-08-24T14:38:27.750583",
     "status": "completed"
    },
    "tags": []
   },
   "outputs": [
    {
     "name": "stdout",
     "output_type": "stream",
     "text": [
      "      id        cases\n",
      "0      0  1486.215007\n",
      "1      1   335.457859\n",
      "2      2   987.675912\n",
      "3      3   176.880529\n",
      "4      4    32.365714\n",
      "..   ...          ...\n",
      "988  988    76.724696\n",
      "989  989    76.535237\n",
      "990  990    28.211748\n",
      "991  991    90.824200\n",
      "992  992    13.979371\n",
      "\n",
      "[993 rows x 2 columns]\n"
     ]
    }
   ],
   "source": [
    "sub = pd.DataFrame()\n",
    "sub['id'] = range(0,993)\n",
    "sub['cases'] = sample\n",
    "sub.to_csv('submission.csv',index=False)\n",
    "print(sub)"
   ]
  },
  {
   "cell_type": "markdown",
   "execution_count": null,
   "metadata": {
    "papermill": {
     "duration": 0.023478,
     "end_time": "2020-08-24T14:38:27.890788",
     "exception": false,
     "start_time": "2020-08-24T14:38:27.867310",
     "status": "completed"
    },
    "tags": []
   },
   "source": [
    "**Thank you for viewing my notebook!**\n",
    "**I hope you found this informative**\n",
    "\n"
   ]
  },
  {
   "cell_type": "markdown",
   "execution_count": null,
   "metadata": {
    "papermill": {
     "duration": 0.023855,
     "end_time": "2020-08-24T14:38:27.938696",
     "exception": false,
     "start_time": "2020-08-24T14:38:27.914841",
     "status": "completed"
    },
    "tags": []
   },
   "source": [
    "If you could drop an upvote that would be awesome !! <3"
   ]
  }
 ],
 "metadata": {
  "kernelspec": {
   "display_name": "Python 3",
   "language": "python",
   "name": "python3"
  },
  "language_info": {
   "codemirror_mode": {
    "name": "ipython",
    "version": 3
   },
   "file_extension": ".py",
   "mimetype": "text/x-python",
   "name": "python",
   "nbconvert_exporter": "python",
   "pygments_lexer": "ipython3",
   "version": "3.7.6"
  },
  "papermill": {
   "duration": 41.869436,
   "end_time": "2020-08-24T14:38:28.071367",
   "environment_variables": {},
   "exception": null,
   "input_path": "__notebook__.ipynb",
   "output_path": "__notebook__.ipynb",
   "parameters": {},
   "start_time": "2020-08-24T14:37:46.201931",
   "version": "2.1.0"
  }
 },
 "nbformat": 4,
 "nbformat_minor": 4
}
